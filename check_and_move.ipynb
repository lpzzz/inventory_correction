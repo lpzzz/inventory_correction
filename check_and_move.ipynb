{
 "metadata": {
  "language_info": {
   "codemirror_mode": {
    "name": "ipython",
    "version": 3
   },
   "file_extension": ".py",
   "mimetype": "text/x-python",
   "name": "python",
   "nbconvert_exporter": "python",
   "pygments_lexer": "ipython3",
   "version": "3.8.3-final"
  },
  "orig_nbformat": 2,
  "kernelspec": {
   "name": "python3",
   "display_name": "Python 3"
  }
 },
 "nbformat": 4,
 "nbformat_minor": 2,
 "cells": [
  {
   "cell_type": "code",
   "execution_count": 25,
   "metadata": {},
   "outputs": [],
   "source": [
    "import pandas as pd\n",
    "import numpy as np\n",
    "import os\n",
    "FILE = os.path.join(os.getcwd(), '11_14_check.xls')\n",
    "df0 = pd.read_excel(FILE, header=1)"
   ]
  },
  {
   "cell_type": "code",
   "execution_count": 2,
   "metadata": {},
   "outputs": [
    {
     "output_type": "execute_result",
     "data": {
      "text/plain": [
       "            料品           品名    库位            批号     出      入\n",
       "0    100101-05   太粮王泰国茉莉香米5  4A00  191119006-18   4.0    4.0\n",
       "1    100101-05   太粮王泰国茉莉香米5  4AH0  191119006-18   3.0    3.0\n",
       "2    100101-25  太粮王泰国茉莉香米25  4AH5     200917050  10.0    NaN\n",
       "3    100101-25  太粮王泰国茉莉香米25  4AH4     200917050   NaN   10.0\n",
       "4    100101-25  太粮王泰国茉莉香米25  4AH5     201024003  40.0   40.0\n",
       "..         ...          ...   ...           ...   ...    ...\n",
       "701  180115-74     黑米0.4*30  4A00     200908105  39.0    NaN\n",
       "702  180115-74     黑米0.4*30  4AH0     200908105   1.0    NaN\n",
       "703  180115-74     黑米0.4*30  4A00     200908101   NaN  158.0\n",
       "704  180115-74     黑米0.4*30  4AH1     200908105   NaN   24.0\n",
       "705  180115-74     黑米0.4*30  4A00     200908105   NaN    1.0\n",
       "\n",
       "[706 rows x 6 columns]"
      ],
      "text/html": "<div>\n<style scoped>\n    .dataframe tbody tr th:only-of-type {\n        vertical-align: middle;\n    }\n\n    .dataframe tbody tr th {\n        vertical-align: top;\n    }\n\n    .dataframe thead th {\n        text-align: right;\n    }\n</style>\n<table border=\"1\" class=\"dataframe\">\n  <thead>\n    <tr style=\"text-align: right;\">\n      <th></th>\n      <th>料品</th>\n      <th>品名</th>\n      <th>库位</th>\n      <th>批号</th>\n      <th>出</th>\n      <th>入</th>\n    </tr>\n  </thead>\n  <tbody>\n    <tr>\n      <th>0</th>\n      <td>100101-05</td>\n      <td>太粮王泰国茉莉香米5</td>\n      <td>4A00</td>\n      <td>191119006-18</td>\n      <td>4.0</td>\n      <td>4.0</td>\n    </tr>\n    <tr>\n      <th>1</th>\n      <td>100101-05</td>\n      <td>太粮王泰国茉莉香米5</td>\n      <td>4AH0</td>\n      <td>191119006-18</td>\n      <td>3.0</td>\n      <td>3.0</td>\n    </tr>\n    <tr>\n      <th>2</th>\n      <td>100101-25</td>\n      <td>太粮王泰国茉莉香米25</td>\n      <td>4AH5</td>\n      <td>200917050</td>\n      <td>10.0</td>\n      <td>NaN</td>\n    </tr>\n    <tr>\n      <th>3</th>\n      <td>100101-25</td>\n      <td>太粮王泰国茉莉香米25</td>\n      <td>4AH4</td>\n      <td>200917050</td>\n      <td>NaN</td>\n      <td>10.0</td>\n    </tr>\n    <tr>\n      <th>4</th>\n      <td>100101-25</td>\n      <td>太粮王泰国茉莉香米25</td>\n      <td>4AH5</td>\n      <td>201024003</td>\n      <td>40.0</td>\n      <td>40.0</td>\n    </tr>\n    <tr>\n      <th>...</th>\n      <td>...</td>\n      <td>...</td>\n      <td>...</td>\n      <td>...</td>\n      <td>...</td>\n      <td>...</td>\n    </tr>\n    <tr>\n      <th>701</th>\n      <td>180115-74</td>\n      <td>黑米0.4*30</td>\n      <td>4A00</td>\n      <td>200908105</td>\n      <td>39.0</td>\n      <td>NaN</td>\n    </tr>\n    <tr>\n      <th>702</th>\n      <td>180115-74</td>\n      <td>黑米0.4*30</td>\n      <td>4AH0</td>\n      <td>200908105</td>\n      <td>1.0</td>\n      <td>NaN</td>\n    </tr>\n    <tr>\n      <th>703</th>\n      <td>180115-74</td>\n      <td>黑米0.4*30</td>\n      <td>4A00</td>\n      <td>200908101</td>\n      <td>NaN</td>\n      <td>158.0</td>\n    </tr>\n    <tr>\n      <th>704</th>\n      <td>180115-74</td>\n      <td>黑米0.4*30</td>\n      <td>4AH1</td>\n      <td>200908105</td>\n      <td>NaN</td>\n      <td>24.0</td>\n    </tr>\n    <tr>\n      <th>705</th>\n      <td>180115-74</td>\n      <td>黑米0.4*30</td>\n      <td>4A00</td>\n      <td>200908105</td>\n      <td>NaN</td>\n      <td>1.0</td>\n    </tr>\n  </tbody>\n</table>\n<p>706 rows × 6 columns</p>\n</div>"
     },
     "metadata": {},
     "execution_count": 2
    }
   ],
   "source": [
    "df0"
   ]
  },
  {
   "cell_type": "code",
   "execution_count": 19,
   "metadata": {
    "tags": []
   },
   "outputs": [],
   "source": [
    "df = df0.fillna(0).copy()\n",
    "_add = list()\n",
    "for g, _df in df.groupby(['品名', '库位', '批号']):\n",
    "    _df_add = pd.DataFrame()\n",
    "    o_i = _df['出'].sum() - _df['入'].sum()\n",
    "    if o_i > 0:\n",
    "        _df_add = pd.DataFrame([_df.iloc[0]])\n",
    "        _df_add[['出', '入']] = [o_i, 0]\n",
    "    elif o_i < 0:\n",
    "        _df_add = pd.DataFrame([_df.iloc[0]])\n",
    "        _df_add[['出', '入']] = [0, -o_i]     \n",
    "    _add.append(_df_add)\n",
    "df = pd.concat(_add)\n",
    "df.to_csv('i_o.csv', encoding='utf-8-sig', index=0)"
   ]
  },
  {
   "cell_type": "code",
   "execution_count": 60,
   "metadata": {},
   "outputs": [],
   "source": [
    "def check(o, i):\n",
    "    # print(f'{o}\\n{i}\\n')\n",
    "\n",
    "    checks = list()\n",
    "    if o.sum() == i.sum():\n",
    "        return checks\n",
    "    elif o.sum() > i.sum():\n",
    "        difference = o.sum() - i.sum()\n",
    "        direction = 'o'\n",
    "        more, less = o, i\n",
    "    else:\n",
    "        difference = i.sum() - o.sum()\n",
    "        direction = 'i'\n",
    "        more, less = i, o\n",
    "        \n",
    "    if less.sum() == 0:\n",
    "        for position in more.index:\n",
    "            amount = more[position]\n",
    "            checks.append((position, amount, direction))\n",
    "        return checks\n",
    "    # print(f'需要盘点数量：{difference}， 盘点方向：{direction}')\n",
    "    \n",
    "    while difference >= more.iloc[0]:\n",
    "        position = more.index[0]\n",
    "        amount = more[position]\n",
    "        checks.append((position, amount, direction))\n",
    "        difference -= more.pop(position)\n",
    "        \n",
    "    # print(f'从大到小贪心盘出：{checks}')\n",
    "\n",
    "\n",
    "    if difference > 0:\n",
    "        position = more[more >= difference].index[-1]\n",
    "        # print(f'如果盘点数量仍有剩余，找到最后一个数量充足的库位：{(position, difference, direction)}')\n",
    "        checks.append((position, difference, direction))\n",
    "        if more[position] == difference:\n",
    "            more.pop(position)\n",
    "        else:\n",
    "            more[position] -= difference            \n",
    "            more.sort_values(ascending=False)    \n",
    "    return checks"
   ]
  },
  {
   "cell_type": "code",
   "execution_count": 62,
   "metadata": {
    "tags": []
   },
   "outputs": [
    {
     "output_type": "display_data",
     "data": {
      "text/plain": "279"
     },
     "metadata": {}
    },
    {
     "output_type": "display_data",
     "data": {
      "text/plain": "[(566, 3199.0, 'i'),\n (567, 499.0, 'i'),\n (565, 3.0, 'i'),\n (563, 951.0, 'o'),\n (564, 2750.0, 'o'),\n (265, 30.0, 'o'),\n (267, 30.0, 'i'),\n (25, 4.0, 'o'),\n (27, 8.0, 'i'),\n (28, 4.0, 'o')]"
     },
     "metadata": {}
    }
   ],
   "source": [
    "checks = list()\n",
    "for sku_batch, df_oi in df.groupby(['品名', '批号']):\n",
    "    o, i = df_oi['出'], df_oi['入']\n",
    "    o, i = o[o > 0], i[i > 0]\n",
    "    c = check(o, i)\n",
    "    if c:\n",
    "        checks += c\n",
    "display(len(checks), checks[0: 10])\n"
   ]
  },
  {
   "cell_type": "code",
   "execution_count": 64,
   "metadata": {},
   "outputs": [
    {
     "output_type": "display_data",
     "data": {
      "text/plain": "            料品            品名    库位         批号       出       入\n566  107008-10   (单面）宫粥珍珠米10  3A01  200928010     0.0  3199.0\n567  107008-10   (单面）宫粥珍珠米10  3AP1  200928010     0.0   499.0\n563  107008-10   (单面）宫粥珍珠米10  3AP1  201001011   951.0     0.0\n564  107008-10   (单面）宫粥珍珠米10  3AP1  201001012  2750.0     0.0\n565  107008-10   (单面）宫粥珍珠米10  4AH1  200928010     0.0     3.0\n..         ...           ...   ...        ...     ...     ...\n162  101303-10      （靓虾）软米10  4B02  201105010  4256.0     0.0\n380  103906-10   （鲜仔）五星丝苗米10  4AH2  200820001     0.0     4.0\n382  103906-10   （鲜仔）五星丝苗米10  4AH2  201105011     4.0     0.0\n383  103906-35  （鲜仔）五星丝苗米5*5  3A01  201111013    33.0     0.0\n384  103906-35  （鲜仔）五星丝苗米5*5  4AP4  201111013     0.0    33.0\n\n[530 rows x 6 columns]",
      "text/html": "<div>\n<style scoped>\n    .dataframe tbody tr th:only-of-type {\n        vertical-align: middle;\n    }\n\n    .dataframe tbody tr th {\n        vertical-align: top;\n    }\n\n    .dataframe thead th {\n        text-align: right;\n    }\n</style>\n<table border=\"1\" class=\"dataframe\">\n  <thead>\n    <tr style=\"text-align: right;\">\n      <th></th>\n      <th>料品</th>\n      <th>品名</th>\n      <th>库位</th>\n      <th>批号</th>\n      <th>出</th>\n      <th>入</th>\n    </tr>\n  </thead>\n  <tbody>\n    <tr>\n      <th>566</th>\n      <td>107008-10</td>\n      <td>(单面）宫粥珍珠米10</td>\n      <td>3A01</td>\n      <td>200928010</td>\n      <td>0.0</td>\n      <td>3199.0</td>\n    </tr>\n    <tr>\n      <th>567</th>\n      <td>107008-10</td>\n      <td>(单面）宫粥珍珠米10</td>\n      <td>3AP1</td>\n      <td>200928010</td>\n      <td>0.0</td>\n      <td>499.0</td>\n    </tr>\n    <tr>\n      <th>563</th>\n      <td>107008-10</td>\n      <td>(单面）宫粥珍珠米10</td>\n      <td>3AP1</td>\n      <td>201001011</td>\n      <td>951.0</td>\n      <td>0.0</td>\n    </tr>\n    <tr>\n      <th>564</th>\n      <td>107008-10</td>\n      <td>(单面）宫粥珍珠米10</td>\n      <td>3AP1</td>\n      <td>201001012</td>\n      <td>2750.0</td>\n      <td>0.0</td>\n    </tr>\n    <tr>\n      <th>565</th>\n      <td>107008-10</td>\n      <td>(单面）宫粥珍珠米10</td>\n      <td>4AH1</td>\n      <td>200928010</td>\n      <td>0.0</td>\n      <td>3.0</td>\n    </tr>\n    <tr>\n      <th>...</th>\n      <td>...</td>\n      <td>...</td>\n      <td>...</td>\n      <td>...</td>\n      <td>...</td>\n      <td>...</td>\n    </tr>\n    <tr>\n      <th>162</th>\n      <td>101303-10</td>\n      <td>（靓虾）软米10</td>\n      <td>4B02</td>\n      <td>201105010</td>\n      <td>4256.0</td>\n      <td>0.0</td>\n    </tr>\n    <tr>\n      <th>380</th>\n      <td>103906-10</td>\n      <td>（鲜仔）五星丝苗米10</td>\n      <td>4AH2</td>\n      <td>200820001</td>\n      <td>0.0</td>\n      <td>4.0</td>\n    </tr>\n    <tr>\n      <th>382</th>\n      <td>103906-10</td>\n      <td>（鲜仔）五星丝苗米10</td>\n      <td>4AH2</td>\n      <td>201105011</td>\n      <td>4.0</td>\n      <td>0.0</td>\n    </tr>\n    <tr>\n      <th>383</th>\n      <td>103906-35</td>\n      <td>（鲜仔）五星丝苗米5*5</td>\n      <td>3A01</td>\n      <td>201111013</td>\n      <td>33.0</td>\n      <td>0.0</td>\n    </tr>\n    <tr>\n      <th>384</th>\n      <td>103906-35</td>\n      <td>（鲜仔）五星丝苗米5*5</td>\n      <td>4AP4</td>\n      <td>201111013</td>\n      <td>0.0</td>\n      <td>33.0</td>\n    </tr>\n  </tbody>\n</table>\n<p>530 rows × 6 columns</p>\n</div>"
     },
     "metadata": {}
    },
    {
     "output_type": "display_data",
     "data": {
      "text/plain": "            料品           品名    库位         批号       出       入\n566  107008-10  (单面）宫粥珍珠米10  3A01  200928010     0.0  3199.0\n567  107008-10  (单面）宫粥珍珠米10  3AP1  200928010     0.0   499.0\n565  107008-10  (单面）宫粥珍珠米10  4AH1  200928010     0.0     3.0\n563  107008-10  (单面）宫粥珍珠米10  3AP1  201001011   951.0     0.0\n564  107008-10  (单面）宫粥珍珠米10  3AP1  201001012  2750.0     0.0\n..         ...          ...   ...        ...     ...     ...\n167  101303-10     （靓虾）软米10  4A03  201111007     0.0    64.0\n170  101303-10     （靓虾）软米10  4AP5  201111007     0.0   820.0\n168  101303-10     （靓虾）软米10  4A04  201111034     0.0   680.0\n380  103906-10  （鲜仔）五星丝苗米10  4AH2  200820001     0.0     4.0\n382  103906-10  （鲜仔）五星丝苗米10  4AH2  201105011     4.0     0.0\n\n[279 rows x 6 columns]",
      "text/html": "<div>\n<style scoped>\n    .dataframe tbody tr th:only-of-type {\n        vertical-align: middle;\n    }\n\n    .dataframe tbody tr th {\n        vertical-align: top;\n    }\n\n    .dataframe thead th {\n        text-align: right;\n    }\n</style>\n<table border=\"1\" class=\"dataframe\">\n  <thead>\n    <tr style=\"text-align: right;\">\n      <th></th>\n      <th>料品</th>\n      <th>品名</th>\n      <th>库位</th>\n      <th>批号</th>\n      <th>出</th>\n      <th>入</th>\n    </tr>\n  </thead>\n  <tbody>\n    <tr>\n      <th>566</th>\n      <td>107008-10</td>\n      <td>(单面）宫粥珍珠米10</td>\n      <td>3A01</td>\n      <td>200928010</td>\n      <td>0.0</td>\n      <td>3199.0</td>\n    </tr>\n    <tr>\n      <th>567</th>\n      <td>107008-10</td>\n      <td>(单面）宫粥珍珠米10</td>\n      <td>3AP1</td>\n      <td>200928010</td>\n      <td>0.0</td>\n      <td>499.0</td>\n    </tr>\n    <tr>\n      <th>565</th>\n      <td>107008-10</td>\n      <td>(单面）宫粥珍珠米10</td>\n      <td>4AH1</td>\n      <td>200928010</td>\n      <td>0.0</td>\n      <td>3.0</td>\n    </tr>\n    <tr>\n      <th>563</th>\n      <td>107008-10</td>\n      <td>(单面）宫粥珍珠米10</td>\n      <td>3AP1</td>\n      <td>201001011</td>\n      <td>951.0</td>\n      <td>0.0</td>\n    </tr>\n    <tr>\n      <th>564</th>\n      <td>107008-10</td>\n      <td>(单面）宫粥珍珠米10</td>\n      <td>3AP1</td>\n      <td>201001012</td>\n      <td>2750.0</td>\n      <td>0.0</td>\n    </tr>\n    <tr>\n      <th>...</th>\n      <td>...</td>\n      <td>...</td>\n      <td>...</td>\n      <td>...</td>\n      <td>...</td>\n      <td>...</td>\n    </tr>\n    <tr>\n      <th>167</th>\n      <td>101303-10</td>\n      <td>（靓虾）软米10</td>\n      <td>4A03</td>\n      <td>201111007</td>\n      <td>0.0</td>\n      <td>64.0</td>\n    </tr>\n    <tr>\n      <th>170</th>\n      <td>101303-10</td>\n      <td>（靓虾）软米10</td>\n      <td>4AP5</td>\n      <td>201111007</td>\n      <td>0.0</td>\n      <td>820.0</td>\n    </tr>\n    <tr>\n      <th>168</th>\n      <td>101303-10</td>\n      <td>（靓虾）软米10</td>\n      <td>4A04</td>\n      <td>201111034</td>\n      <td>0.0</td>\n      <td>680.0</td>\n    </tr>\n    <tr>\n      <th>380</th>\n      <td>103906-10</td>\n      <td>（鲜仔）五星丝苗米10</td>\n      <td>4AH2</td>\n      <td>200820001</td>\n      <td>0.0</td>\n      <td>4.0</td>\n    </tr>\n    <tr>\n      <th>382</th>\n      <td>103906-10</td>\n      <td>（鲜仔）五星丝苗米10</td>\n      <td>4AH2</td>\n      <td>201105011</td>\n      <td>4.0</td>\n      <td>0.0</td>\n    </tr>\n  </tbody>\n</table>\n<p>279 rows × 6 columns</p>\n</div>"
     },
     "metadata": {}
    },
    {
     "output_type": "display_data",
     "data": {
      "text/plain": "            料品                品名    库位         批号      出      入\n249  101312-10      (禾美)靓虾王香软米10  4A02  201110003    4.0    0.0\n250  101312-10      (禾美)靓虾王香软米10  4AH2  201110003    0.0    4.0\n251  101312-85  (禾美)靓虾王香软米2.5*10  3A07  201108001   70.0    0.0\n252  101312-85  (禾美)靓虾王香软米2.5*10  4AP1  201108001    0.0   70.0\n266  101401-10     (紫色)米皇坊小农粘米10  4AH2  201031032    0.0   24.0\n..         ...               ...   ...        ...    ...    ...\n164  101303-10          （靓虾）软米10  4A02  201105047    0.0    7.0\n170  101303-10          （靓虾）软米10  4AP5  201111007    0.0  210.0\n166  101303-10          （靓虾）软米10  4AP6  201111007  210.0    0.0\n383  103906-35      （鲜仔）五星丝苗米5*5  3A01  201111013   33.0    0.0\n384  103906-35      （鲜仔）五星丝苗米5*5  4AP4  201111013    0.0   33.0\n\n[312 rows x 6 columns]",
      "text/html": "<div>\n<style scoped>\n    .dataframe tbody tr th:only-of-type {\n        vertical-align: middle;\n    }\n\n    .dataframe tbody tr th {\n        vertical-align: top;\n    }\n\n    .dataframe thead th {\n        text-align: right;\n    }\n</style>\n<table border=\"1\" class=\"dataframe\">\n  <thead>\n    <tr style=\"text-align: right;\">\n      <th></th>\n      <th>料品</th>\n      <th>品名</th>\n      <th>库位</th>\n      <th>批号</th>\n      <th>出</th>\n      <th>入</th>\n    </tr>\n  </thead>\n  <tbody>\n    <tr>\n      <th>249</th>\n      <td>101312-10</td>\n      <td>(禾美)靓虾王香软米10</td>\n      <td>4A02</td>\n      <td>201110003</td>\n      <td>4.0</td>\n      <td>0.0</td>\n    </tr>\n    <tr>\n      <th>250</th>\n      <td>101312-10</td>\n      <td>(禾美)靓虾王香软米10</td>\n      <td>4AH2</td>\n      <td>201110003</td>\n      <td>0.0</td>\n      <td>4.0</td>\n    </tr>\n    <tr>\n      <th>251</th>\n      <td>101312-85</td>\n      <td>(禾美)靓虾王香软米2.5*10</td>\n      <td>3A07</td>\n      <td>201108001</td>\n      <td>70.0</td>\n      <td>0.0</td>\n    </tr>\n    <tr>\n      <th>252</th>\n      <td>101312-85</td>\n      <td>(禾美)靓虾王香软米2.5*10</td>\n      <td>4AP1</td>\n      <td>201108001</td>\n      <td>0.0</td>\n      <td>70.0</td>\n    </tr>\n    <tr>\n      <th>266</th>\n      <td>101401-10</td>\n      <td>(紫色)米皇坊小农粘米10</td>\n      <td>4AH2</td>\n      <td>201031032</td>\n      <td>0.0</td>\n      <td>24.0</td>\n    </tr>\n    <tr>\n      <th>...</th>\n      <td>...</td>\n      <td>...</td>\n      <td>...</td>\n      <td>...</td>\n      <td>...</td>\n      <td>...</td>\n    </tr>\n    <tr>\n      <th>164</th>\n      <td>101303-10</td>\n      <td>（靓虾）软米10</td>\n      <td>4A02</td>\n      <td>201105047</td>\n      <td>0.0</td>\n      <td>7.0</td>\n    </tr>\n    <tr>\n      <th>170</th>\n      <td>101303-10</td>\n      <td>（靓虾）软米10</td>\n      <td>4AP5</td>\n      <td>201111007</td>\n      <td>0.0</td>\n      <td>210.0</td>\n    </tr>\n    <tr>\n      <th>166</th>\n      <td>101303-10</td>\n      <td>（靓虾）软米10</td>\n      <td>4AP6</td>\n      <td>201111007</td>\n      <td>210.0</td>\n      <td>0.0</td>\n    </tr>\n    <tr>\n      <th>383</th>\n      <td>103906-35</td>\n      <td>（鲜仔）五星丝苗米5*5</td>\n      <td>3A01</td>\n      <td>201111013</td>\n      <td>33.0</td>\n      <td>0.0</td>\n    </tr>\n    <tr>\n      <th>384</th>\n      <td>103906-35</td>\n      <td>（鲜仔）五星丝苗米5*5</td>\n      <td>4AP4</td>\n      <td>201111013</td>\n      <td>0.0</td>\n      <td>33.0</td>\n    </tr>\n  </tbody>\n</table>\n<p>312 rows × 6 columns</p>\n</div>"
     },
     "metadata": {}
    }
   ],
   "source": [
    "df_move = df.copy()\n",
    "display(df_move)\n",
    "_check = list()\n",
    "for idx, amount, direction in checks:\n",
    "    if direction == 'o':\n",
    "        _df_check = pd.DataFrame([df_move.loc[idx]])\n",
    "        _df_check[['出', '入']] = [amount, 0]\n",
    "        if df_move.loc[idx, '出'] == amount:\n",
    "            df_move = df_move.drop(labels=idx)\n",
    "        else:\n",
    "            df_move.loc[idx, '出'] -= amount \n",
    "    elif direction == 'i':\n",
    "        _df_check = pd.DataFrame([df_move.loc[idx]])\n",
    "        _df_check[['出', '入']] = [0, amount]\n",
    "        if df_move.loc[idx, '入'] == amount:\n",
    "            df_move = df_move.drop(labels=idx)\n",
    "        else:\n",
    "            df_move.loc[idx, '入'] -= amount \n",
    "    _check.append(_df_check)\n",
    "df_check = pd.concat(_check)\n",
    "display(df_check, df_move)\n",
    "df_check.to_csv('i_o_check.csv', encoding='utf-8-sig', index=0)\n",
    "df_move.to_csv('i_o_move.csv', encoding='utf-8-sig', index=0)\n"
   ]
  },
  {
   "cell_type": "code",
   "execution_count": 2,
   "metadata": {},
   "outputs": [],
   "source": [
    "death = '101306-10,101420-25,103903-25,101301-85,105809-05,101601-25,150101-35,101402-10,101406-15,103906-35,150103-15,101301-08,160204-35,160101-10,107001-35,101406-35,150103-35,170103-10,150107-35,107001-32,100501-35,101502-15,100606-35,101301-35,107011-85,180113-74,101602-25,101308-25,107014-35,103909-15,103907-10,103911-15,100603-32,101312-85,101402-85'"
   ]
  },
  {
   "cell_type": "code",
   "execution_count": 3,
   "metadata": {},
   "outputs": [
    {
     "output_type": "execute_result",
     "data": {
      "text/plain": [
       "['101306-10',\n",
       " '101420-25',\n",
       " '103903-25',\n",
       " '101301-85',\n",
       " '105809-05',\n",
       " '101601-25',\n",
       " '150101-35',\n",
       " '101402-10',\n",
       " '101406-15',\n",
       " '103906-35',\n",
       " '150103-15',\n",
       " '101301-08',\n",
       " '160204-35',\n",
       " '160101-10',\n",
       " '107001-35',\n",
       " '101406-35',\n",
       " '150103-35',\n",
       " '170103-10',\n",
       " '150107-35',\n",
       " '107001-32',\n",
       " '100501-35',\n",
       " '101502-15',\n",
       " '100606-35',\n",
       " '101301-35',\n",
       " '107011-85',\n",
       " '180113-74',\n",
       " '101602-25',\n",
       " '101308-25',\n",
       " '107014-35',\n",
       " '103909-15',\n",
       " '103907-10',\n",
       " '103911-15',\n",
       " '100603-32',\n",
       " '101312-85',\n",
       " '101402-85']"
      ]
     },
     "metadata": {},
     "execution_count": 3
    }
   ],
   "source": [
    "death.split(',')"
   ]
  },
  {
   "cell_type": "code",
   "execution_count": null,
   "metadata": {},
   "outputs": [],
   "source": []
  }
 ]
}