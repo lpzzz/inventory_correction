{
 "cells": [
  {
   "cell_type": "code",
   "execution_count": 7,
   "metadata": {},
   "outputs": [],
   "source": [
    "import pandas as pd\n",
    "import os\n",
    "FILE = os.path.join(os.getcwd(), 'in.xls')\n",
    "df = pd.read_excel(FILE, header=1)"
   ]
  },
  {
   "cell_type": "code",
   "execution_count": 9,
   "metadata": {},
   "outputs": [
    {
     "output_type": "execute_result",
     "data": {
      "text/plain": "              料品          品名            批号   规格 料品属性   存储地点   仓库     库位  \\\n0      100101-05  太粮王泰国茉莉香米5     191119002  5.0   成品  厚街河田仓  成品仓  4A104   \n1      100101-05  太粮王泰国茉莉香米5     191119005  5.0   成品  厚街河田仓  成品仓   03A2   \n2      100101-05  太粮王泰国茉莉香米5     191119005  5.0   成品  厚街河田仓  成品仓  4A000   \n3      100101-05  太粮王泰国茉莉香米5     191119006  5.0   成品  厚街河田仓  成品仓   03A0   \n4      100101-05  太粮王泰国茉莉香米5  191119006-01  5.0   成品  厚街河田仓  成品仓   03A0   \n...          ...         ...           ...  ...  ...    ...  ...    ...   \n11073  904002-01      招商路凯卡板     200101001  1.0   其它  厚街河田仓  成品仓    P01   \n11074  904002-01      招商路凯卡板     200101001  1.0   其它  厚街河田仓  成品仓    P02   \n11075  904002-01      招商路凯卡板     200101001  1.0   其它  厚街河田仓  成品仓    P06   \n11076        NaN         NaN           NaN  0.0  NaN    NaN  NaN    NaN   \n11077        NaN         NaN           NaN  0.0  NaN    NaN  NaN    NaN   \n\n         可用数量        可用重量  冻结数量   冻结重量     总数量         总重量  \n0           0        0.00     0      0       0        0.00  \n1           0        0.00     0      0       0        0.00  \n2           0        0.00     0      0       0        0.00  \n3           0        0.00     0      0       0        0.00  \n4           0        0.00     0      0       0        0.00  \n...       ...         ...   ...    ...     ...         ...  \n11073       0        0.00     0      0       0        0.00  \n11074       0        0.00     0      0       0        0.00  \n11075       0        0.00     0      0       0        0.00  \n11076  122800  1740871.31  4397  50194  127197  1791065.31  \n11077  122800  1740871.31  4397  50194  127197  1791065.31  \n\n[11078 rows x 14 columns]",
      "text/html": "<div>\n<style scoped>\n    .dataframe tbody tr th:only-of-type {\n        vertical-align: middle;\n    }\n\n    .dataframe tbody tr th {\n        vertical-align: top;\n    }\n\n    .dataframe thead th {\n        text-align: right;\n    }\n</style>\n<table border=\"1\" class=\"dataframe\">\n  <thead>\n    <tr style=\"text-align: right;\">\n      <th></th>\n      <th>料品</th>\n      <th>品名</th>\n      <th>批号</th>\n      <th>规格</th>\n      <th>料品属性</th>\n      <th>存储地点</th>\n      <th>仓库</th>\n      <th>库位</th>\n      <th>可用数量</th>\n      <th>可用重量</th>\n      <th>冻结数量</th>\n      <th>冻结重量</th>\n      <th>总数量</th>\n      <th>总重量</th>\n    </tr>\n  </thead>\n  <tbody>\n    <tr>\n      <th>0</th>\n      <td>100101-05</td>\n      <td>太粮王泰国茉莉香米5</td>\n      <td>191119002</td>\n      <td>5.0</td>\n      <td>成品</td>\n      <td>厚街河田仓</td>\n      <td>成品仓</td>\n      <td>4A104</td>\n      <td>0</td>\n      <td>0.00</td>\n      <td>0</td>\n      <td>0</td>\n      <td>0</td>\n      <td>0.00</td>\n    </tr>\n    <tr>\n      <th>1</th>\n      <td>100101-05</td>\n      <td>太粮王泰国茉莉香米5</td>\n      <td>191119005</td>\n      <td>5.0</td>\n      <td>成品</td>\n      <td>厚街河田仓</td>\n      <td>成品仓</td>\n      <td>03A2</td>\n      <td>0</td>\n      <td>0.00</td>\n      <td>0</td>\n      <td>0</td>\n      <td>0</td>\n      <td>0.00</td>\n    </tr>\n    <tr>\n      <th>2</th>\n      <td>100101-05</td>\n      <td>太粮王泰国茉莉香米5</td>\n      <td>191119005</td>\n      <td>5.0</td>\n      <td>成品</td>\n      <td>厚街河田仓</td>\n      <td>成品仓</td>\n      <td>4A000</td>\n      <td>0</td>\n      <td>0.00</td>\n      <td>0</td>\n      <td>0</td>\n      <td>0</td>\n      <td>0.00</td>\n    </tr>\n    <tr>\n      <th>3</th>\n      <td>100101-05</td>\n      <td>太粮王泰国茉莉香米5</td>\n      <td>191119006</td>\n      <td>5.0</td>\n      <td>成品</td>\n      <td>厚街河田仓</td>\n      <td>成品仓</td>\n      <td>03A0</td>\n      <td>0</td>\n      <td>0.00</td>\n      <td>0</td>\n      <td>0</td>\n      <td>0</td>\n      <td>0.00</td>\n    </tr>\n    <tr>\n      <th>4</th>\n      <td>100101-05</td>\n      <td>太粮王泰国茉莉香米5</td>\n      <td>191119006-01</td>\n      <td>5.0</td>\n      <td>成品</td>\n      <td>厚街河田仓</td>\n      <td>成品仓</td>\n      <td>03A0</td>\n      <td>0</td>\n      <td>0.00</td>\n      <td>0</td>\n      <td>0</td>\n      <td>0</td>\n      <td>0.00</td>\n    </tr>\n    <tr>\n      <th>...</th>\n      <td>...</td>\n      <td>...</td>\n      <td>...</td>\n      <td>...</td>\n      <td>...</td>\n      <td>...</td>\n      <td>...</td>\n      <td>...</td>\n      <td>...</td>\n      <td>...</td>\n      <td>...</td>\n      <td>...</td>\n      <td>...</td>\n      <td>...</td>\n    </tr>\n    <tr>\n      <th>11073</th>\n      <td>904002-01</td>\n      <td>招商路凯卡板</td>\n      <td>200101001</td>\n      <td>1.0</td>\n      <td>其它</td>\n      <td>厚街河田仓</td>\n      <td>成品仓</td>\n      <td>P01</td>\n      <td>0</td>\n      <td>0.00</td>\n      <td>0</td>\n      <td>0</td>\n      <td>0</td>\n      <td>0.00</td>\n    </tr>\n    <tr>\n      <th>11074</th>\n      <td>904002-01</td>\n      <td>招商路凯卡板</td>\n      <td>200101001</td>\n      <td>1.0</td>\n      <td>其它</td>\n      <td>厚街河田仓</td>\n      <td>成品仓</td>\n      <td>P02</td>\n      <td>0</td>\n      <td>0.00</td>\n      <td>0</td>\n      <td>0</td>\n      <td>0</td>\n      <td>0.00</td>\n    </tr>\n    <tr>\n      <th>11075</th>\n      <td>904002-01</td>\n      <td>招商路凯卡板</td>\n      <td>200101001</td>\n      <td>1.0</td>\n      <td>其它</td>\n      <td>厚街河田仓</td>\n      <td>成品仓</td>\n      <td>P06</td>\n      <td>0</td>\n      <td>0.00</td>\n      <td>0</td>\n      <td>0</td>\n      <td>0</td>\n      <td>0.00</td>\n    </tr>\n    <tr>\n      <th>11076</th>\n      <td>NaN</td>\n      <td>NaN</td>\n      <td>NaN</td>\n      <td>0.0</td>\n      <td>NaN</td>\n      <td>NaN</td>\n      <td>NaN</td>\n      <td>NaN</td>\n      <td>122800</td>\n      <td>1740871.31</td>\n      <td>4397</td>\n      <td>50194</td>\n      <td>127197</td>\n      <td>1791065.31</td>\n    </tr>\n    <tr>\n      <th>11077</th>\n      <td>NaN</td>\n      <td>NaN</td>\n      <td>NaN</td>\n      <td>0.0</td>\n      <td>NaN</td>\n      <td>NaN</td>\n      <td>NaN</td>\n      <td>NaN</td>\n      <td>122800</td>\n      <td>1740871.31</td>\n      <td>4397</td>\n      <td>50194</td>\n      <td>127197</td>\n      <td>1791065.31</td>\n    </tr>\n  </tbody>\n</table>\n<p>11078 rows × 14 columns</p>\n</div>"
     },
     "metadata": {},
     "execution_count": 9
    }
   ],
   "source": [
    "df"
   ]
  },
  {
   "cell_type": "code",
   "execution_count": 11,
   "metadata": {},
   "outputs": [],
   "source": [
    "selections = ['库位', '料品', '品名', '批号', '可用数量', '冻结数量', '总数量']\n",
    "cdf = df[\n",
    "    (df['存储地点'] == '厚街河田仓') \n",
    "    & (df['仓库'] == '成品仓') \n",
    "    & (df['料品属性'] == '成品')\n",
    "    & (df['总数量'] > 0)\n",
    "][selections].sort_values(by=['库位', '料品'])"
   ]
  },
  {
   "cell_type": "code",
   "execution_count": 13,
   "metadata": {},
   "outputs": [
    {
     "output_type": "execute_result",
     "data": {
      "text/plain": "         库位         料品              品名         批号  可用数量  冻结数量   总数量\n47     3A00  100101-35    太粮王泰国茉莉香米5*4  200101001     4     0     4\n226    3A00  100502-35  （橙色）柬埔寨茉莉香米5*5  200617002   405     0   405\n618    3A00  100604-35   曼哈浓香德莉进口香米5*5  200804009     3     0     3\n1060   3A00  100607-35  曼哈浓香精选小茉莉香米5*5  200805008   167     0   167\n2508   3A00  101301-31    太粮靓虾王香软米1*25  200813007    83     0    83\n...     ...        ...             ...        ...   ...   ...   ...\n9621  糙米线库位  107006-10   太粮良谷纪臻选东北大米10  200817013  1250     0  1250\n9718  糙米线库位  107090-25     香雪珍珠米（特通）25  200804019   598     0   598\n9719  糙米线库位  107090-25     香雪珍珠米（特通）25  200804033    40     0    40\n9720  糙米线库位  107090-25     香雪珍珠米（特通）25  200806014    67     0    67\n9722  糙米线库位  107090-25     香雪珍珠米（特通）25  200817013   118     0   118\n\n[411 rows x 7 columns]",
      "text/html": "<div>\n<style scoped>\n    .dataframe tbody tr th:only-of-type {\n        vertical-align: middle;\n    }\n\n    .dataframe tbody tr th {\n        vertical-align: top;\n    }\n\n    .dataframe thead th {\n        text-align: right;\n    }\n</style>\n<table border=\"1\" class=\"dataframe\">\n  <thead>\n    <tr style=\"text-align: right;\">\n      <th></th>\n      <th>库位</th>\n      <th>料品</th>\n      <th>品名</th>\n      <th>批号</th>\n      <th>可用数量</th>\n      <th>冻结数量</th>\n      <th>总数量</th>\n    </tr>\n  </thead>\n  <tbody>\n    <tr>\n      <th>47</th>\n      <td>3A00</td>\n      <td>100101-35</td>\n      <td>太粮王泰国茉莉香米5*4</td>\n      <td>200101001</td>\n      <td>4</td>\n      <td>0</td>\n      <td>4</td>\n    </tr>\n    <tr>\n      <th>226</th>\n      <td>3A00</td>\n      <td>100502-35</td>\n      <td>（橙色）柬埔寨茉莉香米5*5</td>\n      <td>200617002</td>\n      <td>405</td>\n      <td>0</td>\n      <td>405</td>\n    </tr>\n    <tr>\n      <th>618</th>\n      <td>3A00</td>\n      <td>100604-35</td>\n      <td>曼哈浓香德莉进口香米5*5</td>\n      <td>200804009</td>\n      <td>3</td>\n      <td>0</td>\n      <td>3</td>\n    </tr>\n    <tr>\n      <th>1060</th>\n      <td>3A00</td>\n      <td>100607-35</td>\n      <td>曼哈浓香精选小茉莉香米5*5</td>\n      <td>200805008</td>\n      <td>167</td>\n      <td>0</td>\n      <td>167</td>\n    </tr>\n    <tr>\n      <th>2508</th>\n      <td>3A00</td>\n      <td>101301-31</td>\n      <td>太粮靓虾王香软米1*25</td>\n      <td>200813007</td>\n      <td>83</td>\n      <td>0</td>\n      <td>83</td>\n    </tr>\n    <tr>\n      <th>...</th>\n      <td>...</td>\n      <td>...</td>\n      <td>...</td>\n      <td>...</td>\n      <td>...</td>\n      <td>...</td>\n      <td>...</td>\n    </tr>\n    <tr>\n      <th>9621</th>\n      <td>糙米线库位</td>\n      <td>107006-10</td>\n      <td>太粮良谷纪臻选东北大米10</td>\n      <td>200817013</td>\n      <td>1250</td>\n      <td>0</td>\n      <td>1250</td>\n    </tr>\n    <tr>\n      <th>9718</th>\n      <td>糙米线库位</td>\n      <td>107090-25</td>\n      <td>香雪珍珠米（特通）25</td>\n      <td>200804019</td>\n      <td>598</td>\n      <td>0</td>\n      <td>598</td>\n    </tr>\n    <tr>\n      <th>9719</th>\n      <td>糙米线库位</td>\n      <td>107090-25</td>\n      <td>香雪珍珠米（特通）25</td>\n      <td>200804033</td>\n      <td>40</td>\n      <td>0</td>\n      <td>40</td>\n    </tr>\n    <tr>\n      <th>9720</th>\n      <td>糙米线库位</td>\n      <td>107090-25</td>\n      <td>香雪珍珠米（特通）25</td>\n      <td>200806014</td>\n      <td>67</td>\n      <td>0</td>\n      <td>67</td>\n    </tr>\n    <tr>\n      <th>9722</th>\n      <td>糙米线库位</td>\n      <td>107090-25</td>\n      <td>香雪珍珠米（特通）25</td>\n      <td>200817013</td>\n      <td>118</td>\n      <td>0</td>\n      <td>118</td>\n    </tr>\n  </tbody>\n</table>\n<p>411 rows × 7 columns</p>\n</div>"
     },
     "metadata": {},
     "execution_count": 13
    }
   ],
   "source": [
    "cdf"
   ]
  },
  {
   "cell_type": "code",
   "execution_count": 15,
   "metadata": {},
   "outputs": [],
   "source": [
    "cdf.to_csv(os.path.join(os.getcwd(), 'to_check_list.csv'), index=False, encoding='utf-8-sig')"
   ]
  }
 ],
 "metadata": {
  "kernelspec": {
   "display_name": "Python 3",
   "language": "python",
   "name": "python3"
  },
  "language_info": {
   "codemirror_mode": {
    "name": "ipython",
    "version": 3
   },
   "file_extension": ".py",
   "mimetype": "text/x-python",
   "name": "python",
   "nbconvert_exporter": "python",
   "pygments_lexer": "ipython3",
   "version": "3.8.5-final"
  }
 },
 "nbformat": 4,
 "nbformat_minor": 2
}