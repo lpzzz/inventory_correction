{
 "cells": [
  {
   "cell_type": "code",
   "execution_count": 22,
   "metadata": {},
   "outputs": [],
   "source": [
    "import os\n",
    "import pandas as pd\n",
    "# import numpy as np\n",
    "from random import random as rnd"
   ]
  },
  {
   "cell_type": "code",
   "execution_count": 44,
   "metadata": {},
   "outputs": [
    {
     "output_type": "execute_result",
     "data": {
      "text/plain": "        库位         料品              品名         批号  可用数量  冻结数量   总数量\n0     3A00  100101-35    太粮王泰国茉莉香米5*4  200101001     4     0     4\n1     3A00  100502-35  （橙色）柬埔寨茉莉香米5*5  200617002   405     0   405\n2     3A00  100604-35   曼哈浓香德莉进口香米5*5  200804009     3     0     3\n3     3A00  100607-35  曼哈浓香精选小茉莉香米5*5  200805008   167     0   167\n4     3A00  101301-31    太粮靓虾王香软米1*25  200813007    83     0    83\n..     ...        ...             ...        ...   ...   ...   ...\n406  糙米线库位  107006-10   太粮良谷纪臻选东北大米10  200817013  1250     0  1250\n407  糙米线库位  107090-25     香雪珍珠米（特通）25  200804019   598     0   598\n408  糙米线库位  107090-25     香雪珍珠米（特通）25  200804033    40     0    40\n409  糙米线库位  107090-25     香雪珍珠米（特通）25  200806014    67     0    67\n410  糙米线库位  107090-25     香雪珍珠米（特通）25  200817013   118     0   118\n\n[411 rows x 7 columns]",
      "text/html": "<div>\n<style scoped>\n    .dataframe tbody tr th:only-of-type {\n        vertical-align: middle;\n    }\n\n    .dataframe tbody tr th {\n        vertical-align: top;\n    }\n\n    .dataframe thead th {\n        text-align: right;\n    }\n</style>\n<table border=\"1\" class=\"dataframe\">\n  <thead>\n    <tr style=\"text-align: right;\">\n      <th></th>\n      <th>库位</th>\n      <th>料品</th>\n      <th>品名</th>\n      <th>批号</th>\n      <th>可用数量</th>\n      <th>冻结数量</th>\n      <th>总数量</th>\n    </tr>\n  </thead>\n  <tbody>\n    <tr>\n      <th>0</th>\n      <td>3A00</td>\n      <td>100101-35</td>\n      <td>太粮王泰国茉莉香米5*4</td>\n      <td>200101001</td>\n      <td>4</td>\n      <td>0</td>\n      <td>4</td>\n    </tr>\n    <tr>\n      <th>1</th>\n      <td>3A00</td>\n      <td>100502-35</td>\n      <td>（橙色）柬埔寨茉莉香米5*5</td>\n      <td>200617002</td>\n      <td>405</td>\n      <td>0</td>\n      <td>405</td>\n    </tr>\n    <tr>\n      <th>2</th>\n      <td>3A00</td>\n      <td>100604-35</td>\n      <td>曼哈浓香德莉进口香米5*5</td>\n      <td>200804009</td>\n      <td>3</td>\n      <td>0</td>\n      <td>3</td>\n    </tr>\n    <tr>\n      <th>3</th>\n      <td>3A00</td>\n      <td>100607-35</td>\n      <td>曼哈浓香精选小茉莉香米5*5</td>\n      <td>200805008</td>\n      <td>167</td>\n      <td>0</td>\n      <td>167</td>\n    </tr>\n    <tr>\n      <th>4</th>\n      <td>3A00</td>\n      <td>101301-31</td>\n      <td>太粮靓虾王香软米1*25</td>\n      <td>200813007</td>\n      <td>83</td>\n      <td>0</td>\n      <td>83</td>\n    </tr>\n    <tr>\n      <th>...</th>\n      <td>...</td>\n      <td>...</td>\n      <td>...</td>\n      <td>...</td>\n      <td>...</td>\n      <td>...</td>\n      <td>...</td>\n    </tr>\n    <tr>\n      <th>406</th>\n      <td>糙米线库位</td>\n      <td>107006-10</td>\n      <td>太粮良谷纪臻选东北大米10</td>\n      <td>200817013</td>\n      <td>1250</td>\n      <td>0</td>\n      <td>1250</td>\n    </tr>\n    <tr>\n      <th>407</th>\n      <td>糙米线库位</td>\n      <td>107090-25</td>\n      <td>香雪珍珠米（特通）25</td>\n      <td>200804019</td>\n      <td>598</td>\n      <td>0</td>\n      <td>598</td>\n    </tr>\n    <tr>\n      <th>408</th>\n      <td>糙米线库位</td>\n      <td>107090-25</td>\n      <td>香雪珍珠米（特通）25</td>\n      <td>200804033</td>\n      <td>40</td>\n      <td>0</td>\n      <td>40</td>\n    </tr>\n    <tr>\n      <th>409</th>\n      <td>糙米线库位</td>\n      <td>107090-25</td>\n      <td>香雪珍珠米（特通）25</td>\n      <td>200806014</td>\n      <td>67</td>\n      <td>0</td>\n      <td>67</td>\n    </tr>\n    <tr>\n      <th>410</th>\n      <td>糙米线库位</td>\n      <td>107090-25</td>\n      <td>香雪珍珠米（特通）25</td>\n      <td>200817013</td>\n      <td>118</td>\n      <td>0</td>\n      <td>118</td>\n    </tr>\n  </tbody>\n</table>\n<p>411 rows × 7 columns</p>\n</div>"
     },
     "metadata": {},
     "execution_count": 44
    }
   ],
   "source": [
    "FILE = os.path.join(os.getcwd(), 'to_check_list.csv')\n",
    "df = pd.read_csv(FILE, encoding='utf-8-sig')\n",
    "df0 = df\n",
    "df0"
   ]
  },
  {
   "cell_type": "code",
   "execution_count": 57,
   "metadata": {
    "tags": []
   },
   "outputs": [
    {
     "output_type": "display_data",
     "data": {
      "text/plain": "'#5'"
     },
     "metadata": {}
    },
    {
     "output_type": "display_data",
     "data": {
      "text/plain": "105"
     },
     "metadata": {}
    },
    {
     "output_type": "display_data",
     "data": {
      "text/plain": "130"
     },
     "metadata": {}
    },
    {
     "output_type": "display_data",
     "data": {
      "text/plain": "138"
     },
     "metadata": {}
    },
    {
     "output_type": "display_data",
     "data": {
      "text/plain": "       库位         料品          品名         批号  可用数量  冻结数量   总数量  delta  check\n311  4AP6  101601-10  （米酷）马坝银粘10  200817006     0    80    80    -46     34\n343  4B02  101303-10    （靓虾）软米10  200814003     0  1498  1498   -633    865",
      "text/html": "<div>\n<style scoped>\n    .dataframe tbody tr th:only-of-type {\n        vertical-align: middle;\n    }\n\n    .dataframe tbody tr th {\n        vertical-align: top;\n    }\n\n    .dataframe thead th {\n        text-align: right;\n    }\n</style>\n<table border=\"1\" class=\"dataframe\">\n  <thead>\n    <tr style=\"text-align: right;\">\n      <th></th>\n      <th>库位</th>\n      <th>料品</th>\n      <th>品名</th>\n      <th>批号</th>\n      <th>可用数量</th>\n      <th>冻结数量</th>\n      <th>总数量</th>\n      <th>delta</th>\n      <th>check</th>\n    </tr>\n  </thead>\n  <tbody>\n    <tr>\n      <th>311</th>\n      <td>4AP6</td>\n      <td>101601-10</td>\n      <td>（米酷）马坝银粘10</td>\n      <td>200817006</td>\n      <td>0</td>\n      <td>80</td>\n      <td>80</td>\n      <td>-46</td>\n      <td>34</td>\n    </tr>\n    <tr>\n      <th>343</th>\n      <td>4B02</td>\n      <td>101303-10</td>\n      <td>（靓虾）软米10</td>\n      <td>200814003</td>\n      <td>0</td>\n      <td>1498</td>\n      <td>1498</td>\n      <td>-633</td>\n      <td>865</td>\n    </tr>\n  </tbody>\n</table>\n</div>"
     },
     "metadata": {}
    },
    {
     "output_type": "display_data",
     "data": {
      "text/plain": "       库位         料品              品名         批号  可用数量  冻结数量  总数量  delta  check\n90   3AP1  100502-35  （橙色）柬埔寨茉莉香米5*5  200617002    39     0   39    -39      0\n130  4A01  101420-25       米皇坊珍珠香米25  200806013     1     0    1     -1      0\n154  4A04  101308-25    （信鲜）靓虾王香软米25  200815001    34     0   34    -34      0\n171  4A05  103909-15      今西利哈旺油粘米15  200811004    23     0   23    -23      0\n210  4AH0  100607-05    曼哈浓香精选小茉莉香米5  200621010     2     0    2     -2      0\n337  4B02  100607-10   曼哈浓香精选小茉莉香米10  200814004   150     0  150   -150      0",
      "text/html": "<div>\n<style scoped>\n    .dataframe tbody tr th:only-of-type {\n        vertical-align: middle;\n    }\n\n    .dataframe tbody tr th {\n        vertical-align: top;\n    }\n\n    .dataframe thead th {\n        text-align: right;\n    }\n</style>\n<table border=\"1\" class=\"dataframe\">\n  <thead>\n    <tr style=\"text-align: right;\">\n      <th></th>\n      <th>库位</th>\n      <th>料品</th>\n      <th>品名</th>\n      <th>批号</th>\n      <th>可用数量</th>\n      <th>冻结数量</th>\n      <th>总数量</th>\n      <th>delta</th>\n      <th>check</th>\n    </tr>\n  </thead>\n  <tbody>\n    <tr>\n      <th>90</th>\n      <td>3AP1</td>\n      <td>100502-35</td>\n      <td>（橙色）柬埔寨茉莉香米5*5</td>\n      <td>200617002</td>\n      <td>39</td>\n      <td>0</td>\n      <td>39</td>\n      <td>-39</td>\n      <td>0</td>\n    </tr>\n    <tr>\n      <th>130</th>\n      <td>4A01</td>\n      <td>101420-25</td>\n      <td>米皇坊珍珠香米25</td>\n      <td>200806013</td>\n      <td>1</td>\n      <td>0</td>\n      <td>1</td>\n      <td>-1</td>\n      <td>0</td>\n    </tr>\n    <tr>\n      <th>154</th>\n      <td>4A04</td>\n      <td>101308-25</td>\n      <td>（信鲜）靓虾王香软米25</td>\n      <td>200815001</td>\n      <td>34</td>\n      <td>0</td>\n      <td>34</td>\n      <td>-34</td>\n      <td>0</td>\n    </tr>\n    <tr>\n      <th>171</th>\n      <td>4A05</td>\n      <td>103909-15</td>\n      <td>今西利哈旺油粘米15</td>\n      <td>200811004</td>\n      <td>23</td>\n      <td>0</td>\n      <td>23</td>\n      <td>-23</td>\n      <td>0</td>\n    </tr>\n    <tr>\n      <th>210</th>\n      <td>4AH0</td>\n      <td>100607-05</td>\n      <td>曼哈浓香精选小茉莉香米5</td>\n      <td>200621010</td>\n      <td>2</td>\n      <td>0</td>\n      <td>2</td>\n      <td>-2</td>\n      <td>0</td>\n    </tr>\n    <tr>\n      <th>337</th>\n      <td>4B02</td>\n      <td>100607-10</td>\n      <td>曼哈浓香精选小茉莉香米10</td>\n      <td>200814004</td>\n      <td>150</td>\n      <td>0</td>\n      <td>150</td>\n      <td>-150</td>\n      <td>0</td>\n    </tr>\n  </tbody>\n</table>\n</div>"
     },
     "metadata": {}
    },
    {
     "output_type": "display_data",
     "data": {
      "text/plain": "       库位         料品            品名         批号  可用数量  冻结数量  总数量  delta  check\n88   3A09  150101-35  鸣象（尊桂）油粘米5*5  200811011   124     6  130   -124      6\n143  4A03  101301-10    太粮靓虾王香软米10  200816003     0   217  217      0    217\n364  4B03  101307-35   （西关）靓虾王米5*5  200805003     0     1    1      0      1",
      "text/html": "<div>\n<style scoped>\n    .dataframe tbody tr th:only-of-type {\n        vertical-align: middle;\n    }\n\n    .dataframe tbody tr th {\n        vertical-align: top;\n    }\n\n    .dataframe thead th {\n        text-align: right;\n    }\n</style>\n<table border=\"1\" class=\"dataframe\">\n  <thead>\n    <tr style=\"text-align: right;\">\n      <th></th>\n      <th>库位</th>\n      <th>料品</th>\n      <th>品名</th>\n      <th>批号</th>\n      <th>可用数量</th>\n      <th>冻结数量</th>\n      <th>总数量</th>\n      <th>delta</th>\n      <th>check</th>\n    </tr>\n  </thead>\n  <tbody>\n    <tr>\n      <th>88</th>\n      <td>3A09</td>\n      <td>150101-35</td>\n      <td>鸣象（尊桂）油粘米5*5</td>\n      <td>200811011</td>\n      <td>124</td>\n      <td>6</td>\n      <td>130</td>\n      <td>-124</td>\n      <td>6</td>\n    </tr>\n    <tr>\n      <th>143</th>\n      <td>4A03</td>\n      <td>101301-10</td>\n      <td>太粮靓虾王香软米10</td>\n      <td>200816003</td>\n      <td>0</td>\n      <td>217</td>\n      <td>217</td>\n      <td>0</td>\n      <td>217</td>\n    </tr>\n    <tr>\n      <th>364</th>\n      <td>4B03</td>\n      <td>101307-35</td>\n      <td>（西关）靓虾王米5*5</td>\n      <td>200805003</td>\n      <td>0</td>\n      <td>1</td>\n      <td>1</td>\n      <td>0</td>\n      <td>1</td>\n    </tr>\n  </tbody>\n</table>\n</div>"
     },
     "metadata": {}
    },
    {
     "output_type": "display_data",
     "data": {
      "text/plain": "       库位         料品             品名         批号  可用数量  冻结数量  总数量  delta  check\n411  4AP6  100101-25    太粮王泰国茉莉香米25  200817005     0     0    0     12     12\n412  4BH0  100607-10  曼哈浓香精选小茉莉香米10  200816004     0     0    0    191    191\n413  4A07  101202-10     马坝龙三星油粘米10  200818007     0     0    0     20     20\n414  4AP4  101302-10     经典靓虾王香软米10  200817019     0     0    0    127    127\n415  3A02  101303-10       （靓虾）软米10  200816006     0     0    0    345    345\n416  4AP2  101306-53    （红香）靓虾王米1.5  200526014     0     0    0      9      9\n417  3AP1  101402-10      米皇坊小农粘米10  200818004     0     0    0    445    445\n418  4B03  101420-15      米皇坊珍珠香米15  200817015     0     0    0     20     20\n419  4A06  101601-15     （米酷）马坝银粘15  200812004     0     0    0     21     21\n420  4AH0  104003-25     香满宾庭励福香米25  200725004     0     0    0     29     29\n421  4A00  105801-10        为食猫牙米10  200816005     0     0    0     11     11\n422  4A08  105803-10       太粮巴吞香米10  200812004     0     0    0     25     25\n423  4A01  160102-25      帝皇鹰喜之粮米25  200716036     0     0    0     91     91\n424  3A06  160204-35    喜之粮湖蟹卧田米5*5  200805013     0     0    0     66     66",
      "text/html": "<div>\n<style scoped>\n    .dataframe tbody tr th:only-of-type {\n        vertical-align: middle;\n    }\n\n    .dataframe tbody tr th {\n        vertical-align: top;\n    }\n\n    .dataframe thead th {\n        text-align: right;\n    }\n</style>\n<table border=\"1\" class=\"dataframe\">\n  <thead>\n    <tr style=\"text-align: right;\">\n      <th></th>\n      <th>库位</th>\n      <th>料品</th>\n      <th>品名</th>\n      <th>批号</th>\n      <th>可用数量</th>\n      <th>冻结数量</th>\n      <th>总数量</th>\n      <th>delta</th>\n      <th>check</th>\n    </tr>\n  </thead>\n  <tbody>\n    <tr>\n      <th>411</th>\n      <td>4AP6</td>\n      <td>100101-25</td>\n      <td>太粮王泰国茉莉香米25</td>\n      <td>200817005</td>\n      <td>0</td>\n      <td>0</td>\n      <td>0</td>\n      <td>12</td>\n      <td>12</td>\n    </tr>\n    <tr>\n      <th>412</th>\n      <td>4BH0</td>\n      <td>100607-10</td>\n      <td>曼哈浓香精选小茉莉香米10</td>\n      <td>200816004</td>\n      <td>0</td>\n      <td>0</td>\n      <td>0</td>\n      <td>191</td>\n      <td>191</td>\n    </tr>\n    <tr>\n      <th>413</th>\n      <td>4A07</td>\n      <td>101202-10</td>\n      <td>马坝龙三星油粘米10</td>\n      <td>200818007</td>\n      <td>0</td>\n      <td>0</td>\n      <td>0</td>\n      <td>20</td>\n      <td>20</td>\n    </tr>\n    <tr>\n      <th>414</th>\n      <td>4AP4</td>\n      <td>101302-10</td>\n      <td>经典靓虾王香软米10</td>\n      <td>200817019</td>\n      <td>0</td>\n      <td>0</td>\n      <td>0</td>\n      <td>127</td>\n      <td>127</td>\n    </tr>\n    <tr>\n      <th>415</th>\n      <td>3A02</td>\n      <td>101303-10</td>\n      <td>（靓虾）软米10</td>\n      <td>200816006</td>\n      <td>0</td>\n      <td>0</td>\n      <td>0</td>\n      <td>345</td>\n      <td>345</td>\n    </tr>\n    <tr>\n      <th>416</th>\n      <td>4AP2</td>\n      <td>101306-53</td>\n      <td>（红香）靓虾王米1.5</td>\n      <td>200526014</td>\n      <td>0</td>\n      <td>0</td>\n      <td>0</td>\n      <td>9</td>\n      <td>9</td>\n    </tr>\n    <tr>\n      <th>417</th>\n      <td>3AP1</td>\n      <td>101402-10</td>\n      <td>米皇坊小农粘米10</td>\n      <td>200818004</td>\n      <td>0</td>\n      <td>0</td>\n      <td>0</td>\n      <td>445</td>\n      <td>445</td>\n    </tr>\n    <tr>\n      <th>418</th>\n      <td>4B03</td>\n      <td>101420-15</td>\n      <td>米皇坊珍珠香米15</td>\n      <td>200817015</td>\n      <td>0</td>\n      <td>0</td>\n      <td>0</td>\n      <td>20</td>\n      <td>20</td>\n    </tr>\n    <tr>\n      <th>419</th>\n      <td>4A06</td>\n      <td>101601-15</td>\n      <td>（米酷）马坝银粘15</td>\n      <td>200812004</td>\n      <td>0</td>\n      <td>0</td>\n      <td>0</td>\n      <td>21</td>\n      <td>21</td>\n    </tr>\n    <tr>\n      <th>420</th>\n      <td>4AH0</td>\n      <td>104003-25</td>\n      <td>香满宾庭励福香米25</td>\n      <td>200725004</td>\n      <td>0</td>\n      <td>0</td>\n      <td>0</td>\n      <td>29</td>\n      <td>29</td>\n    </tr>\n    <tr>\n      <th>421</th>\n      <td>4A00</td>\n      <td>105801-10</td>\n      <td>为食猫牙米10</td>\n      <td>200816005</td>\n      <td>0</td>\n      <td>0</td>\n      <td>0</td>\n      <td>11</td>\n      <td>11</td>\n    </tr>\n    <tr>\n      <th>422</th>\n      <td>4A08</td>\n      <td>105803-10</td>\n      <td>太粮巴吞香米10</td>\n      <td>200812004</td>\n      <td>0</td>\n      <td>0</td>\n      <td>0</td>\n      <td>25</td>\n      <td>25</td>\n    </tr>\n    <tr>\n      <th>423</th>\n      <td>4A01</td>\n      <td>160102-25</td>\n      <td>帝皇鹰喜之粮米25</td>\n      <td>200716036</td>\n      <td>0</td>\n      <td>0</td>\n      <td>0</td>\n      <td>91</td>\n      <td>91</td>\n    </tr>\n    <tr>\n      <th>424</th>\n      <td>3A06</td>\n      <td>160204-35</td>\n      <td>喜之粮湖蟹卧田米5*5</td>\n      <td>200805013</td>\n      <td>0</td>\n      <td>0</td>\n      <td>0</td>\n      <td>66</td>\n      <td>66</td>\n    </tr>\n  </tbody>\n</table>\n</div>"
     },
     "metadata": {}
    }
   ],
   "source": [
    "tough = False\n",
    "trial = 5\n",
    "while not tough and trial > 0:\n",
    "    df = df0\n",
    "\n",
    "    display(f'#{trial}')\n",
    "    trial -= 1\n",
    "    df['delta'] = 0\n",
    "   \n",
    "    # wrong location or wrong batch\n",
    "    p_wlb = 0.5\n",
    "    r_wlb = 1.2 \n",
    "    assert 0 <= p_wlb <= 1 and r_wlb >= 0\n",
    "    for sku, df_sku in df.groupby(['料品']):\n",
    "        if len(df_sku) > 2:\n",
    "            for _ in range(len(df_sku)):    \n",
    "                if rnd() < p_wlb:\n",
    "                    _df = df_sku.sample(n=2)    # random pick 2 to switch\n",
    "                    a, b = _df.index[0], _df.index[1]\n",
    "                    d = int(df['总数量'][a] * rnd() * r_wlb)    # d > 0\n",
    "                    d = min(df['总数量'][a] + df['delta'][a], df['总数量'][b] + df['delta'][b], d)    # avoid negative\n",
    "                    df['delta'][a] -= d\n",
    "                    df['delta'][b] += d\n",
    "    display(len(df[df['delta'] != 0]))\n",
    "\n",
    "    # black inventory\n",
    "    p_bi = 0.05\n",
    "    r_bi = 0.3\n",
    "    assert 0 <= p_bi <= 1 and 0 < r_bi < 1\n",
    "    locations = df.groupby('库位').groups.keys()    \n",
    "    for sku_batch, df_sku_batch in df.groupby(['料品', '批号']):\n",
    "        sku, batch = sku_batch\n",
    "        locations_sku = df_sku_batch.groupby('库位').groups.keys()\n",
    "        goals = list(set(locations) - set(locations_sku))\n",
    "        for _ in range(len(df_sku_batch)):\n",
    "            if rnd() < p_bi:\n",
    "                _df = df_sku_batch.sample(n=1)    # random pick 1 to move out\n",
    "                i = _df.index[0]\n",
    "                d = int((_df['总数量'][i] + _df['delta'][i]) * rnd() * r_bi)\n",
    "                if d > 0:\n",
    "                    _df['库位'] = goals[int(len(goals) * rnd())]\n",
    "                    _df[['可用数量', '冻结数量', '总数量']] = 0\n",
    "                    _df['delta'] = d\n",
    "                    df['delta'][i] -= d\n",
    "                    df = pd.concat([df, _df], ignore_index=True)\n",
    "    display(len(df[df['delta'] != 0]))\n",
    "\n",
    "\n",
    "    # wrong amount\n",
    "    p_wa = 0.1\n",
    "    r_wa = 0.2\n",
    "    assert 0 <= p_wa <= 1 and r_wa >= 0\n",
    "    for i in df.index:\n",
    "        if rnd() < p_wa:\n",
    "            d = int(df['总数量'][i] * 2 * (rnd() - 0.5) * r_wa)\n",
    "            if d < 0:\n",
    "                df['delta'][i] = max(-df['总数量'][i], df['delta'][i] + d)    # avoid negative\n",
    "    display(len(df[df['delta'] != 0]))\n",
    "\n",
    "\n",
    "    # check whether it is tough enough\n",
    "    df['check'] = df['总数量'] + df['delta']\n",
    "    _insufficient = df[df['check'] < df['冻结数量']]\n",
    "    _missed = df[df['check'] == 0]\n",
    "    _frozen = df[(df['check'] > 0) & (df['check'] == df['冻结数量'])]\n",
    "    _black = df[(df['可用数量'] + df['冻结数量'] + df['总数量']) == 0]\n",
    "    if len(_insufficient) and len(_missed) and len(_frozen) and len(_black):\n",
    "          tough = True\n",
    "\n",
    "assert len(df[df['check'] < 0]) == 0\n",
    "display(_insufficient, _missed, _frozen, _black)"
   ]
  },
  {
   "cell_type": "code",
   "execution_count": 58,
   "metadata": {},
   "outputs": [
    {
     "output_type": "display_data",
     "data": {
      "text/plain": "       库位         料品                     品名            批号  可用数量  冻结数量   总数量  \\\n161  4A04  104101-25             金稻鱼太粮家乐米25     200724028    90     0    90   \n335  4B01  160102-25              帝皇鹰喜之粮米25     200815019    80     0    80   \n251  4AH1  100601-31  (红色）新米红曼哈浓香泰国茉莉香米1*20     200604001   100     0   100   \n1    3A00  100502-35         （橙色）柬埔寨茉莉香米5*5     200617002   405     0   405   \n213  4AH0  100607-05           曼哈浓香精选小茉莉香米5  200621010-03     2     0     2   \n92   3AP1  100601-10    (红色）新米红曼哈浓香泰国茉莉香米10     200729010    20     0    20   \n73   3A09  101301-75         太粮靓虾王香软米0.5*50     200708002    10     7    17   \n103  4A00  100101-35           太粮王泰国茉莉香米5*4     191119006    29     0    29   \n140  4A02  101601-15             （米酷）马坝银粘15     200812004   105     0   105   \n391  4BH0  103911-10             靓当家太粮虾仔米10     200815002    55     0    55   \n325  4B01  103902-25              鹰嘴香中国香米25     200817004   316     0   316   \n101  3AP1  107007-10            良谷纪（长粒香）米10     200814018   199     0   199   \n150  4A04  101301-25             太粮靓虾王香软米25     200816003   339     0   339   \n272  4AH2  170152-10                东北圆粒米10     200724013     1     0     1   \n178  4A06  101306-10             （红香）靓虾王米10     200815006  2057    80  2137   \n36   3A02  105812-35                泰粮香米5*5     200812007   271     0   271   \n309  4AP6  101301-10             太粮靓虾王香软米10     200816003  2417    44  2461   \n63   3A08  105812-35                泰粮香米5*5     200818010  1201     0  1201   \n138  4A02  101201-10             马坝龙五星油粘米10     200815005   657     0   657   \n125  4A00  107002-35            宫粥(稻花香)米5*5     200811022    62     0    62   \n\n     delta check  \n161    -86     4  \n335     -2    78  \n251      0  <NA>  \n1        0  <NA>  \n213      0  <NA>  \n92       0  <NA>  \n73       0  <NA>  \n103      2    31  \n140    -21    84  \n391      0  <NA>  \n325      0  <NA>  \n101      0  <NA>  \n150    111   450  \n272      0  <NA>  \n178      0  <NA>  \n36     271   542  \n309   2476  4937  \n63    -797   404  \n138      0  <NA>  \n125      0  <NA>  ",
      "text/html": "<div>\n<style scoped>\n    .dataframe tbody tr th:only-of-type {\n        vertical-align: middle;\n    }\n\n    .dataframe tbody tr th {\n        vertical-align: top;\n    }\n\n    .dataframe thead th {\n        text-align: right;\n    }\n</style>\n<table border=\"1\" class=\"dataframe\">\n  <thead>\n    <tr style=\"text-align: right;\">\n      <th></th>\n      <th>库位</th>\n      <th>料品</th>\n      <th>品名</th>\n      <th>批号</th>\n      <th>可用数量</th>\n      <th>冻结数量</th>\n      <th>总数量</th>\n      <th>delta</th>\n      <th>check</th>\n    </tr>\n  </thead>\n  <tbody>\n    <tr>\n      <th>161</th>\n      <td>4A04</td>\n      <td>104101-25</td>\n      <td>金稻鱼太粮家乐米25</td>\n      <td>200724028</td>\n      <td>90</td>\n      <td>0</td>\n      <td>90</td>\n      <td>-86</td>\n      <td>4</td>\n    </tr>\n    <tr>\n      <th>335</th>\n      <td>4B01</td>\n      <td>160102-25</td>\n      <td>帝皇鹰喜之粮米25</td>\n      <td>200815019</td>\n      <td>80</td>\n      <td>0</td>\n      <td>80</td>\n      <td>-2</td>\n      <td>78</td>\n    </tr>\n    <tr>\n      <th>251</th>\n      <td>4AH1</td>\n      <td>100601-31</td>\n      <td>(红色）新米红曼哈浓香泰国茉莉香米1*20</td>\n      <td>200604001</td>\n      <td>100</td>\n      <td>0</td>\n      <td>100</td>\n      <td>0</td>\n      <td>&lt;NA&gt;</td>\n    </tr>\n    <tr>\n      <th>1</th>\n      <td>3A00</td>\n      <td>100502-35</td>\n      <td>（橙色）柬埔寨茉莉香米5*5</td>\n      <td>200617002</td>\n      <td>405</td>\n      <td>0</td>\n      <td>405</td>\n      <td>0</td>\n      <td>&lt;NA&gt;</td>\n    </tr>\n    <tr>\n      <th>213</th>\n      <td>4AH0</td>\n      <td>100607-05</td>\n      <td>曼哈浓香精选小茉莉香米5</td>\n      <td>200621010-03</td>\n      <td>2</td>\n      <td>0</td>\n      <td>2</td>\n      <td>0</td>\n      <td>&lt;NA&gt;</td>\n    </tr>\n    <tr>\n      <th>92</th>\n      <td>3AP1</td>\n      <td>100601-10</td>\n      <td>(红色）新米红曼哈浓香泰国茉莉香米10</td>\n      <td>200729010</td>\n      <td>20</td>\n      <td>0</td>\n      <td>20</td>\n      <td>0</td>\n      <td>&lt;NA&gt;</td>\n    </tr>\n    <tr>\n      <th>73</th>\n      <td>3A09</td>\n      <td>101301-75</td>\n      <td>太粮靓虾王香软米0.5*50</td>\n      <td>200708002</td>\n      <td>10</td>\n      <td>7</td>\n      <td>17</td>\n      <td>0</td>\n      <td>&lt;NA&gt;</td>\n    </tr>\n    <tr>\n      <th>103</th>\n      <td>4A00</td>\n      <td>100101-35</td>\n      <td>太粮王泰国茉莉香米5*4</td>\n      <td>191119006</td>\n      <td>29</td>\n      <td>0</td>\n      <td>29</td>\n      <td>2</td>\n      <td>31</td>\n    </tr>\n    <tr>\n      <th>140</th>\n      <td>4A02</td>\n      <td>101601-15</td>\n      <td>（米酷）马坝银粘15</td>\n      <td>200812004</td>\n      <td>105</td>\n      <td>0</td>\n      <td>105</td>\n      <td>-21</td>\n      <td>84</td>\n    </tr>\n    <tr>\n      <th>391</th>\n      <td>4BH0</td>\n      <td>103911-10</td>\n      <td>靓当家太粮虾仔米10</td>\n      <td>200815002</td>\n      <td>55</td>\n      <td>0</td>\n      <td>55</td>\n      <td>0</td>\n      <td>&lt;NA&gt;</td>\n    </tr>\n    <tr>\n      <th>325</th>\n      <td>4B01</td>\n      <td>103902-25</td>\n      <td>鹰嘴香中国香米25</td>\n      <td>200817004</td>\n      <td>316</td>\n      <td>0</td>\n      <td>316</td>\n      <td>0</td>\n      <td>&lt;NA&gt;</td>\n    </tr>\n    <tr>\n      <th>101</th>\n      <td>3AP1</td>\n      <td>107007-10</td>\n      <td>良谷纪（长粒香）米10</td>\n      <td>200814018</td>\n      <td>199</td>\n      <td>0</td>\n      <td>199</td>\n      <td>0</td>\n      <td>&lt;NA&gt;</td>\n    </tr>\n    <tr>\n      <th>150</th>\n      <td>4A04</td>\n      <td>101301-25</td>\n      <td>太粮靓虾王香软米25</td>\n      <td>200816003</td>\n      <td>339</td>\n      <td>0</td>\n      <td>339</td>\n      <td>111</td>\n      <td>450</td>\n    </tr>\n    <tr>\n      <th>272</th>\n      <td>4AH2</td>\n      <td>170152-10</td>\n      <td>东北圆粒米10</td>\n      <td>200724013</td>\n      <td>1</td>\n      <td>0</td>\n      <td>1</td>\n      <td>0</td>\n      <td>&lt;NA&gt;</td>\n    </tr>\n    <tr>\n      <th>178</th>\n      <td>4A06</td>\n      <td>101306-10</td>\n      <td>（红香）靓虾王米10</td>\n      <td>200815006</td>\n      <td>2057</td>\n      <td>80</td>\n      <td>2137</td>\n      <td>0</td>\n      <td>&lt;NA&gt;</td>\n    </tr>\n    <tr>\n      <th>36</th>\n      <td>3A02</td>\n      <td>105812-35</td>\n      <td>泰粮香米5*5</td>\n      <td>200812007</td>\n      <td>271</td>\n      <td>0</td>\n      <td>271</td>\n      <td>271</td>\n      <td>542</td>\n    </tr>\n    <tr>\n      <th>309</th>\n      <td>4AP6</td>\n      <td>101301-10</td>\n      <td>太粮靓虾王香软米10</td>\n      <td>200816003</td>\n      <td>2417</td>\n      <td>44</td>\n      <td>2461</td>\n      <td>2476</td>\n      <td>4937</td>\n    </tr>\n    <tr>\n      <th>63</th>\n      <td>3A08</td>\n      <td>105812-35</td>\n      <td>泰粮香米5*5</td>\n      <td>200818010</td>\n      <td>1201</td>\n      <td>0</td>\n      <td>1201</td>\n      <td>-797</td>\n      <td>404</td>\n    </tr>\n    <tr>\n      <th>138</th>\n      <td>4A02</td>\n      <td>101201-10</td>\n      <td>马坝龙五星油粘米10</td>\n      <td>200815005</td>\n      <td>657</td>\n      <td>0</td>\n      <td>657</td>\n      <td>0</td>\n      <td>&lt;NA&gt;</td>\n    </tr>\n    <tr>\n      <th>125</th>\n      <td>4A00</td>\n      <td>107002-35</td>\n      <td>宫粥(稻花香)米5*5</td>\n      <td>200811022</td>\n      <td>62</td>\n      <td>0</td>\n      <td>62</td>\n      <td>0</td>\n      <td>&lt;NA&gt;</td>\n    </tr>\n  </tbody>\n</table>\n</div>"
     },
     "metadata": {}
    }
   ],
   "source": [
    "for i in df.index:\n",
    "        if df['delta'][i] == 0:\n",
    "            df['check'][i] = pd.NA\n",
    "display(df.sample(n=20))\n",
    "df.drop(columns=['delta']).to_csv(os.path.join(os.getcwd(), 'checked_list.csv'), index=False, encoding='utf-8-sig')"
   ]
  }
 ],
 "metadata": {
  "kernelspec": {
   "display_name": "Python 3",
   "language": "python",
   "name": "python3"
  },
  "language_info": {
   "codemirror_mode": {
    "name": "ipython",
    "version": 3
   },
   "file_extension": ".py",
   "mimetype": "text/x-python",
   "name": "python",
   "nbconvert_exporter": "python",
   "pygments_lexer": "ipython3",
   "version": "3.8.5-final"
  }
 },
 "nbformat": 4,
 "nbformat_minor": 4
}