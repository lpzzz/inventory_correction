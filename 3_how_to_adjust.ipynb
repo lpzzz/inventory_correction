{
 "cells": [
  {
   "cell_type": "code",
   "execution_count": 63,
   "metadata": {},
   "outputs": [],
   "source": [
    "import os\n",
    "import pandas as pd"
   ]
  },
  {
   "cell_type": "code",
   "execution_count": 64,
   "metadata": {},
   "outputs": [],
   "source": [
    "FILE = os.path.join(os.getcwd(), 'checked_list.csv')\n",
    "df = pd.read_csv(FILE, encoding='utf-8-sig')\n",
    "df['check'] = df[['check']].astype('Int64').fillna(0)"
   ]
  },
  {
   "cell_type": "code",
   "execution_count": 65,
   "metadata": {},
   "outputs": [
    {
     "output_type": "display_data",
     "data": {
      "text/plain": "       库位         料品              品名         批号  可用数量  冻结数量   总数量 check  \\\n21   3A01  101201-15      马坝龙五星油粘米15  200817019    62    70   132     0   \n54   3A07  101301-75  太粮靓虾王香软米0.5*50  200813007    14     3    17     0   \n73   3A09  101301-75  太粮靓虾王香软米0.5*50  200708002    10     7    17     0   \n143  4A03  101301-10      太粮靓虾王香软米10  200816003     0   217   217     0   \n155  4A04  101401-25   (紫色)米皇坊小农粘米25  200805007    32    40    72     0   \n176  4A06  101301-08       太粮靓虾王香软米8  200808007   160    80   240     0   \n178  4A06  101306-10      （红香）靓虾王米10  200815006  2057    80  2137     0   \n276  4AH4  101201-25      马坝龙五星油粘米25  200815005    13    40    53     0   \n288  4AH5  101306-25      （红香）靓虾王米25  200818003   170    30   200     0   \n302  4AP2  107001-32      宫粥东北大米2*10  200724012    19     7    26     0   \n311  4AP6  101601-10      （米酷）马坝银粘10  200817006     0    80    80    34   \n312  4B01  101201-10      马坝龙五星油粘米10  200811007   278    80   358     0   \n322  4B01  101601-25      （米酷）马坝银粘25  200812004     3    20    23     0   \n340  4B02  101301-15      太粮靓虾王香软米15  200812005   460   200   660     0   \n342  4B02  101301-25      太粮靓虾王香软米25  200813005   240    80   320     0   \n343  4B02  101303-10        （靓虾）软米10  200814003     0  1498  1498   865   \n364  4B03  101307-35     （西关）靓虾王米5*5  200805003     0     1     1     0   \n365  4B03  101308-35   （信鲜）靓虾王香软米5*5  200815001    40     6    46     0   \n374  4B04  101301-35     太粮靓虾王香软米5*5  200813005   389    20   409     0   \n376  4B04  101306-35     （红香）靓虾王米5*5  200818003   732     6   738     0   \n377  4B04  101307-35     （西关）靓虾王米5*5  200811007    68     5    73     0   \n380  4B04  103910-15          稻虾软米15  200816006  1755    10  1765     0   \n389  4BH0  103903-25      富贵玲珑小农粘米25  200818007   122    40   162     0   \n400  4BH0  160102-10       帝皇鹰喜之粮米10  200814004     1    74    75     0   \n\n         d  insufficient de-freeze  \n21    -132          True       -70  \n54     -17          True        -3  \n73     -17          True        -7  \n143   -217          True      -217  \n155    -72          True       -40  \n176   -240          True       -80  \n178  -2137          True       -80  \n276    -53          True       -40  \n288   -200          True       -30  \n302    -26          True        -7  \n311    -46          True       -46  \n312   -358          True       -80  \n322    -23          True       -20  \n340   -660          True      -200  \n342   -320          True       -80  \n343   -633          True      -633  \n364     -1          True        -1  \n365    -46          True        -6  \n374   -409          True       -20  \n376   -738          True        -6  \n377    -73          True        -5  \n380  -1765          True       -10  \n389   -162          True       -40  \n400    -75          True       -74  ",
      "text/html": "<div>\n<style scoped>\n    .dataframe tbody tr th:only-of-type {\n        vertical-align: middle;\n    }\n\n    .dataframe tbody tr th {\n        vertical-align: top;\n    }\n\n    .dataframe thead th {\n        text-align: right;\n    }\n</style>\n<table border=\"1\" class=\"dataframe\">\n  <thead>\n    <tr style=\"text-align: right;\">\n      <th></th>\n      <th>库位</th>\n      <th>料品</th>\n      <th>品名</th>\n      <th>批号</th>\n      <th>可用数量</th>\n      <th>冻结数量</th>\n      <th>总数量</th>\n      <th>check</th>\n      <th>d</th>\n      <th>insufficient</th>\n      <th>de-freeze</th>\n    </tr>\n  </thead>\n  <tbody>\n    <tr>\n      <th>21</th>\n      <td>3A01</td>\n      <td>101201-15</td>\n      <td>马坝龙五星油粘米15</td>\n      <td>200817019</td>\n      <td>62</td>\n      <td>70</td>\n      <td>132</td>\n      <td>0</td>\n      <td>-132</td>\n      <td>True</td>\n      <td>-70</td>\n    </tr>\n    <tr>\n      <th>54</th>\n      <td>3A07</td>\n      <td>101301-75</td>\n      <td>太粮靓虾王香软米0.5*50</td>\n      <td>200813007</td>\n      <td>14</td>\n      <td>3</td>\n      <td>17</td>\n      <td>0</td>\n      <td>-17</td>\n      <td>True</td>\n      <td>-3</td>\n    </tr>\n    <tr>\n      <th>73</th>\n      <td>3A09</td>\n      <td>101301-75</td>\n      <td>太粮靓虾王香软米0.5*50</td>\n      <td>200708002</td>\n      <td>10</td>\n      <td>7</td>\n      <td>17</td>\n      <td>0</td>\n      <td>-17</td>\n      <td>True</td>\n      <td>-7</td>\n    </tr>\n    <tr>\n      <th>143</th>\n      <td>4A03</td>\n      <td>101301-10</td>\n      <td>太粮靓虾王香软米10</td>\n      <td>200816003</td>\n      <td>0</td>\n      <td>217</td>\n      <td>217</td>\n      <td>0</td>\n      <td>-217</td>\n      <td>True</td>\n      <td>-217</td>\n    </tr>\n    <tr>\n      <th>155</th>\n      <td>4A04</td>\n      <td>101401-25</td>\n      <td>(紫色)米皇坊小农粘米25</td>\n      <td>200805007</td>\n      <td>32</td>\n      <td>40</td>\n      <td>72</td>\n      <td>0</td>\n      <td>-72</td>\n      <td>True</td>\n      <td>-40</td>\n    </tr>\n    <tr>\n      <th>176</th>\n      <td>4A06</td>\n      <td>101301-08</td>\n      <td>太粮靓虾王香软米8</td>\n      <td>200808007</td>\n      <td>160</td>\n      <td>80</td>\n      <td>240</td>\n      <td>0</td>\n      <td>-240</td>\n      <td>True</td>\n      <td>-80</td>\n    </tr>\n    <tr>\n      <th>178</th>\n      <td>4A06</td>\n      <td>101306-10</td>\n      <td>（红香）靓虾王米10</td>\n      <td>200815006</td>\n      <td>2057</td>\n      <td>80</td>\n      <td>2137</td>\n      <td>0</td>\n      <td>-2137</td>\n      <td>True</td>\n      <td>-80</td>\n    </tr>\n    <tr>\n      <th>276</th>\n      <td>4AH4</td>\n      <td>101201-25</td>\n      <td>马坝龙五星油粘米25</td>\n      <td>200815005</td>\n      <td>13</td>\n      <td>40</td>\n      <td>53</td>\n      <td>0</td>\n      <td>-53</td>\n      <td>True</td>\n      <td>-40</td>\n    </tr>\n    <tr>\n      <th>288</th>\n      <td>4AH5</td>\n      <td>101306-25</td>\n      <td>（红香）靓虾王米25</td>\n      <td>200818003</td>\n      <td>170</td>\n      <td>30</td>\n      <td>200</td>\n      <td>0</td>\n      <td>-200</td>\n      <td>True</td>\n      <td>-30</td>\n    </tr>\n    <tr>\n      <th>302</th>\n      <td>4AP2</td>\n      <td>107001-32</td>\n      <td>宫粥东北大米2*10</td>\n      <td>200724012</td>\n      <td>19</td>\n      <td>7</td>\n      <td>26</td>\n      <td>0</td>\n      <td>-26</td>\n      <td>True</td>\n      <td>-7</td>\n    </tr>\n    <tr>\n      <th>311</th>\n      <td>4AP6</td>\n      <td>101601-10</td>\n      <td>（米酷）马坝银粘10</td>\n      <td>200817006</td>\n      <td>0</td>\n      <td>80</td>\n      <td>80</td>\n      <td>34</td>\n      <td>-46</td>\n      <td>True</td>\n      <td>-46</td>\n    </tr>\n    <tr>\n      <th>312</th>\n      <td>4B01</td>\n      <td>101201-10</td>\n      <td>马坝龙五星油粘米10</td>\n      <td>200811007</td>\n      <td>278</td>\n      <td>80</td>\n      <td>358</td>\n      <td>0</td>\n      <td>-358</td>\n      <td>True</td>\n      <td>-80</td>\n    </tr>\n    <tr>\n      <th>322</th>\n      <td>4B01</td>\n      <td>101601-25</td>\n      <td>（米酷）马坝银粘25</td>\n      <td>200812004</td>\n      <td>3</td>\n      <td>20</td>\n      <td>23</td>\n      <td>0</td>\n      <td>-23</td>\n      <td>True</td>\n      <td>-20</td>\n    </tr>\n    <tr>\n      <th>340</th>\n      <td>4B02</td>\n      <td>101301-15</td>\n      <td>太粮靓虾王香软米15</td>\n      <td>200812005</td>\n      <td>460</td>\n      <td>200</td>\n      <td>660</td>\n      <td>0</td>\n      <td>-660</td>\n      <td>True</td>\n      <td>-200</td>\n    </tr>\n    <tr>\n      <th>342</th>\n      <td>4B02</td>\n      <td>101301-25</td>\n      <td>太粮靓虾王香软米25</td>\n      <td>200813005</td>\n      <td>240</td>\n      <td>80</td>\n      <td>320</td>\n      <td>0</td>\n      <td>-320</td>\n      <td>True</td>\n      <td>-80</td>\n    </tr>\n    <tr>\n      <th>343</th>\n      <td>4B02</td>\n      <td>101303-10</td>\n      <td>（靓虾）软米10</td>\n      <td>200814003</td>\n      <td>0</td>\n      <td>1498</td>\n      <td>1498</td>\n      <td>865</td>\n      <td>-633</td>\n      <td>True</td>\n      <td>-633</td>\n    </tr>\n    <tr>\n      <th>364</th>\n      <td>4B03</td>\n      <td>101307-35</td>\n      <td>（西关）靓虾王米5*5</td>\n      <td>200805003</td>\n      <td>0</td>\n      <td>1</td>\n      <td>1</td>\n      <td>0</td>\n      <td>-1</td>\n      <td>True</td>\n      <td>-1</td>\n    </tr>\n    <tr>\n      <th>365</th>\n      <td>4B03</td>\n      <td>101308-35</td>\n      <td>（信鲜）靓虾王香软米5*5</td>\n      <td>200815001</td>\n      <td>40</td>\n      <td>6</td>\n      <td>46</td>\n      <td>0</td>\n      <td>-46</td>\n      <td>True</td>\n      <td>-6</td>\n    </tr>\n    <tr>\n      <th>374</th>\n      <td>4B04</td>\n      <td>101301-35</td>\n      <td>太粮靓虾王香软米5*5</td>\n      <td>200813005</td>\n      <td>389</td>\n      <td>20</td>\n      <td>409</td>\n      <td>0</td>\n      <td>-409</td>\n      <td>True</td>\n      <td>-20</td>\n    </tr>\n    <tr>\n      <th>376</th>\n      <td>4B04</td>\n      <td>101306-35</td>\n      <td>（红香）靓虾王米5*5</td>\n      <td>200818003</td>\n      <td>732</td>\n      <td>6</td>\n      <td>738</td>\n      <td>0</td>\n      <td>-738</td>\n      <td>True</td>\n      <td>-6</td>\n    </tr>\n    <tr>\n      <th>377</th>\n      <td>4B04</td>\n      <td>101307-35</td>\n      <td>（西关）靓虾王米5*5</td>\n      <td>200811007</td>\n      <td>68</td>\n      <td>5</td>\n      <td>73</td>\n      <td>0</td>\n      <td>-73</td>\n      <td>True</td>\n      <td>-5</td>\n    </tr>\n    <tr>\n      <th>380</th>\n      <td>4B04</td>\n      <td>103910-15</td>\n      <td>稻虾软米15</td>\n      <td>200816006</td>\n      <td>1755</td>\n      <td>10</td>\n      <td>1765</td>\n      <td>0</td>\n      <td>-1765</td>\n      <td>True</td>\n      <td>-10</td>\n    </tr>\n    <tr>\n      <th>389</th>\n      <td>4BH0</td>\n      <td>103903-25</td>\n      <td>富贵玲珑小农粘米25</td>\n      <td>200818007</td>\n      <td>122</td>\n      <td>40</td>\n      <td>162</td>\n      <td>0</td>\n      <td>-162</td>\n      <td>True</td>\n      <td>-40</td>\n    </tr>\n    <tr>\n      <th>400</th>\n      <td>4BH0</td>\n      <td>160102-10</td>\n      <td>帝皇鹰喜之粮米10</td>\n      <td>200814004</td>\n      <td>1</td>\n      <td>74</td>\n      <td>75</td>\n      <td>0</td>\n      <td>-75</td>\n      <td>True</td>\n      <td>-74</td>\n    </tr>\n  </tbody>\n</table>\n</div>"
     },
     "metadata": {}
    },
    {
     "output_type": "display_data",
     "data": {
      "text/plain": "库位              object\n料品              object\n品名              object\n批号              object\n可用数量             int64\n冻结数量             int64\n总数量              int64\ncheck           object\nd               object\ninsufficient      bool\nde-freeze       object\ndtype: object"
     },
     "metadata": {}
    }
   ],
   "source": [
    "df['d'] = df['check'] - df['总数量']\n",
    "df['insufficient'] = df['可用数量'] + df['d'] < 0\n",
    "df['de-freeze'] = df[df['insufficient']]['可用数量'] + df[df['insufficient']]['d']\n",
    "display(df[df['insufficient']])\n",
    "display(df.dtypes)"
   ]
  },
  {
   "cell_type": "code",
   "execution_count": 77,
   "metadata": {},
   "outputs": [
    {
     "output_type": "display_data",
     "data": {
      "text/plain": "   from   to     n        sku      batch\n0   285  411    12  100101-25  200817005\n1   105   18     5  100101-40  200101001\n2    45   32    32  100501-35  200814006\n3    60   32   158  100501-35  200814006\n4    34   52    91  100607-35  200817001\n5    50   20    52  101101-32  200612007\n6    50  297    31  101101-32  200612007\n7   382  413    20  101202-10  200818007\n8   339  309  2476  101301-10  200816003\n9   301  298     8  101301-32  200608040\n10   55  414   127  101302-10  200817019\n11  363  344   191  101303-10  200815003\n12  114  415   108  101303-10  200816006\n13  345  415   237  101303-10  200816006\n14  346  310   567  101303-10  200818004\n15  253  416     9  101306-53  200526014\n16  348  152   171  101308-25  200811005\n17  317  417   445  101402-10  200818004\n18  402  418    20  101420-15  200817015\n19   62  278     1  101420-25  200811023\n20  121   56     2  101420-35  200814019\n21  311  355    46  101601-10  200817006\n22  140  419    21  101601-15  200812004\n23  131  420    29  104003-25  200725004\n24   99  307     8  104101-85  200801008\n25  392  421    11  105801-10  200816005\n26  393  371     1  105801-25  200816005\n27  190  422    25  105803-10  200812004\n28  332  397     3  150101-15  200814001\n29   59   43   124  150101-35  200818010\n30   15  127    15  150103-35  200812007\n31  163  423    70  160102-25  200716036\n32  128  424    66  160204-35  200805013",
      "text/html": "<div>\n<style scoped>\n    .dataframe tbody tr th:only-of-type {\n        vertical-align: middle;\n    }\n\n    .dataframe tbody tr th {\n        vertical-align: top;\n    }\n\n    .dataframe thead th {\n        text-align: right;\n    }\n</style>\n<table border=\"1\" class=\"dataframe\">\n  <thead>\n    <tr style=\"text-align: right;\">\n      <th></th>\n      <th>from</th>\n      <th>to</th>\n      <th>n</th>\n      <th>sku</th>\n      <th>batch</th>\n    </tr>\n  </thead>\n  <tbody>\n    <tr>\n      <th>0</th>\n      <td>285</td>\n      <td>411</td>\n      <td>12</td>\n      <td>100101-25</td>\n      <td>200817005</td>\n    </tr>\n    <tr>\n      <th>1</th>\n      <td>105</td>\n      <td>18</td>\n      <td>5</td>\n      <td>100101-40</td>\n      <td>200101001</td>\n    </tr>\n    <tr>\n      <th>2</th>\n      <td>45</td>\n      <td>32</td>\n      <td>32</td>\n      <td>100501-35</td>\n      <td>200814006</td>\n    </tr>\n    <tr>\n      <th>3</th>\n      <td>60</td>\n      <td>32</td>\n      <td>158</td>\n      <td>100501-35</td>\n      <td>200814006</td>\n    </tr>\n    <tr>\n      <th>4</th>\n      <td>34</td>\n      <td>52</td>\n      <td>91</td>\n      <td>100607-35</td>\n      <td>200817001</td>\n    </tr>\n    <tr>\n      <th>5</th>\n      <td>50</td>\n      <td>20</td>\n      <td>52</td>\n      <td>101101-32</td>\n      <td>200612007</td>\n    </tr>\n    <tr>\n      <th>6</th>\n      <td>50</td>\n      <td>297</td>\n      <td>31</td>\n      <td>101101-32</td>\n      <td>200612007</td>\n    </tr>\n    <tr>\n      <th>7</th>\n      <td>382</td>\n      <td>413</td>\n      <td>20</td>\n      <td>101202-10</td>\n      <td>200818007</td>\n    </tr>\n    <tr>\n      <th>8</th>\n      <td>339</td>\n      <td>309</td>\n      <td>2476</td>\n      <td>101301-10</td>\n      <td>200816003</td>\n    </tr>\n    <tr>\n      <th>9</th>\n      <td>301</td>\n      <td>298</td>\n      <td>8</td>\n      <td>101301-32</td>\n      <td>200608040</td>\n    </tr>\n    <tr>\n      <th>10</th>\n      <td>55</td>\n      <td>414</td>\n      <td>127</td>\n      <td>101302-10</td>\n      <td>200817019</td>\n    </tr>\n    <tr>\n      <th>11</th>\n      <td>363</td>\n      <td>344</td>\n      <td>191</td>\n      <td>101303-10</td>\n      <td>200815003</td>\n    </tr>\n    <tr>\n      <th>12</th>\n      <td>114</td>\n      <td>415</td>\n      <td>108</td>\n      <td>101303-10</td>\n      <td>200816006</td>\n    </tr>\n    <tr>\n      <th>13</th>\n      <td>345</td>\n      <td>415</td>\n      <td>237</td>\n      <td>101303-10</td>\n      <td>200816006</td>\n    </tr>\n    <tr>\n      <th>14</th>\n      <td>346</td>\n      <td>310</td>\n      <td>567</td>\n      <td>101303-10</td>\n      <td>200818004</td>\n    </tr>\n    <tr>\n      <th>15</th>\n      <td>253</td>\n      <td>416</td>\n      <td>9</td>\n      <td>101306-53</td>\n      <td>200526014</td>\n    </tr>\n    <tr>\n      <th>16</th>\n      <td>348</td>\n      <td>152</td>\n      <td>171</td>\n      <td>101308-25</td>\n      <td>200811005</td>\n    </tr>\n    <tr>\n      <th>17</th>\n      <td>317</td>\n      <td>417</td>\n      <td>445</td>\n      <td>101402-10</td>\n      <td>200818004</td>\n    </tr>\n    <tr>\n      <th>18</th>\n      <td>402</td>\n      <td>418</td>\n      <td>20</td>\n      <td>101420-15</td>\n      <td>200817015</td>\n    </tr>\n    <tr>\n      <th>19</th>\n      <td>62</td>\n      <td>278</td>\n      <td>1</td>\n      <td>101420-25</td>\n      <td>200811023</td>\n    </tr>\n    <tr>\n      <th>20</th>\n      <td>121</td>\n      <td>56</td>\n      <td>2</td>\n      <td>101420-35</td>\n      <td>200814019</td>\n    </tr>\n    <tr>\n      <th>21</th>\n      <td>311</td>\n      <td>355</td>\n      <td>46</td>\n      <td>101601-10</td>\n      <td>200817006</td>\n    </tr>\n    <tr>\n      <th>22</th>\n      <td>140</td>\n      <td>419</td>\n      <td>21</td>\n      <td>101601-15</td>\n      <td>200812004</td>\n    </tr>\n    <tr>\n      <th>23</th>\n      <td>131</td>\n      <td>420</td>\n      <td>29</td>\n      <td>104003-25</td>\n      <td>200725004</td>\n    </tr>\n    <tr>\n      <th>24</th>\n      <td>99</td>\n      <td>307</td>\n      <td>8</td>\n      <td>104101-85</td>\n      <td>200801008</td>\n    </tr>\n    <tr>\n      <th>25</th>\n      <td>392</td>\n      <td>421</td>\n      <td>11</td>\n      <td>105801-10</td>\n      <td>200816005</td>\n    </tr>\n    <tr>\n      <th>26</th>\n      <td>393</td>\n      <td>371</td>\n      <td>1</td>\n      <td>105801-25</td>\n      <td>200816005</td>\n    </tr>\n    <tr>\n      <th>27</th>\n      <td>190</td>\n      <td>422</td>\n      <td>25</td>\n      <td>105803-10</td>\n      <td>200812004</td>\n    </tr>\n    <tr>\n      <th>28</th>\n      <td>332</td>\n      <td>397</td>\n      <td>3</td>\n      <td>150101-15</td>\n      <td>200814001</td>\n    </tr>\n    <tr>\n      <th>29</th>\n      <td>59</td>\n      <td>43</td>\n      <td>124</td>\n      <td>150101-35</td>\n      <td>200818010</td>\n    </tr>\n    <tr>\n      <th>30</th>\n      <td>15</td>\n      <td>127</td>\n      <td>15</td>\n      <td>150103-35</td>\n      <td>200812007</td>\n    </tr>\n    <tr>\n      <th>31</th>\n      <td>163</td>\n      <td>423</td>\n      <td>70</td>\n      <td>160102-25</td>\n      <td>200716036</td>\n    </tr>\n    <tr>\n      <th>32</th>\n      <td>128</td>\n      <td>424</td>\n      <td>66</td>\n      <td>160204-35</td>\n      <td>200805013</td>\n    </tr>\n  </tbody>\n</table>\n</div>"
     },
     "metadata": {}
    }
   ],
   "source": [
    "tag = ['from', 'to', 'n']\n",
    "checkio = pd.DataFrame(columns=tag)\n",
    "\n",
    "for _, df_sku in df[df['d'] != 0].groupby(['料品', '批号']):\n",
    "    if len(df_sku) == 1:\n",
    "        pass\n",
    "    else:\n",
    "        move = list()\n",
    "        # display(df_sku)\n",
    "        ds = df_sku['d']\n",
    "        m = - ds[ds < 0]   # minus\n",
    "        p = ds[ds > 0]  # plus\n",
    "        if len(m) > 0 and len(p) > 0:\n",
    "            # display(- m, p)\n",
    "            m.sort_values(ascending=False)\n",
    "            p.sort_values(ascending=False)\n",
    "\n",
    "            if m.sum() != p.sum():\n",
    "                if m.sum() > p.sum():\n",
    "                    more, less = m, p\n",
    "                else:\n",
    "                    more, less = p, m\n",
    "                difference = more.sum() - less.sum()\n",
    "                while difference >= more.iloc[0]:\n",
    "                    difference -= more.pop(more.index[0])\n",
    "                if difference > 0:\n",
    "                    i = 0\n",
    "                    while i < len(more) and difference <= more.iloc[i]:\n",
    "                        i += 1\n",
    "                    if more.iloc[i - 1] == 0:\n",
    "                        more.pop(more.index[i - 1])\n",
    "                    else:\n",
    "                        more.iloc[i - 1] -= difference                \n",
    "                more.sort_values(ascending=False)\n",
    "            # display(- m, p)\n",
    "            \n",
    "            i = 0\n",
    "            while i < len(m):\n",
    "                n = m.iloc[i]\n",
    "                matched = p[p == n].index\n",
    "                if len(matched) > 0:  \n",
    "                    move.append((m.index[i], matched[0], n))\n",
    "                    m.pop(m.index[i])\n",
    "                    p.pop(matched[0])\n",
    "                else:\n",
    "                    i += 1\n",
    "            while len(m) > 0 and len(p) > 0:      \n",
    "                move.append((m.index[0], p.index[0], min(m.iloc[0], p.iloc[0])))\n",
    "                if m.iloc[0] > p.iloc[0]:\n",
    "                    more, less, s_lt_d = m, p, True\n",
    "                else:\n",
    "                    more, less, s_lt_d = p, m, False\n",
    "                more.iloc[0] -= less.pop(less.index[0])\n",
    "                n = more.iloc[0]\n",
    "                matched = less[less == n].index\n",
    "                if len(matched) > 0:\n",
    "                    if s_lt_d:     # supply larger than demand\n",
    "                        move.append((more.index[0], matched[0], n))\n",
    "                    else:\n",
    "                        move.append((matched[0], more.index[0], n))                        \n",
    "                    more.pop(more.index[0])\n",
    "                    less.pop(matched[0])\n",
    "\n",
    "            # display(move)  \n",
    "            checkio = pd.concat([checkio, pd.DataFrame(move, columns=tag)], ignore_index=True)\n",
    "checkio['sku'] = checkio['from'].map(lambda x: df['料品'][x])\n",
    "checkio['batch'] = checkio['from'].map(lambda x: df['批号'][x])\n",
    "checkio.set_index(['sku', 'batch'])\n",
    "display(checkio)\n",
    "assert len(checkio[checkio['n'] <= 0]) == 0\n",
    "    "
   ]
  },
  {
   "cell_type": "code",
   "execution_count": null,
   "metadata": {},
   "outputs": [],
   "source": []
  }
 ],
 "metadata": {
  "kernelspec": {
   "display_name": "Python 3",
   "language": "python",
   "name": "python3"
  },
  "language_info": {
   "codemirror_mode": {
    "name": "ipython",
    "version": 3
   },
   "file_extension": ".py",
   "mimetype": "text/x-python",
   "name": "python",
   "nbconvert_exporter": "python",
   "pygments_lexer": "ipython3",
   "version": "3.8.3-final"
  }
 },
 "nbformat": 4,
 "nbformat_minor": 4
}