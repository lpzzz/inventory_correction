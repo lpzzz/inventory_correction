{
 "cells": [
  {
   "cell_type": "code",
   "execution_count": 8,
   "metadata": {},
   "outputs": [],
   "source": [
    "import os\n",
    "import pandas as pd"
   ]
  },
  {
   "cell_type": "code",
   "execution_count": 9,
   "metadata": {},
   "outputs": [],
   "source": [
    "FILE = os.path.join(os.getcwd(), 'checked_list.csv')\n",
    "df = pd.read_csv(FILE, encoding='utf-8-sig')\n",
    "df['check'] = df[['check']].astype('Int64')"
   ]
  },
  {
   "cell_type": "code",
   "execution_count": 10,
   "metadata": {},
   "outputs": [
    {
     "output_type": "execute_result",
     "data": {
      "text/plain": "库位       object\n料品       object\n品名       object\n批号       object\n可用数量      int64\n冻结数量      int64\n总数量       int64\ncheck    object\nd         int64\ndtype: object"
     },
     "metadata": {},
     "execution_count": 10
    }
   ],
   "source": [
    "df['d'] = [0 if d is pd.NA else d for d in df['check'] - df['总数量']] \n",
    "df.dtypes"
   ]
  },
  {
   "cell_type": "code",
   "execution_count": 11,
   "metadata": {},
   "outputs": [
    {
     "output_type": "display_data",
     "data": {
      "text/plain": "       库位         料品           品名         批号  可用数量  冻结数量  总数量 check   d\n285  4AH5  100101-25  太粮王泰国茉莉香米25  200817005    60     0   60    48 -12\n411  4AP6  100101-25  太粮王泰国茉莉香米25  200817005     0     0    0    12  12",
      "text/html": "<div>\n<style scoped>\n    .dataframe tbody tr th:only-of-type {\n        vertical-align: middle;\n    }\n\n    .dataframe tbody tr th {\n        vertical-align: top;\n    }\n\n    .dataframe thead th {\n        text-align: right;\n    }\n</style>\n<table border=\"1\" class=\"dataframe\">\n  <thead>\n    <tr style=\"text-align: right;\">\n      <th></th>\n      <th>库位</th>\n      <th>料品</th>\n      <th>品名</th>\n      <th>批号</th>\n      <th>可用数量</th>\n      <th>冻结数量</th>\n      <th>总数量</th>\n      <th>check</th>\n      <th>d</th>\n    </tr>\n  </thead>\n  <tbody>\n    <tr>\n      <th>285</th>\n      <td>4AH5</td>\n      <td>100101-25</td>\n      <td>太粮王泰国茉莉香米25</td>\n      <td>200817005</td>\n      <td>60</td>\n      <td>0</td>\n      <td>60</td>\n      <td>48</td>\n      <td>-12</td>\n    </tr>\n    <tr>\n      <th>411</th>\n      <td>4AP6</td>\n      <td>100101-25</td>\n      <td>太粮王泰国茉莉香米25</td>\n      <td>200817005</td>\n      <td>0</td>\n      <td>0</td>\n      <td>0</td>\n      <td>12</td>\n      <td>12</td>\n    </tr>\n  </tbody>\n</table>\n</div>"
     },
     "metadata": {}
    },
    {
     "output_type": "display_data",
     "data": {
      "text/plain": "       库位         料品            品名         批号  可用数量  冻结数量  总数量 check  d\n0    3A00  100101-35  太粮王泰国茉莉香米5*4  200101001     4     0    4     6  2\n102  4A00  100101-35  太粮王泰国茉莉香米5*4  191119004     5     0    5     1 -4\n103  4A00  100101-35  太粮王泰国茉莉香米5*4  191119006    29     0   29    31  2",
      "text/html": "<div>\n<style scoped>\n    .dataframe tbody tr th:only-of-type {\n        vertical-align: middle;\n    }\n\n    .dataframe tbody tr th {\n        vertical-align: top;\n    }\n\n    .dataframe thead th {\n        text-align: right;\n    }\n</style>\n<table border=\"1\" class=\"dataframe\">\n  <thead>\n    <tr style=\"text-align: right;\">\n      <th></th>\n      <th>库位</th>\n      <th>料品</th>\n      <th>品名</th>\n      <th>批号</th>\n      <th>可用数量</th>\n      <th>冻结数量</th>\n      <th>总数量</th>\n      <th>check</th>\n      <th>d</th>\n    </tr>\n  </thead>\n  <tbody>\n    <tr>\n      <th>0</th>\n      <td>3A00</td>\n      <td>100101-35</td>\n      <td>太粮王泰国茉莉香米5*4</td>\n      <td>200101001</td>\n      <td>4</td>\n      <td>0</td>\n      <td>4</td>\n      <td>6</td>\n      <td>2</td>\n    </tr>\n    <tr>\n      <th>102</th>\n      <td>4A00</td>\n      <td>100101-35</td>\n      <td>太粮王泰国茉莉香米5*4</td>\n      <td>191119004</td>\n      <td>5</td>\n      <td>0</td>\n      <td>5</td>\n      <td>1</td>\n      <td>-4</td>\n    </tr>\n    <tr>\n      <th>103</th>\n      <td>4A00</td>\n      <td>100101-35</td>\n      <td>太粮王泰国茉莉香米5*4</td>\n      <td>191119006</td>\n      <td>29</td>\n      <td>0</td>\n      <td>29</td>\n      <td>31</td>\n      <td>2</td>\n    </tr>\n  </tbody>\n</table>\n</div>"
     },
     "metadata": {}
    },
    {
     "output_type": "display_data",
     "data": {
      "text/plain": "      库位         料品             品名         批号  可用数量  冻结数量  总数量 check   d\n17  3A01  100101-40  太粮王泰国茉莉香米10*3  191119003    11     0   11     1 -10\n18  3A01  100101-40  太粮王泰国茉莉香米10*3  200101001    20     0   20    30  10",
      "text/html": "<div>\n<style scoped>\n    .dataframe tbody tr th:only-of-type {\n        vertical-align: middle;\n    }\n\n    .dataframe tbody tr th {\n        vertical-align: top;\n    }\n\n    .dataframe thead th {\n        text-align: right;\n    }\n</style>\n<table border=\"1\" class=\"dataframe\">\n  <thead>\n    <tr style=\"text-align: right;\">\n      <th></th>\n      <th>库位</th>\n      <th>料品</th>\n      <th>品名</th>\n      <th>批号</th>\n      <th>可用数量</th>\n      <th>冻结数量</th>\n      <th>总数量</th>\n      <th>check</th>\n      <th>d</th>\n    </tr>\n  </thead>\n  <tbody>\n    <tr>\n      <th>17</th>\n      <td>3A01</td>\n      <td>100101-40</td>\n      <td>太粮王泰国茉莉香米10*3</td>\n      <td>191119003</td>\n      <td>11</td>\n      <td>0</td>\n      <td>11</td>\n      <td>1</td>\n      <td>-10</td>\n    </tr>\n    <tr>\n      <th>18</th>\n      <td>3A01</td>\n      <td>100101-40</td>\n      <td>太粮王泰国茉莉香米10*3</td>\n      <td>200101001</td>\n      <td>20</td>\n      <td>0</td>\n      <td>20</td>\n      <td>30</td>\n      <td>10</td>\n    </tr>\n  </tbody>\n</table>\n</div>"
     },
     "metadata": {}
    },
    {
     "output_type": "display_data",
     "data": {
      "text/plain": "      库位         料品          品名         批号  可用数量  冻结数量  总数量 check    d\n32  3A02  100501-35  柬埔寨茉莉香米5*5  200814006   170     0  170   360  190\n38  3A04  100501-35  柬埔寨茉莉香米5*5  200814006   648     0  648   616  -32\n60  3A08  100501-35  柬埔寨茉莉香米5*5  200814006   648     0  648   490 -158",
      "text/html": "<div>\n<style scoped>\n    .dataframe tbody tr th:only-of-type {\n        vertical-align: middle;\n    }\n\n    .dataframe tbody tr th {\n        vertical-align: top;\n    }\n\n    .dataframe thead th {\n        text-align: right;\n    }\n</style>\n<table border=\"1\" class=\"dataframe\">\n  <thead>\n    <tr style=\"text-align: right;\">\n      <th></th>\n      <th>库位</th>\n      <th>料品</th>\n      <th>品名</th>\n      <th>批号</th>\n      <th>可用数量</th>\n      <th>冻结数量</th>\n      <th>总数量</th>\n      <th>check</th>\n      <th>d</th>\n    </tr>\n  </thead>\n  <tbody>\n    <tr>\n      <th>32</th>\n      <td>3A02</td>\n      <td>100501-35</td>\n      <td>柬埔寨茉莉香米5*5</td>\n      <td>200814006</td>\n      <td>170</td>\n      <td>0</td>\n      <td>170</td>\n      <td>360</td>\n      <td>190</td>\n    </tr>\n    <tr>\n      <th>38</th>\n      <td>3A04</td>\n      <td>100501-35</td>\n      <td>柬埔寨茉莉香米5*5</td>\n      <td>200814006</td>\n      <td>648</td>\n      <td>0</td>\n      <td>648</td>\n      <td>616</td>\n      <td>-32</td>\n    </tr>\n    <tr>\n      <th>60</th>\n      <td>3A08</td>\n      <td>100501-35</td>\n      <td>柬埔寨茉莉香米5*5</td>\n      <td>200814006</td>\n      <td>648</td>\n      <td>0</td>\n      <td>648</td>\n      <td>490</td>\n      <td>-158</td>\n    </tr>\n  </tbody>\n</table>\n</div>"
     },
     "metadata": {}
    },
    {
     "output_type": "display_data",
     "data": {
      "text/plain": "      库位         料品              品名         批号  可用数量  冻结数量  总数量 check   d\n90  3AP1  100502-35  （橙色）柬埔寨茉莉香米5*5  200617002    39     0   39     0 -39\n91  3AP1  100502-35  （橙色）柬埔寨茉莉香米5*5  200620003    30     0   30    69  39",
      "text/html": "<div>\n<style scoped>\n    .dataframe tbody tr th:only-of-type {\n        vertical-align: middle;\n    }\n\n    .dataframe tbody tr th {\n        vertical-align: top;\n    }\n\n    .dataframe thead th {\n        text-align: right;\n    }\n</style>\n<table border=\"1\" class=\"dataframe\">\n  <thead>\n    <tr style=\"text-align: right;\">\n      <th></th>\n      <th>库位</th>\n      <th>料品</th>\n      <th>品名</th>\n      <th>批号</th>\n      <th>可用数量</th>\n      <th>冻结数量</th>\n      <th>总数量</th>\n      <th>check</th>\n      <th>d</th>\n    </tr>\n  </thead>\n  <tbody>\n    <tr>\n      <th>90</th>\n      <td>3AP1</td>\n      <td>100502-35</td>\n      <td>（橙色）柬埔寨茉莉香米5*5</td>\n      <td>200617002</td>\n      <td>39</td>\n      <td>0</td>\n      <td>39</td>\n      <td>0</td>\n      <td>-39</td>\n    </tr>\n    <tr>\n      <th>91</th>\n      <td>3AP1</td>\n      <td>100502-35</td>\n      <td>（橙色）柬埔寨茉莉香米5*5</td>\n      <td>200620003</td>\n      <td>30</td>\n      <td>0</td>\n      <td>30</td>\n      <td>69</td>\n      <td>39</td>\n    </tr>\n  </tbody>\n</table>\n</div>"
     },
     "metadata": {}
    },
    {
     "output_type": "display_data",
     "data": {
      "text/plain": "       库位         料品            品名         批号  可用数量  冻结数量  总数量 check    d\n183  4A07  100604-10  曼哈浓香德莉进口香米10  200725009     5     0    5     3   -2\n184  4A07  100604-10  曼哈浓香德莉进口香米10  200804001    28     0   28    23   -5\n185  4A07  100604-10  曼哈浓香德莉进口香米10  200811001   278     0  278   378  100\n186  4A07  100604-10  曼哈浓香德莉进口香米10  200813013   173     0  173    27 -146",
      "text/html": "<div>\n<style scoped>\n    .dataframe tbody tr th:only-of-type {\n        vertical-align: middle;\n    }\n\n    .dataframe tbody tr th {\n        vertical-align: top;\n    }\n\n    .dataframe thead th {\n        text-align: right;\n    }\n</style>\n<table border=\"1\" class=\"dataframe\">\n  <thead>\n    <tr style=\"text-align: right;\">\n      <th></th>\n      <th>库位</th>\n      <th>料品</th>\n      <th>品名</th>\n      <th>批号</th>\n      <th>可用数量</th>\n      <th>冻结数量</th>\n      <th>总数量</th>\n      <th>check</th>\n      <th>d</th>\n    </tr>\n  </thead>\n  <tbody>\n    <tr>\n      <th>183</th>\n      <td>4A07</td>\n      <td>100604-10</td>\n      <td>曼哈浓香德莉进口香米10</td>\n      <td>200725009</td>\n      <td>5</td>\n      <td>0</td>\n      <td>5</td>\n      <td>3</td>\n      <td>-2</td>\n    </tr>\n    <tr>\n      <th>184</th>\n      <td>4A07</td>\n      <td>100604-10</td>\n      <td>曼哈浓香德莉进口香米10</td>\n      <td>200804001</td>\n      <td>28</td>\n      <td>0</td>\n      <td>28</td>\n      <td>23</td>\n      <td>-5</td>\n    </tr>\n    <tr>\n      <th>185</th>\n      <td>4A07</td>\n      <td>100604-10</td>\n      <td>曼哈浓香德莉进口香米10</td>\n      <td>200811001</td>\n      <td>278</td>\n      <td>0</td>\n      <td>278</td>\n      <td>378</td>\n      <td>100</td>\n    </tr>\n    <tr>\n      <th>186</th>\n      <td>4A07</td>\n      <td>100604-10</td>\n      <td>曼哈浓香德莉进口香米10</td>\n      <td>200813013</td>\n      <td>173</td>\n      <td>0</td>\n      <td>173</td>\n      <td>27</td>\n      <td>-146</td>\n    </tr>\n  </tbody>\n</table>\n</div>"
     },
     "metadata": {}
    },
    {
     "output_type": "display_data",
     "data": {
      "text/plain": "       库位         料品            品名         批号  可用数量  冻结数量  总数量 check   d\n149  4A04  100604-25  曼哈浓香德莉进口香米25  200811001   259     0  259   222 -37",
      "text/html": "<div>\n<style scoped>\n    .dataframe tbody tr th:only-of-type {\n        vertical-align: middle;\n    }\n\n    .dataframe tbody tr th {\n        vertical-align: top;\n    }\n\n    .dataframe thead th {\n        text-align: right;\n    }\n</style>\n<table border=\"1\" class=\"dataframe\">\n  <thead>\n    <tr style=\"text-align: right;\">\n      <th></th>\n      <th>库位</th>\n      <th>料品</th>\n      <th>品名</th>\n      <th>批号</th>\n      <th>可用数量</th>\n      <th>冻结数量</th>\n      <th>总数量</th>\n      <th>check</th>\n      <th>d</th>\n    </tr>\n  </thead>\n  <tbody>\n    <tr>\n      <th>149</th>\n      <td>4A04</td>\n      <td>100604-25</td>\n      <td>曼哈浓香德莉进口香米25</td>\n      <td>200811001</td>\n      <td>259</td>\n      <td>0</td>\n      <td>259</td>\n      <td>222</td>\n      <td>-37</td>\n    </tr>\n  </tbody>\n</table>\n</div>"
     },
     "metadata": {}
    },
    {
     "output_type": "display_data",
     "data": {
      "text/plain": "       库位         料品            品名            批号  可用数量  冻结数量  总数量 check  d\n210  4AH0  100607-05  曼哈浓香精选小茉莉香米5     200621010     2     0    2     0 -2\n211  4AH0  100607-05  曼哈浓香精选小茉莉香米5  200621010-01     2     0    2     4  2",
      "text/html": "<div>\n<style scoped>\n    .dataframe tbody tr th:only-of-type {\n        vertical-align: middle;\n    }\n\n    .dataframe tbody tr th {\n        vertical-align: top;\n    }\n\n    .dataframe thead th {\n        text-align: right;\n    }\n</style>\n<table border=\"1\" class=\"dataframe\">\n  <thead>\n    <tr style=\"text-align: right;\">\n      <th></th>\n      <th>库位</th>\n      <th>料品</th>\n      <th>品名</th>\n      <th>批号</th>\n      <th>可用数量</th>\n      <th>冻结数量</th>\n      <th>总数量</th>\n      <th>check</th>\n      <th>d</th>\n    </tr>\n  </thead>\n  <tbody>\n    <tr>\n      <th>210</th>\n      <td>4AH0</td>\n      <td>100607-05</td>\n      <td>曼哈浓香精选小茉莉香米5</td>\n      <td>200621010</td>\n      <td>2</td>\n      <td>0</td>\n      <td>2</td>\n      <td>0</td>\n      <td>-2</td>\n    </tr>\n    <tr>\n      <th>211</th>\n      <td>4AH0</td>\n      <td>100607-05</td>\n      <td>曼哈浓香精选小茉莉香米5</td>\n      <td>200621010-01</td>\n      <td>2</td>\n      <td>0</td>\n      <td>2</td>\n      <td>4</td>\n      <td>2</td>\n    </tr>\n  </tbody>\n</table>\n</div>"
     },
     "metadata": {}
    },
    {
     "output_type": "display_data",
     "data": {
      "text/plain": "       库位         料品             品名         批号  可用数量  冻结数量   总数量 check    d\n256  4AH2  100607-10  曼哈浓香精选小茉莉香米10  200814004    80     0    80    38  -42\n337  4B02  100607-10  曼哈浓香精选小茉莉香米10  200814004   150     0   150     0 -150\n338  4B02  100607-10  曼哈浓香精选小茉莉香米10  200816004  1631     0  1631  1632    1\n412  4BH0  100607-10  曼哈浓香精选小茉莉香米10  200816004     0     0     0   191  191",
      "text/html": "<div>\n<style scoped>\n    .dataframe tbody tr th:only-of-type {\n        vertical-align: middle;\n    }\n\n    .dataframe tbody tr th {\n        vertical-align: top;\n    }\n\n    .dataframe thead th {\n        text-align: right;\n    }\n</style>\n<table border=\"1\" class=\"dataframe\">\n  <thead>\n    <tr style=\"text-align: right;\">\n      <th></th>\n      <th>库位</th>\n      <th>料品</th>\n      <th>品名</th>\n      <th>批号</th>\n      <th>可用数量</th>\n      <th>冻结数量</th>\n      <th>总数量</th>\n      <th>check</th>\n      <th>d</th>\n    </tr>\n  </thead>\n  <tbody>\n    <tr>\n      <th>256</th>\n      <td>4AH2</td>\n      <td>100607-10</td>\n      <td>曼哈浓香精选小茉莉香米10</td>\n      <td>200814004</td>\n      <td>80</td>\n      <td>0</td>\n      <td>80</td>\n      <td>38</td>\n      <td>-42</td>\n    </tr>\n    <tr>\n      <th>337</th>\n      <td>4B02</td>\n      <td>100607-10</td>\n      <td>曼哈浓香精选小茉莉香米10</td>\n      <td>200814004</td>\n      <td>150</td>\n      <td>0</td>\n      <td>150</td>\n      <td>0</td>\n      <td>-150</td>\n    </tr>\n    <tr>\n      <th>338</th>\n      <td>4B02</td>\n      <td>100607-10</td>\n      <td>曼哈浓香精选小茉莉香米10</td>\n      <td>200816004</td>\n      <td>1631</td>\n      <td>0</td>\n      <td>1631</td>\n      <td>1632</td>\n      <td>1</td>\n    </tr>\n    <tr>\n      <th>412</th>\n      <td>4BH0</td>\n      <td>100607-10</td>\n      <td>曼哈浓香精选小茉莉香米10</td>\n      <td>200816004</td>\n      <td>0</td>\n      <td>0</td>\n      <td>0</td>\n      <td>191</td>\n      <td>191</td>\n    </tr>\n  </tbody>\n</table>\n</div>"
     },
     "metadata": {}
    },
    {
     "output_type": "display_data",
     "data": {
      "text/plain": "      库位         料品              品名         批号  可用数量  冻结数量  总数量 check   d\n34  3A02  100607-35  曼哈浓香精选小茉莉香米5*5  200817001   201     0  201   110 -91\n52  3A07  100607-35  曼哈浓香精选小茉莉香米5*5  200817001   194     0  194   285  91",
      "text/html": "<div>\n<style scoped>\n    .dataframe tbody tr th:only-of-type {\n        vertical-align: middle;\n    }\n\n    .dataframe tbody tr th {\n        vertical-align: top;\n    }\n\n    .dataframe thead th {\n        text-align: right;\n    }\n</style>\n<table border=\"1\" class=\"dataframe\">\n  <thead>\n    <tr style=\"text-align: right;\">\n      <th></th>\n      <th>库位</th>\n      <th>料品</th>\n      <th>品名</th>\n      <th>批号</th>\n      <th>可用数量</th>\n      <th>冻结数量</th>\n      <th>总数量</th>\n      <th>check</th>\n      <th>d</th>\n    </tr>\n  </thead>\n  <tbody>\n    <tr>\n      <th>34</th>\n      <td>3A02</td>\n      <td>100607-35</td>\n      <td>曼哈浓香精选小茉莉香米5*5</td>\n      <td>200817001</td>\n      <td>201</td>\n      <td>0</td>\n      <td>201</td>\n      <td>110</td>\n      <td>-91</td>\n    </tr>\n    <tr>\n      <th>52</th>\n      <td>3A07</td>\n      <td>100607-35</td>\n      <td>曼哈浓香精选小茉莉香米5*5</td>\n      <td>200817001</td>\n      <td>194</td>\n      <td>0</td>\n      <td>194</td>\n      <td>285</td>\n      <td>91</td>\n    </tr>\n  </tbody>\n</table>\n</div>"
     },
     "metadata": {}
    },
    {
     "output_type": "display_data",
     "data": {
      "text/plain": "       库位         料品          品名         批号  可用数量  冻结数量  总数量 check   d\n20   3A01  101101-32  金太粮油粘王2*10  200612007    52     0   52   104  52\n50   3A06  101101-32  金太粮油粘王2*10  200612007   209     0  209   126 -83\n297  4AP1  101101-32  金太粮油粘王2*10  200612007    31     0   31    62  31",
      "text/html": "<div>\n<style scoped>\n    .dataframe tbody tr th:only-of-type {\n        vertical-align: middle;\n    }\n\n    .dataframe tbody tr th {\n        vertical-align: top;\n    }\n\n    .dataframe thead th {\n        text-align: right;\n    }\n</style>\n<table border=\"1\" class=\"dataframe\">\n  <thead>\n    <tr style=\"text-align: right;\">\n      <th></th>\n      <th>库位</th>\n      <th>料品</th>\n      <th>品名</th>\n      <th>批号</th>\n      <th>可用数量</th>\n      <th>冻结数量</th>\n      <th>总数量</th>\n      <th>check</th>\n      <th>d</th>\n    </tr>\n  </thead>\n  <tbody>\n    <tr>\n      <th>20</th>\n      <td>3A01</td>\n      <td>101101-32</td>\n      <td>金太粮油粘王2*10</td>\n      <td>200612007</td>\n      <td>52</td>\n      <td>0</td>\n      <td>52</td>\n      <td>104</td>\n      <td>52</td>\n    </tr>\n    <tr>\n      <th>50</th>\n      <td>3A06</td>\n      <td>101101-32</td>\n      <td>金太粮油粘王2*10</td>\n      <td>200612007</td>\n      <td>209</td>\n      <td>0</td>\n      <td>209</td>\n      <td>126</td>\n      <td>-83</td>\n    </tr>\n    <tr>\n      <th>297</th>\n      <td>4AP1</td>\n      <td>101101-32</td>\n      <td>金太粮油粘王2*10</td>\n      <td>200612007</td>\n      <td>31</td>\n      <td>0</td>\n      <td>31</td>\n      <td>62</td>\n      <td>31</td>\n    </tr>\n  </tbody>\n</table>\n</div>"
     },
     "metadata": {}
    },
    {
     "output_type": "display_data",
     "data": {
      "text/plain": "       库位         料品          品名         批号  可用数量  冻结数量  总数量 check   d\n382  4BH0  101202-10  马坝龙三星油粘米10  200818007   110     0  110    90 -20\n413  4A07  101202-10  马坝龙三星油粘米10  200818007     0     0    0    20  20",
      "text/html": "<div>\n<style scoped>\n    .dataframe tbody tr th:only-of-type {\n        vertical-align: middle;\n    }\n\n    .dataframe tbody tr th {\n        vertical-align: top;\n    }\n\n    .dataframe thead th {\n        text-align: right;\n    }\n</style>\n<table border=\"1\" class=\"dataframe\">\n  <thead>\n    <tr style=\"text-align: right;\">\n      <th></th>\n      <th>库位</th>\n      <th>料品</th>\n      <th>品名</th>\n      <th>批号</th>\n      <th>可用数量</th>\n      <th>冻结数量</th>\n      <th>总数量</th>\n      <th>check</th>\n      <th>d</th>\n    </tr>\n  </thead>\n  <tbody>\n    <tr>\n      <th>382</th>\n      <td>4BH0</td>\n      <td>101202-10</td>\n      <td>马坝龙三星油粘米10</td>\n      <td>200818007</td>\n      <td>110</td>\n      <td>0</td>\n      <td>110</td>\n      <td>90</td>\n      <td>-20</td>\n    </tr>\n    <tr>\n      <th>413</th>\n      <td>4A07</td>\n      <td>101202-10</td>\n      <td>马坝龙三星油粘米10</td>\n      <td>200818007</td>\n      <td>0</td>\n      <td>0</td>\n      <td>0</td>\n      <td>20</td>\n      <td>20</td>\n    </tr>\n  </tbody>\n</table>\n</div>"
     },
     "metadata": {}
    },
    {
     "output_type": "display_data",
     "data": {
      "text/plain": "       库位         料品          品名         批号  可用数量  冻结数量   总数量 check     d\n309  4AP6  101301-10  太粮靓虾王香软米10  200816003  2417    44  2461  4937  2476\n339  4B02  101301-10  太粮靓虾王香软米10  200816003  2766     0  2766   290 -2476",
      "text/html": "<div>\n<style scoped>\n    .dataframe tbody tr th:only-of-type {\n        vertical-align: middle;\n    }\n\n    .dataframe tbody tr th {\n        vertical-align: top;\n    }\n\n    .dataframe thead th {\n        text-align: right;\n    }\n</style>\n<table border=\"1\" class=\"dataframe\">\n  <thead>\n    <tr style=\"text-align: right;\">\n      <th></th>\n      <th>库位</th>\n      <th>料品</th>\n      <th>品名</th>\n      <th>批号</th>\n      <th>可用数量</th>\n      <th>冻结数量</th>\n      <th>总数量</th>\n      <th>check</th>\n      <th>d</th>\n    </tr>\n  </thead>\n  <tbody>\n    <tr>\n      <th>309</th>\n      <td>4AP6</td>\n      <td>101301-10</td>\n      <td>太粮靓虾王香软米10</td>\n      <td>200816003</td>\n      <td>2417</td>\n      <td>44</td>\n      <td>2461</td>\n      <td>4937</td>\n      <td>2476</td>\n    </tr>\n    <tr>\n      <th>339</th>\n      <td>4B02</td>\n      <td>101301-10</td>\n      <td>太粮靓虾王香软米10</td>\n      <td>200816003</td>\n      <td>2766</td>\n      <td>0</td>\n      <td>2766</td>\n      <td>290</td>\n      <td>-2476</td>\n    </tr>\n  </tbody>\n</table>\n</div>"
     },
     "metadata": {}
    },
    {
     "output_type": "display_data",
     "data": {
      "text/plain": "       库位         料品          品名         批号  可用数量  冻结数量  总数量 check    d\n150  4A04  101301-25  太粮靓虾王香软米25  200816003   339     0  339   450  111\n151  4A04  101301-25  太粮靓虾王香软米25  200818006   405     0  405   294 -111",
      "text/html": "<div>\n<style scoped>\n    .dataframe tbody tr th:only-of-type {\n        vertical-align: middle;\n    }\n\n    .dataframe tbody tr th {\n        vertical-align: top;\n    }\n\n    .dataframe thead th {\n        text-align: right;\n    }\n</style>\n<table border=\"1\" class=\"dataframe\">\n  <thead>\n    <tr style=\"text-align: right;\">\n      <th></th>\n      <th>库位</th>\n      <th>料品</th>\n      <th>品名</th>\n      <th>批号</th>\n      <th>可用数量</th>\n      <th>冻结数量</th>\n      <th>总数量</th>\n      <th>check</th>\n      <th>d</th>\n    </tr>\n  </thead>\n  <tbody>\n    <tr>\n      <th>150</th>\n      <td>4A04</td>\n      <td>101301-25</td>\n      <td>太粮靓虾王香软米25</td>\n      <td>200816003</td>\n      <td>339</td>\n      <td>0</td>\n      <td>339</td>\n      <td>450</td>\n      <td>111</td>\n    </tr>\n    <tr>\n      <th>151</th>\n      <td>4A04</td>\n      <td>101301-25</td>\n      <td>太粮靓虾王香软米25</td>\n      <td>200818006</td>\n      <td>405</td>\n      <td>0</td>\n      <td>405</td>\n      <td>294</td>\n      <td>-111</td>\n    </tr>\n  </tbody>\n</table>\n</div>"
     },
     "metadata": {}
    },
    {
     "output_type": "display_data",
     "data": {
      "text/plain": "       库位         料品            品名         批号  可用数量  冻结数量  总数量 check   d\n72   3A09  101301-32  太粮靓虾王香软米2*10  200813007    47     0   47    49   2\n298  4AP1  101301-32  太粮靓虾王香软米2*10  200608040    12     0   12    20   8\n301  4AP2  101301-32  太粮靓虾王香软米2*10  200608040    30     0   30    20 -10",
      "text/html": "<div>\n<style scoped>\n    .dataframe tbody tr th:only-of-type {\n        vertical-align: middle;\n    }\n\n    .dataframe tbody tr th {\n        vertical-align: top;\n    }\n\n    .dataframe thead th {\n        text-align: right;\n    }\n</style>\n<table border=\"1\" class=\"dataframe\">\n  <thead>\n    <tr style=\"text-align: right;\">\n      <th></th>\n      <th>库位</th>\n      <th>料品</th>\n      <th>品名</th>\n      <th>批号</th>\n      <th>可用数量</th>\n      <th>冻结数量</th>\n      <th>总数量</th>\n      <th>check</th>\n      <th>d</th>\n    </tr>\n  </thead>\n  <tbody>\n    <tr>\n      <th>72</th>\n      <td>3A09</td>\n      <td>101301-32</td>\n      <td>太粮靓虾王香软米2*10</td>\n      <td>200813007</td>\n      <td>47</td>\n      <td>0</td>\n      <td>47</td>\n      <td>49</td>\n      <td>2</td>\n    </tr>\n    <tr>\n      <th>298</th>\n      <td>4AP1</td>\n      <td>101301-32</td>\n      <td>太粮靓虾王香软米2*10</td>\n      <td>200608040</td>\n      <td>12</td>\n      <td>0</td>\n      <td>12</td>\n      <td>20</td>\n      <td>8</td>\n    </tr>\n    <tr>\n      <th>301</th>\n      <td>4AP2</td>\n      <td>101301-32</td>\n      <td>太粮靓虾王香软米2*10</td>\n      <td>200608040</td>\n      <td>30</td>\n      <td>0</td>\n      <td>30</td>\n      <td>20</td>\n      <td>-10</td>\n    </tr>\n  </tbody>\n</table>\n</div>"
     },
     "metadata": {}
    },
    {
     "output_type": "display_data",
     "data": {
      "text/plain": "       库位         料品          品名         批号  可用数量  冻结数量  总数量 check    d\n55   3A07  101302-10  经典靓虾王香软米10  200817019   730     0  730   603 -127\n414  4AP4  101302-10  经典靓虾王香软米10  200817019     0     0    0   127  127",
      "text/html": "<div>\n<style scoped>\n    .dataframe tbody tr th:only-of-type {\n        vertical-align: middle;\n    }\n\n    .dataframe tbody tr th {\n        vertical-align: top;\n    }\n\n    .dataframe thead th {\n        text-align: right;\n    }\n</style>\n<table border=\"1\" class=\"dataframe\">\n  <thead>\n    <tr style=\"text-align: right;\">\n      <th></th>\n      <th>库位</th>\n      <th>料品</th>\n      <th>品名</th>\n      <th>批号</th>\n      <th>可用数量</th>\n      <th>冻结数量</th>\n      <th>总数量</th>\n      <th>check</th>\n      <th>d</th>\n    </tr>\n  </thead>\n  <tbody>\n    <tr>\n      <th>55</th>\n      <td>3A07</td>\n      <td>101302-10</td>\n      <td>经典靓虾王香软米10</td>\n      <td>200817019</td>\n      <td>730</td>\n      <td>0</td>\n      <td>730</td>\n      <td>603</td>\n      <td>-127</td>\n    </tr>\n    <tr>\n      <th>414</th>\n      <td>4AP4</td>\n      <td>101302-10</td>\n      <td>经典靓虾王香软米10</td>\n      <td>200817019</td>\n      <td>0</td>\n      <td>0</td>\n      <td>0</td>\n      <td>127</td>\n      <td>127</td>\n    </tr>\n  </tbody>\n</table>\n</div>"
     },
     "metadata": {}
    },
    {
     "output_type": "display_data",
     "data": {
      "text/plain": "       库位         料品        品名         批号  可用数量  冻结数量   总数量 check     d\n114  4A00  101303-10  （靓虾）软米10  200816006  1981   320  2301  1554  -747\n310  4AP6  101303-10  （靓虾）软米10  200818004  2034     0  2034  2601   567\n343  4B02  101303-10  （靓虾）软米10  200814003     0  1498  1498   865  -633\n344  4B02  101303-10  （靓虾）软米10  200815003     0   753   753  2139  1386\n345  4B02  101303-10  （靓虾）软米10  200816006  2182     0  2182  1945  -237\n346  4B02  101303-10  （靓虾）软米10  200818004  1782     0  1782  1029  -753\n363  4B03  101303-10  （靓虾）软米10  200815003  4085    29  4114  3923  -191\n415  3A02  101303-10  （靓虾）软米10  200816006     0     0     0   345   345",
      "text/html": "<div>\n<style scoped>\n    .dataframe tbody tr th:only-of-type {\n        vertical-align: middle;\n    }\n\n    .dataframe tbody tr th {\n        vertical-align: top;\n    }\n\n    .dataframe thead th {\n        text-align: right;\n    }\n</style>\n<table border=\"1\" class=\"dataframe\">\n  <thead>\n    <tr style=\"text-align: right;\">\n      <th></th>\n      <th>库位</th>\n      <th>料品</th>\n      <th>品名</th>\n      <th>批号</th>\n      <th>可用数量</th>\n      <th>冻结数量</th>\n      <th>总数量</th>\n      <th>check</th>\n      <th>d</th>\n    </tr>\n  </thead>\n  <tbody>\n    <tr>\n      <th>114</th>\n      <td>4A00</td>\n      <td>101303-10</td>\n      <td>（靓虾）软米10</td>\n      <td>200816006</td>\n      <td>1981</td>\n      <td>320</td>\n      <td>2301</td>\n      <td>1554</td>\n      <td>-747</td>\n    </tr>\n    <tr>\n      <th>310</th>\n      <td>4AP6</td>\n      <td>101303-10</td>\n      <td>（靓虾）软米10</td>\n      <td>200818004</td>\n      <td>2034</td>\n      <td>0</td>\n      <td>2034</td>\n      <td>2601</td>\n      <td>567</td>\n    </tr>\n    <tr>\n      <th>343</th>\n      <td>4B02</td>\n      <td>101303-10</td>\n      <td>（靓虾）软米10</td>\n      <td>200814003</td>\n      <td>0</td>\n      <td>1498</td>\n      <td>1498</td>\n      <td>865</td>\n      <td>-633</td>\n    </tr>\n    <tr>\n      <th>344</th>\n      <td>4B02</td>\n      <td>101303-10</td>\n      <td>（靓虾）软米10</td>\n      <td>200815003</td>\n      <td>0</td>\n      <td>753</td>\n      <td>753</td>\n      <td>2139</td>\n      <td>1386</td>\n    </tr>\n    <tr>\n      <th>345</th>\n      <td>4B02</td>\n      <td>101303-10</td>\n      <td>（靓虾）软米10</td>\n      <td>200816006</td>\n      <td>2182</td>\n      <td>0</td>\n      <td>2182</td>\n      <td>1945</td>\n      <td>-237</td>\n    </tr>\n    <tr>\n      <th>346</th>\n      <td>4B02</td>\n      <td>101303-10</td>\n      <td>（靓虾）软米10</td>\n      <td>200818004</td>\n      <td>1782</td>\n      <td>0</td>\n      <td>1782</td>\n      <td>1029</td>\n      <td>-753</td>\n    </tr>\n    <tr>\n      <th>363</th>\n      <td>4B03</td>\n      <td>101303-10</td>\n      <td>（靓虾）软米10</td>\n      <td>200815003</td>\n      <td>4085</td>\n      <td>29</td>\n      <td>4114</td>\n      <td>3923</td>\n      <td>-191</td>\n    </tr>\n    <tr>\n      <th>415</th>\n      <td>3A02</td>\n      <td>101303-10</td>\n      <td>（靓虾）软米10</td>\n      <td>200816006</td>\n      <td>0</td>\n      <td>0</td>\n      <td>0</td>\n      <td>345</td>\n      <td>345</td>\n    </tr>\n  </tbody>\n</table>\n</div>"
     },
     "metadata": {}
    },
    {
     "output_type": "display_data",
     "data": {
      "text/plain": "       库位         料品          品名         批号  可用数量  冻结数量   总数量 check   d\n347  4B02  101306-10  （红香）靓虾王米10  200813006  1607     0  1607  1557 -50",
      "text/html": "<div>\n<style scoped>\n    .dataframe tbody tr th:only-of-type {\n        vertical-align: middle;\n    }\n\n    .dataframe tbody tr th {\n        vertical-align: top;\n    }\n\n    .dataframe thead th {\n        text-align: right;\n    }\n</style>\n<table border=\"1\" class=\"dataframe\">\n  <thead>\n    <tr style=\"text-align: right;\">\n      <th></th>\n      <th>库位</th>\n      <th>料品</th>\n      <th>品名</th>\n      <th>批号</th>\n      <th>可用数量</th>\n      <th>冻结数量</th>\n      <th>总数量</th>\n      <th>check</th>\n      <th>d</th>\n    </tr>\n  </thead>\n  <tbody>\n    <tr>\n      <th>347</th>\n      <td>4B02</td>\n      <td>101306-10</td>\n      <td>（红香）靓虾王米10</td>\n      <td>200813006</td>\n      <td>1607</td>\n      <td>0</td>\n      <td>1607</td>\n      <td>1557</td>\n      <td>-50</td>\n    </tr>\n  </tbody>\n</table>\n</div>"
     },
     "metadata": {}
    },
    {
     "output_type": "display_data",
     "data": {
      "text/plain": "       库位         料品          品名         批号  可用数量  冻结数量   总数量 check    d\n165  4A05  101306-15  （红香）靓虾王米15  200818003  1456     0  1456  1290 -166\n314  4B01  101306-15  （红香）靓虾王米15  200815006   166     0   166   332  166",
      "text/html": "<div>\n<style scoped>\n    .dataframe tbody tr th:only-of-type {\n        vertical-align: middle;\n    }\n\n    .dataframe tbody tr th {\n        vertical-align: top;\n    }\n\n    .dataframe thead th {\n        text-align: right;\n    }\n</style>\n<table border=\"1\" class=\"dataframe\">\n  <thead>\n    <tr style=\"text-align: right;\">\n      <th></th>\n      <th>库位</th>\n      <th>料品</th>\n      <th>品名</th>\n      <th>批号</th>\n      <th>可用数量</th>\n      <th>冻结数量</th>\n      <th>总数量</th>\n      <th>check</th>\n      <th>d</th>\n    </tr>\n  </thead>\n  <tbody>\n    <tr>\n      <th>165</th>\n      <td>4A05</td>\n      <td>101306-15</td>\n      <td>（红香）靓虾王米15</td>\n      <td>200818003</td>\n      <td>1456</td>\n      <td>0</td>\n      <td>1456</td>\n      <td>1290</td>\n      <td>-166</td>\n    </tr>\n    <tr>\n      <th>314</th>\n      <td>4B01</td>\n      <td>101306-15</td>\n      <td>（红香）靓虾王米15</td>\n      <td>200815006</td>\n      <td>166</td>\n      <td>0</td>\n      <td>166</td>\n      <td>332</td>\n      <td>166</td>\n    </tr>\n  </tbody>\n</table>\n</div>"
     },
     "metadata": {}
    },
    {
     "output_type": "display_data",
     "data": {
      "text/plain": "       库位         料品           品名         批号  可用数量  冻结数量  总数量 check  d\n253  4AH1  101306-53  （红香）靓虾王米1.5  200526014   393     0  393   384 -9\n416  4AP2  101306-53  （红香）靓虾王米1.5  200526014     0     0    0     9  9",
      "text/html": "<div>\n<style scoped>\n    .dataframe tbody tr th:only-of-type {\n        vertical-align: middle;\n    }\n\n    .dataframe tbody tr th {\n        vertical-align: top;\n    }\n\n    .dataframe thead th {\n        text-align: right;\n    }\n</style>\n<table border=\"1\" class=\"dataframe\">\n  <thead>\n    <tr style=\"text-align: right;\">\n      <th></th>\n      <th>库位</th>\n      <th>料品</th>\n      <th>品名</th>\n      <th>批号</th>\n      <th>可用数量</th>\n      <th>冻结数量</th>\n      <th>总数量</th>\n      <th>check</th>\n      <th>d</th>\n    </tr>\n  </thead>\n  <tbody>\n    <tr>\n      <th>253</th>\n      <td>4AH1</td>\n      <td>101306-53</td>\n      <td>（红香）靓虾王米1.5</td>\n      <td>200526014</td>\n      <td>393</td>\n      <td>0</td>\n      <td>393</td>\n      <td>384</td>\n      <td>-9</td>\n    </tr>\n    <tr>\n      <th>416</th>\n      <td>4AP2</td>\n      <td>101306-53</td>\n      <td>（红香）靓虾王米1.5</td>\n      <td>200526014</td>\n      <td>0</td>\n      <td>0</td>\n      <td>0</td>\n      <td>9</td>\n      <td>9</td>\n    </tr>\n  </tbody>\n</table>\n</div>"
     },
     "metadata": {}
    },
    {
     "output_type": "display_data",
     "data": {
      "text/plain": "       库位         料品           品名         批号  可用数量  冻结数量  总数量 check  d\n225  4AH0  101308-01  （信鲜）靓虾王香软米1  200723007     2    10   12    11 -1",
      "text/html": "<div>\n<style scoped>\n    .dataframe tbody tr th:only-of-type {\n        vertical-align: middle;\n    }\n\n    .dataframe tbody tr th {\n        vertical-align: top;\n    }\n\n    .dataframe thead th {\n        text-align: right;\n    }\n</style>\n<table border=\"1\" class=\"dataframe\">\n  <thead>\n    <tr style=\"text-align: right;\">\n      <th></th>\n      <th>库位</th>\n      <th>料品</th>\n      <th>品名</th>\n      <th>批号</th>\n      <th>可用数量</th>\n      <th>冻结数量</th>\n      <th>总数量</th>\n      <th>check</th>\n      <th>d</th>\n    </tr>\n  </thead>\n  <tbody>\n    <tr>\n      <th>225</th>\n      <td>4AH0</td>\n      <td>101308-01</td>\n      <td>（信鲜）靓虾王香软米1</td>\n      <td>200723007</td>\n      <td>2</td>\n      <td>10</td>\n      <td>12</td>\n      <td>11</td>\n      <td>-1</td>\n    </tr>\n  </tbody>\n</table>\n</div>"
     },
     "metadata": {}
    },
    {
     "output_type": "display_data",
     "data": {
      "text/plain": "       库位         料品            品名         批号  可用数量  冻结数量  总数量 check  d\n193  4A08  101308-15  （信鲜）靓虾王香软米15  200716003     6     0    6     8  2\n194  4A08  101308-15  （信鲜）靓虾王香软米15  200725002     5     0    5     6  1\n196  4A08  101308-15  （信鲜）靓虾王香软米15  200815001   248     0  248   245 -3",
      "text/html": "<div>\n<style scoped>\n    .dataframe tbody tr th:only-of-type {\n        vertical-align: middle;\n    }\n\n    .dataframe tbody tr th {\n        vertical-align: top;\n    }\n\n    .dataframe thead th {\n        text-align: right;\n    }\n</style>\n<table border=\"1\" class=\"dataframe\">\n  <thead>\n    <tr style=\"text-align: right;\">\n      <th></th>\n      <th>库位</th>\n      <th>料品</th>\n      <th>品名</th>\n      <th>批号</th>\n      <th>可用数量</th>\n      <th>冻结数量</th>\n      <th>总数量</th>\n      <th>check</th>\n      <th>d</th>\n    </tr>\n  </thead>\n  <tbody>\n    <tr>\n      <th>193</th>\n      <td>4A08</td>\n      <td>101308-15</td>\n      <td>（信鲜）靓虾王香软米15</td>\n      <td>200716003</td>\n      <td>6</td>\n      <td>0</td>\n      <td>6</td>\n      <td>8</td>\n      <td>2</td>\n    </tr>\n    <tr>\n      <th>194</th>\n      <td>4A08</td>\n      <td>101308-15</td>\n      <td>（信鲜）靓虾王香软米15</td>\n      <td>200725002</td>\n      <td>5</td>\n      <td>0</td>\n      <td>5</td>\n      <td>6</td>\n      <td>1</td>\n    </tr>\n    <tr>\n      <th>196</th>\n      <td>4A08</td>\n      <td>101308-15</td>\n      <td>（信鲜）靓虾王香软米15</td>\n      <td>200815001</td>\n      <td>248</td>\n      <td>0</td>\n      <td>248</td>\n      <td>245</td>\n      <td>-3</td>\n    </tr>\n  </tbody>\n</table>\n</div>"
     },
     "metadata": {}
    },
    {
     "output_type": "display_data",
     "data": {
      "text/plain": "       库位         料品            品名         批号  可用数量  冻结数量  总数量 check    d\n152  4A04  101308-25  （信鲜）靓虾王香软米25  200811005    17    40   57   228  171\n153  4A04  101308-25  （信鲜）靓虾王香软米25  200812002    35     0   35    69   34\n154  4A04  101308-25  （信鲜）靓虾王香软米25  200815001    34     0   34     0  -34\n349  4B02  101308-25  （信鲜）靓虾王香软米25  200816007   222     0  222   108 -114\n350  4B02  101308-25  （信鲜）靓虾王香软米25  200818007   421     0  421   364  -57",
      "text/html": "<div>\n<style scoped>\n    .dataframe tbody tr th:only-of-type {\n        vertical-align: middle;\n    }\n\n    .dataframe tbody tr th {\n        vertical-align: top;\n    }\n\n    .dataframe thead th {\n        text-align: right;\n    }\n</style>\n<table border=\"1\" class=\"dataframe\">\n  <thead>\n    <tr style=\"text-align: right;\">\n      <th></th>\n      <th>库位</th>\n      <th>料品</th>\n      <th>品名</th>\n      <th>批号</th>\n      <th>可用数量</th>\n      <th>冻结数量</th>\n      <th>总数量</th>\n      <th>check</th>\n      <th>d</th>\n    </tr>\n  </thead>\n  <tbody>\n    <tr>\n      <th>152</th>\n      <td>4A04</td>\n      <td>101308-25</td>\n      <td>（信鲜）靓虾王香软米25</td>\n      <td>200811005</td>\n      <td>17</td>\n      <td>40</td>\n      <td>57</td>\n      <td>228</td>\n      <td>171</td>\n    </tr>\n    <tr>\n      <th>153</th>\n      <td>4A04</td>\n      <td>101308-25</td>\n      <td>（信鲜）靓虾王香软米25</td>\n      <td>200812002</td>\n      <td>35</td>\n      <td>0</td>\n      <td>35</td>\n      <td>69</td>\n      <td>34</td>\n    </tr>\n    <tr>\n      <th>154</th>\n      <td>4A04</td>\n      <td>101308-25</td>\n      <td>（信鲜）靓虾王香软米25</td>\n      <td>200815001</td>\n      <td>34</td>\n      <td>0</td>\n      <td>34</td>\n      <td>0</td>\n      <td>-34</td>\n    </tr>\n    <tr>\n      <th>349</th>\n      <td>4B02</td>\n      <td>101308-25</td>\n      <td>（信鲜）靓虾王香软米25</td>\n      <td>200816007</td>\n      <td>222</td>\n      <td>0</td>\n      <td>222</td>\n      <td>108</td>\n      <td>-114</td>\n    </tr>\n    <tr>\n      <th>350</th>\n      <td>4B02</td>\n      <td>101308-25</td>\n      <td>（信鲜）靓虾王香软米25</td>\n      <td>200818007</td>\n      <td>421</td>\n      <td>0</td>\n      <td>421</td>\n      <td>364</td>\n      <td>-57</td>\n    </tr>\n  </tbody>\n</table>\n</div>"
     },
     "metadata": {}
    },
    {
     "output_type": "display_data",
     "data": {
      "text/plain": "       库位         料品              品名         批号  可用数量  冻结数量  总数量 check  d\n144  4A03  101314-10  （抖音）信鲜靓虾王香软米10  200818003   883     0  883   880 -3\n367  4B03  101314-10  （抖音）信鲜靓虾王香软米10  200813006     1     0    1     4  3",
      "text/html": "<div>\n<style scoped>\n    .dataframe tbody tr th:only-of-type {\n        vertical-align: middle;\n    }\n\n    .dataframe tbody tr th {\n        vertical-align: top;\n    }\n\n    .dataframe thead th {\n        text-align: right;\n    }\n</style>\n<table border=\"1\" class=\"dataframe\">\n  <thead>\n    <tr style=\"text-align: right;\">\n      <th></th>\n      <th>库位</th>\n      <th>料品</th>\n      <th>品名</th>\n      <th>批号</th>\n      <th>可用数量</th>\n      <th>冻结数量</th>\n      <th>总数量</th>\n      <th>check</th>\n      <th>d</th>\n    </tr>\n  </thead>\n  <tbody>\n    <tr>\n      <th>144</th>\n      <td>4A03</td>\n      <td>101314-10</td>\n      <td>（抖音）信鲜靓虾王香软米10</td>\n      <td>200818003</td>\n      <td>883</td>\n      <td>0</td>\n      <td>883</td>\n      <td>880</td>\n      <td>-3</td>\n    </tr>\n    <tr>\n      <th>367</th>\n      <td>4B03</td>\n      <td>101314-10</td>\n      <td>（抖音）信鲜靓虾王香软米10</td>\n      <td>200813006</td>\n      <td>1</td>\n      <td>0</td>\n      <td>1</td>\n      <td>4</td>\n      <td>3</td>\n    </tr>\n  </tbody>\n</table>\n</div>"
     },
     "metadata": {}
    },
    {
     "output_type": "display_data",
     "data": {
      "text/plain": "       库位         料品         品名         批号  可用数量  冻结数量   总数量 check    d\n317  4B01  101402-10  米皇坊小农粘米10  200818004  1494     0  1494  1049 -445\n417  3AP1  101402-10  米皇坊小农粘米10  200818004     0     0     0   445  445",
      "text/html": "<div>\n<style scoped>\n    .dataframe tbody tr th:only-of-type {\n        vertical-align: middle;\n    }\n\n    .dataframe tbody tr th {\n        vertical-align: top;\n    }\n\n    .dataframe thead th {\n        text-align: right;\n    }\n</style>\n<table border=\"1\" class=\"dataframe\">\n  <thead>\n    <tr style=\"text-align: right;\">\n      <th></th>\n      <th>库位</th>\n      <th>料品</th>\n      <th>品名</th>\n      <th>批号</th>\n      <th>可用数量</th>\n      <th>冻结数量</th>\n      <th>总数量</th>\n      <th>check</th>\n      <th>d</th>\n    </tr>\n  </thead>\n  <tbody>\n    <tr>\n      <th>317</th>\n      <td>4B01</td>\n      <td>101402-10</td>\n      <td>米皇坊小农粘米10</td>\n      <td>200818004</td>\n      <td>1494</td>\n      <td>0</td>\n      <td>1494</td>\n      <td>1049</td>\n      <td>-445</td>\n    </tr>\n    <tr>\n      <th>417</th>\n      <td>3AP1</td>\n      <td>101402-10</td>\n      <td>米皇坊小农粘米10</td>\n      <td>200818004</td>\n      <td>0</td>\n      <td>0</td>\n      <td>0</td>\n      <td>445</td>\n      <td>445</td>\n    </tr>\n  </tbody>\n</table>\n</div>"
     },
     "metadata": {}
    },
    {
     "output_type": "display_data",
     "data": {
      "text/plain": "       库位         料品              品名         批号  可用数量  冻结数量  总数量 check    d\n156  4A04  101402-25  （橙）散装米皇坊小农粘米25  200807001   143     0  143     9 -134\n157  4A04  101402-25  （橙）散装米皇坊小农粘米25  200818001   314     0  314   238  -76\n304  4AP4  101402-25  （橙）散装米皇坊小农粘米25  200813001   160     0  160   320  160\n318  4B01  101402-25  （橙）散装米皇坊小农粘米25  200813001    50     0   50   100   50",
      "text/html": "<div>\n<style scoped>\n    .dataframe tbody tr th:only-of-type {\n        vertical-align: middle;\n    }\n\n    .dataframe tbody tr th {\n        vertical-align: top;\n    }\n\n    .dataframe thead th {\n        text-align: right;\n    }\n</style>\n<table border=\"1\" class=\"dataframe\">\n  <thead>\n    <tr style=\"text-align: right;\">\n      <th></th>\n      <th>库位</th>\n      <th>料品</th>\n      <th>品名</th>\n      <th>批号</th>\n      <th>可用数量</th>\n      <th>冻结数量</th>\n      <th>总数量</th>\n      <th>check</th>\n      <th>d</th>\n    </tr>\n  </thead>\n  <tbody>\n    <tr>\n      <th>156</th>\n      <td>4A04</td>\n      <td>101402-25</td>\n      <td>（橙）散装米皇坊小农粘米25</td>\n      <td>200807001</td>\n      <td>143</td>\n      <td>0</td>\n      <td>143</td>\n      <td>9</td>\n      <td>-134</td>\n    </tr>\n    <tr>\n      <th>157</th>\n      <td>4A04</td>\n      <td>101402-25</td>\n      <td>（橙）散装米皇坊小农粘米25</td>\n      <td>200818001</td>\n      <td>314</td>\n      <td>0</td>\n      <td>314</td>\n      <td>238</td>\n      <td>-76</td>\n    </tr>\n    <tr>\n      <th>304</th>\n      <td>4AP4</td>\n      <td>101402-25</td>\n      <td>（橙）散装米皇坊小农粘米25</td>\n      <td>200813001</td>\n      <td>160</td>\n      <td>0</td>\n      <td>160</td>\n      <td>320</td>\n      <td>160</td>\n    </tr>\n    <tr>\n      <th>318</th>\n      <td>4B01</td>\n      <td>101402-25</td>\n      <td>（橙）散装米皇坊小农粘米25</td>\n      <td>200813001</td>\n      <td>50</td>\n      <td>0</td>\n      <td>50</td>\n      <td>100</td>\n      <td>50</td>\n    </tr>\n  </tbody>\n</table>\n</div>"
     },
     "metadata": {}
    },
    {
     "output_type": "display_data",
     "data": {
      "text/plain": "       库位         料品           品名         批号  可用数量  冻结数量  总数量 check   d\n23   3A01  101406-35  米皇坊山水丝苗米5*5  200814005    90     0   90    66 -24\n82   3A09  101406-35  米皇坊山水丝苗米5*5  200729009     2     0    2     4   2\n120  4A00  101406-35  米皇坊山水丝苗米5*5  200729009    30     0   30    42  12",
      "text/html": "<div>\n<style scoped>\n    .dataframe tbody tr th:only-of-type {\n        vertical-align: middle;\n    }\n\n    .dataframe tbody tr th {\n        vertical-align: top;\n    }\n\n    .dataframe thead th {\n        text-align: right;\n    }\n</style>\n<table border=\"1\" class=\"dataframe\">\n  <thead>\n    <tr style=\"text-align: right;\">\n      <th></th>\n      <th>库位</th>\n      <th>料品</th>\n      <th>品名</th>\n      <th>批号</th>\n      <th>可用数量</th>\n      <th>冻结数量</th>\n      <th>总数量</th>\n      <th>check</th>\n      <th>d</th>\n    </tr>\n  </thead>\n  <tbody>\n    <tr>\n      <th>23</th>\n      <td>3A01</td>\n      <td>101406-35</td>\n      <td>米皇坊山水丝苗米5*5</td>\n      <td>200814005</td>\n      <td>90</td>\n      <td>0</td>\n      <td>90</td>\n      <td>66</td>\n      <td>-24</td>\n    </tr>\n    <tr>\n      <th>82</th>\n      <td>3A09</td>\n      <td>101406-35</td>\n      <td>米皇坊山水丝苗米5*5</td>\n      <td>200729009</td>\n      <td>2</td>\n      <td>0</td>\n      <td>2</td>\n      <td>4</td>\n      <td>2</td>\n    </tr>\n    <tr>\n      <th>120</th>\n      <td>4A00</td>\n      <td>101406-35</td>\n      <td>米皇坊山水丝苗米5*5</td>\n      <td>200729009</td>\n      <td>30</td>\n      <td>0</td>\n      <td>30</td>\n      <td>42</td>\n      <td>12</td>\n    </tr>\n  </tbody>\n</table>\n</div>"
     },
     "metadata": {}
    },
    {
     "output_type": "display_data",
     "data": {
      "text/plain": "        库位         料品         品名         批号  可用数量  冻结数量  总数量 check   d\n402  糙米线库位  101420-15  米皇坊珍珠香米15  200817015    70     0   70    50 -20\n418   4B03  101420-15  米皇坊珍珠香米15  200817015     0     0    0    20  20",
      "text/html": "<div>\n<style scoped>\n    .dataframe tbody tr th:only-of-type {\n        vertical-align: middle;\n    }\n\n    .dataframe tbody tr th {\n        vertical-align: top;\n    }\n\n    .dataframe thead th {\n        text-align: right;\n    }\n</style>\n<table border=\"1\" class=\"dataframe\">\n  <thead>\n    <tr style=\"text-align: right;\">\n      <th></th>\n      <th>库位</th>\n      <th>料品</th>\n      <th>品名</th>\n      <th>批号</th>\n      <th>可用数量</th>\n      <th>冻结数量</th>\n      <th>总数量</th>\n      <th>check</th>\n      <th>d</th>\n    </tr>\n  </thead>\n  <tbody>\n    <tr>\n      <th>402</th>\n      <td>糙米线库位</td>\n      <td>101420-15</td>\n      <td>米皇坊珍珠香米15</td>\n      <td>200817015</td>\n      <td>70</td>\n      <td>0</td>\n      <td>70</td>\n      <td>50</td>\n      <td>-20</td>\n    </tr>\n    <tr>\n      <th>418</th>\n      <td>4B03</td>\n      <td>101420-15</td>\n      <td>米皇坊珍珠香米15</td>\n      <td>200817015</td>\n      <td>0</td>\n      <td>0</td>\n      <td>0</td>\n      <td>20</td>\n      <td>20</td>\n    </tr>\n  </tbody>\n</table>\n</div>"
     },
     "metadata": {}
    },
    {
     "output_type": "display_data",
     "data": {
      "text/plain": "       库位         料品         品名         批号  可用数量  冻结数量  总数量 check  d\n130  4A01  101420-25  米皇坊珍珠香米25  200806013     1     0    1     0 -1\n278  4AH4  101420-25  米皇坊珍珠香米25  200811023    40     0   40    41  1",
      "text/html": "<div>\n<style scoped>\n    .dataframe tbody tr th:only-of-type {\n        vertical-align: middle;\n    }\n\n    .dataframe tbody tr th {\n        vertical-align: top;\n    }\n\n    .dataframe thead th {\n        text-align: right;\n    }\n</style>\n<table border=\"1\" class=\"dataframe\">\n  <thead>\n    <tr style=\"text-align: right;\">\n      <th></th>\n      <th>库位</th>\n      <th>料品</th>\n      <th>品名</th>\n      <th>批号</th>\n      <th>可用数量</th>\n      <th>冻结数量</th>\n      <th>总数量</th>\n      <th>check</th>\n      <th>d</th>\n    </tr>\n  </thead>\n  <tbody>\n    <tr>\n      <th>130</th>\n      <td>4A01</td>\n      <td>101420-25</td>\n      <td>米皇坊珍珠香米25</td>\n      <td>200806013</td>\n      <td>1</td>\n      <td>0</td>\n      <td>1</td>\n      <td>0</td>\n      <td>-1</td>\n    </tr>\n    <tr>\n      <th>278</th>\n      <td>4AH4</td>\n      <td>101420-25</td>\n      <td>米皇坊珍珠香米25</td>\n      <td>200811023</td>\n      <td>40</td>\n      <td>0</td>\n      <td>40</td>\n      <td>41</td>\n      <td>1</td>\n    </tr>\n  </tbody>\n</table>\n</div>"
     },
     "metadata": {}
    },
    {
     "output_type": "display_data",
     "data": {
      "text/plain": "        库位         料品          品名         批号  可用数量  冻结数量  总数量 check  d\n56    3A07  101420-35  米皇坊珍珠香米5*5  200814019    39     0   39    41  2\n121   4A00  101420-35  米皇坊珍珠香米5*5  200814019    67     0   67    61 -6\n403  糙米线库位  101420-35  米皇坊珍珠香米5*5  200817015   290     0  290   288 -2",
      "text/html": "<div>\n<style scoped>\n    .dataframe tbody tr th:only-of-type {\n        vertical-align: middle;\n    }\n\n    .dataframe tbody tr th {\n        vertical-align: top;\n    }\n\n    .dataframe thead th {\n        text-align: right;\n    }\n</style>\n<table border=\"1\" class=\"dataframe\">\n  <thead>\n    <tr style=\"text-align: right;\">\n      <th></th>\n      <th>库位</th>\n      <th>料品</th>\n      <th>品名</th>\n      <th>批号</th>\n      <th>可用数量</th>\n      <th>冻结数量</th>\n      <th>总数量</th>\n      <th>check</th>\n      <th>d</th>\n    </tr>\n  </thead>\n  <tbody>\n    <tr>\n      <th>56</th>\n      <td>3A07</td>\n      <td>101420-35</td>\n      <td>米皇坊珍珠香米5*5</td>\n      <td>200814019</td>\n      <td>39</td>\n      <td>0</td>\n      <td>39</td>\n      <td>41</td>\n      <td>2</td>\n    </tr>\n    <tr>\n      <th>121</th>\n      <td>4A00</td>\n      <td>101420-35</td>\n      <td>米皇坊珍珠香米5*5</td>\n      <td>200814019</td>\n      <td>67</td>\n      <td>0</td>\n      <td>67</td>\n      <td>61</td>\n      <td>-6</td>\n    </tr>\n    <tr>\n      <th>403</th>\n      <td>糙米线库位</td>\n      <td>101420-35</td>\n      <td>米皇坊珍珠香米5*5</td>\n      <td>200817015</td>\n      <td>290</td>\n      <td>0</td>\n      <td>290</td>\n      <td>288</td>\n      <td>-2</td>\n    </tr>\n  </tbody>\n</table>\n</div>"
     },
     "metadata": {}
    },
    {
     "output_type": "display_data",
     "data": {
      "text/plain": "       库位         料品          品名         批号   可用数量  冻结数量    总数量  check   d\n179  4A06  101601-10  （米酷）马坝银粘10  200818012   2034     0   2034   2012 -22\n311  4AP6  101601-10  （米酷）马坝银粘10  200817006      0    80     80     34 -46\n320  4B01  101601-10  （米酷）马坝银粘10  200813004     22     0     22     21  -1\n354  4B02  101601-10  （米酷）马坝银粘10  200815019   1236     0   1236   1259  23\n355  4B02  101601-10  （米酷）马坝银粘10  200817006  10364     0  10364  10410  46",
      "text/html": "<div>\n<style scoped>\n    .dataframe tbody tr th:only-of-type {\n        vertical-align: middle;\n    }\n\n    .dataframe tbody tr th {\n        vertical-align: top;\n    }\n\n    .dataframe thead th {\n        text-align: right;\n    }\n</style>\n<table border=\"1\" class=\"dataframe\">\n  <thead>\n    <tr style=\"text-align: right;\">\n      <th></th>\n      <th>库位</th>\n      <th>料品</th>\n      <th>品名</th>\n      <th>批号</th>\n      <th>可用数量</th>\n      <th>冻结数量</th>\n      <th>总数量</th>\n      <th>check</th>\n      <th>d</th>\n    </tr>\n  </thead>\n  <tbody>\n    <tr>\n      <th>179</th>\n      <td>4A06</td>\n      <td>101601-10</td>\n      <td>（米酷）马坝银粘10</td>\n      <td>200818012</td>\n      <td>2034</td>\n      <td>0</td>\n      <td>2034</td>\n      <td>2012</td>\n      <td>-22</td>\n    </tr>\n    <tr>\n      <th>311</th>\n      <td>4AP6</td>\n      <td>101601-10</td>\n      <td>（米酷）马坝银粘10</td>\n      <td>200817006</td>\n      <td>0</td>\n      <td>80</td>\n      <td>80</td>\n      <td>34</td>\n      <td>-46</td>\n    </tr>\n    <tr>\n      <th>320</th>\n      <td>4B01</td>\n      <td>101601-10</td>\n      <td>（米酷）马坝银粘10</td>\n      <td>200813004</td>\n      <td>22</td>\n      <td>0</td>\n      <td>22</td>\n      <td>21</td>\n      <td>-1</td>\n    </tr>\n    <tr>\n      <th>354</th>\n      <td>4B02</td>\n      <td>101601-10</td>\n      <td>（米酷）马坝银粘10</td>\n      <td>200815019</td>\n      <td>1236</td>\n      <td>0</td>\n      <td>1236</td>\n      <td>1259</td>\n      <td>23</td>\n    </tr>\n    <tr>\n      <th>355</th>\n      <td>4B02</td>\n      <td>101601-10</td>\n      <td>（米酷）马坝银粘10</td>\n      <td>200817006</td>\n      <td>10364</td>\n      <td>0</td>\n      <td>10364</td>\n      <td>10410</td>\n      <td>46</td>\n    </tr>\n  </tbody>\n</table>\n</div>"
     },
     "metadata": {}
    },
    {
     "output_type": "display_data",
     "data": {
      "text/plain": "       库位         料品          品名         批号  可用数量  冻结数量  总数量 check   d\n140  4A02  101601-15  （米酷）马坝银粘15  200812004   105     0  105    84 -21\n419  4A06  101601-15  （米酷）马坝银粘15  200812004     0     0    0    21  21",
      "text/html": "<div>\n<style scoped>\n    .dataframe tbody tr th:only-of-type {\n        vertical-align: middle;\n    }\n\n    .dataframe tbody tr th {\n        vertical-align: top;\n    }\n\n    .dataframe thead th {\n        text-align: right;\n    }\n</style>\n<table border=\"1\" class=\"dataframe\">\n  <thead>\n    <tr style=\"text-align: right;\">\n      <th></th>\n      <th>库位</th>\n      <th>料品</th>\n      <th>品名</th>\n      <th>批号</th>\n      <th>可用数量</th>\n      <th>冻结数量</th>\n      <th>总数量</th>\n      <th>check</th>\n      <th>d</th>\n    </tr>\n  </thead>\n  <tbody>\n    <tr>\n      <th>140</th>\n      <td>4A02</td>\n      <td>101601-15</td>\n      <td>（米酷）马坝银粘15</td>\n      <td>200812004</td>\n      <td>105</td>\n      <td>0</td>\n      <td>105</td>\n      <td>84</td>\n      <td>-21</td>\n    </tr>\n    <tr>\n      <th>419</th>\n      <td>4A06</td>\n      <td>101601-15</td>\n      <td>（米酷）马坝银粘15</td>\n      <td>200812004</td>\n      <td>0</td>\n      <td>0</td>\n      <td>0</td>\n      <td>21</td>\n      <td>21</td>\n    </tr>\n  </tbody>\n</table>\n</div>"
     },
     "metadata": {}
    },
    {
     "output_type": "display_data",
     "data": {
      "text/plain": "       库位         料品          品名         批号  可用数量  冻结数量  总数量 check   d\n170  4A05  103909-15  今西利哈旺油粘米15  200804005    30     0   30    27  -3\n171  4A05  103909-15  今西利哈旺油粘米15  200811004    23     0   23     0 -23\n326  4B01  103909-15  今西利哈旺油粘米15  200814001   246     0  246   269  23",
      "text/html": "<div>\n<style scoped>\n    .dataframe tbody tr th:only-of-type {\n        vertical-align: middle;\n    }\n\n    .dataframe tbody tr th {\n        vertical-align: top;\n    }\n\n    .dataframe thead th {\n        text-align: right;\n    }\n</style>\n<table border=\"1\" class=\"dataframe\">\n  <thead>\n    <tr style=\"text-align: right;\">\n      <th></th>\n      <th>库位</th>\n      <th>料品</th>\n      <th>品名</th>\n      <th>批号</th>\n      <th>可用数量</th>\n      <th>冻结数量</th>\n      <th>总数量</th>\n      <th>check</th>\n      <th>d</th>\n    </tr>\n  </thead>\n  <tbody>\n    <tr>\n      <th>170</th>\n      <td>4A05</td>\n      <td>103909-15</td>\n      <td>今西利哈旺油粘米15</td>\n      <td>200804005</td>\n      <td>30</td>\n      <td>0</td>\n      <td>30</td>\n      <td>27</td>\n      <td>-3</td>\n    </tr>\n    <tr>\n      <th>171</th>\n      <td>4A05</td>\n      <td>103909-15</td>\n      <td>今西利哈旺油粘米15</td>\n      <td>200811004</td>\n      <td>23</td>\n      <td>0</td>\n      <td>23</td>\n      <td>0</td>\n      <td>-23</td>\n    </tr>\n    <tr>\n      <th>326</th>\n      <td>4B01</td>\n      <td>103909-15</td>\n      <td>今西利哈旺油粘米15</td>\n      <td>200814001</td>\n      <td>246</td>\n      <td>0</td>\n      <td>246</td>\n      <td>269</td>\n      <td>23</td>\n    </tr>\n  </tbody>\n</table>\n</div>"
     },
     "metadata": {}
    },
    {
     "output_type": "display_data",
     "data": {
      "text/plain": "       库位         料品          品名         批号  可用数量  冻结数量  总数量 check    d\n200  4A08  103912-15  今西利富客酒店米15  200818003   300     0  300   337   37\n274  4AH3  103912-15  今西利富客酒店米15  200728005    69     0   69   138   69\n328  4B01  103912-15  今西利富客酒店米15  200806004   255     0  255   149 -106",
      "text/html": "<div>\n<style scoped>\n    .dataframe tbody tr th:only-of-type {\n        vertical-align: middle;\n    }\n\n    .dataframe tbody tr th {\n        vertical-align: top;\n    }\n\n    .dataframe thead th {\n        text-align: right;\n    }\n</style>\n<table border=\"1\" class=\"dataframe\">\n  <thead>\n    <tr style=\"text-align: right;\">\n      <th></th>\n      <th>库位</th>\n      <th>料品</th>\n      <th>品名</th>\n      <th>批号</th>\n      <th>可用数量</th>\n      <th>冻结数量</th>\n      <th>总数量</th>\n      <th>check</th>\n      <th>d</th>\n    </tr>\n  </thead>\n  <tbody>\n    <tr>\n      <th>200</th>\n      <td>4A08</td>\n      <td>103912-15</td>\n      <td>今西利富客酒店米15</td>\n      <td>200818003</td>\n      <td>300</td>\n      <td>0</td>\n      <td>300</td>\n      <td>337</td>\n      <td>37</td>\n    </tr>\n    <tr>\n      <th>274</th>\n      <td>4AH3</td>\n      <td>103912-15</td>\n      <td>今西利富客酒店米15</td>\n      <td>200728005</td>\n      <td>69</td>\n      <td>0</td>\n      <td>69</td>\n      <td>138</td>\n      <td>69</td>\n    </tr>\n    <tr>\n      <th>328</th>\n      <td>4B01</td>\n      <td>103912-15</td>\n      <td>今西利富客酒店米15</td>\n      <td>200806004</td>\n      <td>255</td>\n      <td>0</td>\n      <td>255</td>\n      <td>149</td>\n      <td>-106</td>\n    </tr>\n  </tbody>\n</table>\n</div>"
     },
     "metadata": {}
    },
    {
     "output_type": "display_data",
     "data": {
      "text/plain": "       库位         料品          品名         批号  可用数量  冻结数量  总数量 check   d\n131  4A01  104003-25  香满宾庭励福香米25  200725004   131     0  131   102 -29\n420  4AH0  104003-25  香满宾庭励福香米25  200725004     0     0    0    29  29",
      "text/html": "<div>\n<style scoped>\n    .dataframe tbody tr th:only-of-type {\n        vertical-align: middle;\n    }\n\n    .dataframe tbody tr th {\n        vertical-align: top;\n    }\n\n    .dataframe thead th {\n        text-align: right;\n    }\n</style>\n<table border=\"1\" class=\"dataframe\">\n  <thead>\n    <tr style=\"text-align: right;\">\n      <th></th>\n      <th>库位</th>\n      <th>料品</th>\n      <th>品名</th>\n      <th>批号</th>\n      <th>可用数量</th>\n      <th>冻结数量</th>\n      <th>总数量</th>\n      <th>check</th>\n      <th>d</th>\n    </tr>\n  </thead>\n  <tbody>\n    <tr>\n      <th>131</th>\n      <td>4A01</td>\n      <td>104003-25</td>\n      <td>香满宾庭励福香米25</td>\n      <td>200725004</td>\n      <td>131</td>\n      <td>0</td>\n      <td>131</td>\n      <td>102</td>\n      <td>-29</td>\n    </tr>\n    <tr>\n      <th>420</th>\n      <td>4AH0</td>\n      <td>104003-25</td>\n      <td>香满宾庭励福香米25</td>\n      <td>200725004</td>\n      <td>0</td>\n      <td>0</td>\n      <td>0</td>\n      <td>29</td>\n      <td>29</td>\n    </tr>\n  </tbody>\n</table>\n</div>"
     },
     "metadata": {}
    },
    {
     "output_type": "display_data",
     "data": {
      "text/plain": "       库位         料品          品名         批号  可用数量  冻结数量  总数量 check   d\n161  4A04  104101-25  金稻鱼太粮家乐米25  200724028    90     0   90     4 -86\n202  4A08  104101-25  金稻鱼太粮家乐米25  200813003   170     0  170   256  86\n292  4AH5  104101-25  金稻鱼太粮家乐米25  200808003    48     0   48    40  -8",
      "text/html": "<div>\n<style scoped>\n    .dataframe tbody tr th:only-of-type {\n        vertical-align: middle;\n    }\n\n    .dataframe tbody tr th {\n        vertical-align: top;\n    }\n\n    .dataframe thead th {\n        text-align: right;\n    }\n</style>\n<table border=\"1\" class=\"dataframe\">\n  <thead>\n    <tr style=\"text-align: right;\">\n      <th></th>\n      <th>库位</th>\n      <th>料品</th>\n      <th>品名</th>\n      <th>批号</th>\n      <th>可用数量</th>\n      <th>冻结数量</th>\n      <th>总数量</th>\n      <th>check</th>\n      <th>d</th>\n    </tr>\n  </thead>\n  <tbody>\n    <tr>\n      <th>161</th>\n      <td>4A04</td>\n      <td>104101-25</td>\n      <td>金稻鱼太粮家乐米25</td>\n      <td>200724028</td>\n      <td>90</td>\n      <td>0</td>\n      <td>90</td>\n      <td>4</td>\n      <td>-86</td>\n    </tr>\n    <tr>\n      <th>202</th>\n      <td>4A08</td>\n      <td>104101-25</td>\n      <td>金稻鱼太粮家乐米25</td>\n      <td>200813003</td>\n      <td>170</td>\n      <td>0</td>\n      <td>170</td>\n      <td>256</td>\n      <td>86</td>\n    </tr>\n    <tr>\n      <th>292</th>\n      <td>4AH5</td>\n      <td>104101-25</td>\n      <td>金稻鱼太粮家乐米25</td>\n      <td>200808003</td>\n      <td>48</td>\n      <td>0</td>\n      <td>48</td>\n      <td>40</td>\n      <td>-8</td>\n    </tr>\n  </tbody>\n</table>\n</div>"
     },
     "metadata": {}
    },
    {
     "output_type": "display_data",
     "data": {
      "text/plain": "       库位         料品              品名         批号  可用数量  冻结数量  总数量 check  d\n10   3A00  104101-85  金稻鱼太粮家乐米2.5*10  200801008    16     0   16     7 -9\n98   3AP1  104101-85  金稻鱼太粮家乐米2.5*10  200731036     1     0    1     2  1\n307  4AP4  104101-85  金稻鱼太粮家乐米2.5*10  200801008    36     0   36    44  8",
      "text/html": "<div>\n<style scoped>\n    .dataframe tbody tr th:only-of-type {\n        vertical-align: middle;\n    }\n\n    .dataframe tbody tr th {\n        vertical-align: top;\n    }\n\n    .dataframe thead th {\n        text-align: right;\n    }\n</style>\n<table border=\"1\" class=\"dataframe\">\n  <thead>\n    <tr style=\"text-align: right;\">\n      <th></th>\n      <th>库位</th>\n      <th>料品</th>\n      <th>品名</th>\n      <th>批号</th>\n      <th>可用数量</th>\n      <th>冻结数量</th>\n      <th>总数量</th>\n      <th>check</th>\n      <th>d</th>\n    </tr>\n  </thead>\n  <tbody>\n    <tr>\n      <th>10</th>\n      <td>3A00</td>\n      <td>104101-85</td>\n      <td>金稻鱼太粮家乐米2.5*10</td>\n      <td>200801008</td>\n      <td>16</td>\n      <td>0</td>\n      <td>16</td>\n      <td>7</td>\n      <td>-9</td>\n    </tr>\n    <tr>\n      <th>98</th>\n      <td>3AP1</td>\n      <td>104101-85</td>\n      <td>金稻鱼太粮家乐米2.5*10</td>\n      <td>200731036</td>\n      <td>1</td>\n      <td>0</td>\n      <td>1</td>\n      <td>2</td>\n      <td>1</td>\n    </tr>\n    <tr>\n      <th>307</th>\n      <td>4AP4</td>\n      <td>104101-85</td>\n      <td>金稻鱼太粮家乐米2.5*10</td>\n      <td>200801008</td>\n      <td>36</td>\n      <td>0</td>\n      <td>36</td>\n      <td>44</td>\n      <td>8</td>\n    </tr>\n  </tbody>\n</table>\n</div>"
     },
     "metadata": {}
    },
    {
     "output_type": "display_data",
     "data": {
      "text/plain": "       库位         料品       品名         批号  可用数量  冻结数量   总数量 check    d\n330  4B01  105801-10  为食猫牙米10  200816005  1253     0  1253  1653  400\n357  4B02  105801-10  为食猫牙米10  200812008   480     0   480    80 -400\n392  4BH0  105801-10  为食猫牙米10  200816005    52     0    52    41  -11\n421  4A00  105801-10  为食猫牙米10  200816005     0     0     0    11   11",
      "text/html": "<div>\n<style scoped>\n    .dataframe tbody tr th:only-of-type {\n        vertical-align: middle;\n    }\n\n    .dataframe tbody tr th {\n        vertical-align: top;\n    }\n\n    .dataframe thead th {\n        text-align: right;\n    }\n</style>\n<table border=\"1\" class=\"dataframe\">\n  <thead>\n    <tr style=\"text-align: right;\">\n      <th></th>\n      <th>库位</th>\n      <th>料品</th>\n      <th>品名</th>\n      <th>批号</th>\n      <th>可用数量</th>\n      <th>冻结数量</th>\n      <th>总数量</th>\n      <th>check</th>\n      <th>d</th>\n    </tr>\n  </thead>\n  <tbody>\n    <tr>\n      <th>330</th>\n      <td>4B01</td>\n      <td>105801-10</td>\n      <td>为食猫牙米10</td>\n      <td>200816005</td>\n      <td>1253</td>\n      <td>0</td>\n      <td>1253</td>\n      <td>1653</td>\n      <td>400</td>\n    </tr>\n    <tr>\n      <th>357</th>\n      <td>4B02</td>\n      <td>105801-10</td>\n      <td>为食猫牙米10</td>\n      <td>200812008</td>\n      <td>480</td>\n      <td>0</td>\n      <td>480</td>\n      <td>80</td>\n      <td>-400</td>\n    </tr>\n    <tr>\n      <th>392</th>\n      <td>4BH0</td>\n      <td>105801-10</td>\n      <td>为食猫牙米10</td>\n      <td>200816005</td>\n      <td>52</td>\n      <td>0</td>\n      <td>52</td>\n      <td>41</td>\n      <td>-11</td>\n    </tr>\n    <tr>\n      <th>421</th>\n      <td>4A00</td>\n      <td>105801-10</td>\n      <td>为食猫牙米10</td>\n      <td>200816005</td>\n      <td>0</td>\n      <td>0</td>\n      <td>0</td>\n      <td>11</td>\n      <td>11</td>\n    </tr>\n  </tbody>\n</table>\n</div>"
     },
     "metadata": {}
    },
    {
     "output_type": "display_data",
     "data": {
      "text/plain": "       库位         料品       品名         批号  可用数量  冻结数量  总数量 check  d\n293  4AH5  105801-25  为食猫牙米25  200818011    80     0   80    79 -1\n371  4B03  105801-25  为食猫牙米25  200816005     1     0    1     2  1",
      "text/html": "<div>\n<style scoped>\n    .dataframe tbody tr th:only-of-type {\n        vertical-align: middle;\n    }\n\n    .dataframe tbody tr th {\n        vertical-align: top;\n    }\n\n    .dataframe thead th {\n        text-align: right;\n    }\n</style>\n<table border=\"1\" class=\"dataframe\">\n  <thead>\n    <tr style=\"text-align: right;\">\n      <th></th>\n      <th>库位</th>\n      <th>料品</th>\n      <th>品名</th>\n      <th>批号</th>\n      <th>可用数量</th>\n      <th>冻结数量</th>\n      <th>总数量</th>\n      <th>check</th>\n      <th>d</th>\n    </tr>\n  </thead>\n  <tbody>\n    <tr>\n      <th>293</th>\n      <td>4AH5</td>\n      <td>105801-25</td>\n      <td>为食猫牙米25</td>\n      <td>200818011</td>\n      <td>80</td>\n      <td>0</td>\n      <td>80</td>\n      <td>79</td>\n      <td>-1</td>\n    </tr>\n    <tr>\n      <th>371</th>\n      <td>4B03</td>\n      <td>105801-25</td>\n      <td>为食猫牙米25</td>\n      <td>200816005</td>\n      <td>1</td>\n      <td>0</td>\n      <td>1</td>\n      <td>2</td>\n      <td>1</td>\n    </tr>\n  </tbody>\n</table>\n</div>"
     },
     "metadata": {}
    },
    {
     "output_type": "display_data",
     "data": {
      "text/plain": "       库位         料品        品名         批号  可用数量  冻结数量   总数量 check    d\n162  4A04  105803-10  太粮巴吞香米10  200725032  2276   480  2756  2814   58\n182  4A06  105803-10  太粮巴吞香米10  200725030  1235     0  1235  1133 -102\n190  4A07  105803-10  太粮巴吞香米10  200812004    99     0    99    74  -25\n394  4BH0  105803-10  太粮巴吞香米10  200814004   102     0   102   146   44\n422  4A08  105803-10  太粮巴吞香米10  200812004     0     0     0    25   25",
      "text/html": "<div>\n<style scoped>\n    .dataframe tbody tr th:only-of-type {\n        vertical-align: middle;\n    }\n\n    .dataframe tbody tr th {\n        vertical-align: top;\n    }\n\n    .dataframe thead th {\n        text-align: right;\n    }\n</style>\n<table border=\"1\" class=\"dataframe\">\n  <thead>\n    <tr style=\"text-align: right;\">\n      <th></th>\n      <th>库位</th>\n      <th>料品</th>\n      <th>品名</th>\n      <th>批号</th>\n      <th>可用数量</th>\n      <th>冻结数量</th>\n      <th>总数量</th>\n      <th>check</th>\n      <th>d</th>\n    </tr>\n  </thead>\n  <tbody>\n    <tr>\n      <th>162</th>\n      <td>4A04</td>\n      <td>105803-10</td>\n      <td>太粮巴吞香米10</td>\n      <td>200725032</td>\n      <td>2276</td>\n      <td>480</td>\n      <td>2756</td>\n      <td>2814</td>\n      <td>58</td>\n    </tr>\n    <tr>\n      <th>182</th>\n      <td>4A06</td>\n      <td>105803-10</td>\n      <td>太粮巴吞香米10</td>\n      <td>200725030</td>\n      <td>1235</td>\n      <td>0</td>\n      <td>1235</td>\n      <td>1133</td>\n      <td>-102</td>\n    </tr>\n    <tr>\n      <th>190</th>\n      <td>4A07</td>\n      <td>105803-10</td>\n      <td>太粮巴吞香米10</td>\n      <td>200812004</td>\n      <td>99</td>\n      <td>0</td>\n      <td>99</td>\n      <td>74</td>\n      <td>-25</td>\n    </tr>\n    <tr>\n      <th>394</th>\n      <td>4BH0</td>\n      <td>105803-10</td>\n      <td>太粮巴吞香米10</td>\n      <td>200814004</td>\n      <td>102</td>\n      <td>0</td>\n      <td>102</td>\n      <td>146</td>\n      <td>44</td>\n    </tr>\n    <tr>\n      <th>422</th>\n      <td>4A08</td>\n      <td>105803-10</td>\n      <td>太粮巴吞香米10</td>\n      <td>200812004</td>\n      <td>0</td>\n      <td>0</td>\n      <td>0</td>\n      <td>25</td>\n      <td>25</td>\n    </tr>\n  </tbody>\n</table>\n</div>"
     },
     "metadata": {}
    },
    {
     "output_type": "display_data",
     "data": {
      "text/plain": "       库位         料品      品名         批号  可用数量  冻结数量  总数量 check  d\n396  4BH0  105808-10  餐乐香米10  200814002    30     0   30    26 -4",
      "text/html": "<div>\n<style scoped>\n    .dataframe tbody tr th:only-of-type {\n        vertical-align: middle;\n    }\n\n    .dataframe tbody tr th {\n        vertical-align: top;\n    }\n\n    .dataframe thead th {\n        text-align: right;\n    }\n</style>\n<table border=\"1\" class=\"dataframe\">\n  <thead>\n    <tr style=\"text-align: right;\">\n      <th></th>\n      <th>库位</th>\n      <th>料品</th>\n      <th>品名</th>\n      <th>批号</th>\n      <th>可用数量</th>\n      <th>冻结数量</th>\n      <th>总数量</th>\n      <th>check</th>\n      <th>d</th>\n    </tr>\n  </thead>\n  <tbody>\n    <tr>\n      <th>396</th>\n      <td>4BH0</td>\n      <td>105808-10</td>\n      <td>餐乐香米10</td>\n      <td>200814002</td>\n      <td>30</td>\n      <td>0</td>\n      <td>30</td>\n      <td>26</td>\n      <td>-4</td>\n    </tr>\n  </tbody>\n</table>\n</div>"
     },
     "metadata": {}
    },
    {
     "output_type": "display_data",
     "data": {
      "text/plain": "      库位         料品       品名         批号  可用数量  冻结数量   总数量 check    d\n36  3A02  105812-35  泰粮香米5*5  200812007   271     0   271   542  271\n37  3A03  105812-35  泰粮香米5*5  200812007   526     0   526  1052  526\n63  3A08  105812-35  泰粮香米5*5  200818010  1201     0  1201   404 -797",
      "text/html": "<div>\n<style scoped>\n    .dataframe tbody tr th:only-of-type {\n        vertical-align: middle;\n    }\n\n    .dataframe tbody tr th {\n        vertical-align: top;\n    }\n\n    .dataframe thead th {\n        text-align: right;\n    }\n</style>\n<table border=\"1\" class=\"dataframe\">\n  <thead>\n    <tr style=\"text-align: right;\">\n      <th></th>\n      <th>库位</th>\n      <th>料品</th>\n      <th>品名</th>\n      <th>批号</th>\n      <th>可用数量</th>\n      <th>冻结数量</th>\n      <th>总数量</th>\n      <th>check</th>\n      <th>d</th>\n    </tr>\n  </thead>\n  <tbody>\n    <tr>\n      <th>36</th>\n      <td>3A02</td>\n      <td>105812-35</td>\n      <td>泰粮香米5*5</td>\n      <td>200812007</td>\n      <td>271</td>\n      <td>0</td>\n      <td>271</td>\n      <td>542</td>\n      <td>271</td>\n    </tr>\n    <tr>\n      <th>37</th>\n      <td>3A03</td>\n      <td>105812-35</td>\n      <td>泰粮香米5*5</td>\n      <td>200812007</td>\n      <td>526</td>\n      <td>0</td>\n      <td>526</td>\n      <td>1052</td>\n      <td>526</td>\n    </tr>\n    <tr>\n      <th>63</th>\n      <td>3A08</td>\n      <td>105812-35</td>\n      <td>泰粮香米5*5</td>\n      <td>200818010</td>\n      <td>1201</td>\n      <td>0</td>\n      <td>1201</td>\n      <td>404</td>\n      <td>-797</td>\n    </tr>\n  </tbody>\n</table>\n</div>"
     },
     "metadata": {}
    },
    {
     "output_type": "display_data",
     "data": {
      "text/plain": "      库位         料品             品名         批号  可用数量  冻结数量  总数量 check  d\n48  3A05  107012-35  良谷纪（稻花香2号）5*5  200811022   359     0  359   353 -6",
      "text/html": "<div>\n<style scoped>\n    .dataframe tbody tr th:only-of-type {\n        vertical-align: middle;\n    }\n\n    .dataframe tbody tr th {\n        vertical-align: top;\n    }\n\n    .dataframe thead th {\n        text-align: right;\n    }\n</style>\n<table border=\"1\" class=\"dataframe\">\n  <thead>\n    <tr style=\"text-align: right;\">\n      <th></th>\n      <th>库位</th>\n      <th>料品</th>\n      <th>品名</th>\n      <th>批号</th>\n      <th>可用数量</th>\n      <th>冻结数量</th>\n      <th>总数量</th>\n      <th>check</th>\n      <th>d</th>\n    </tr>\n  </thead>\n  <tbody>\n    <tr>\n      <th>48</th>\n      <td>3A05</td>\n      <td>107012-35</td>\n      <td>良谷纪（稻花香2号）5*5</td>\n      <td>200811022</td>\n      <td>359</td>\n      <td>0</td>\n      <td>359</td>\n      <td>353</td>\n      <td>-6</td>\n    </tr>\n  </tbody>\n</table>\n</div>"
     },
     "metadata": {}
    },
    {
     "output_type": "display_data",
     "data": {
      "text/plain": "        库位         料品           品名         批号  可用数量  冻结数量  总数量 check   d\n407  糙米线库位  107090-25  香雪珍珠米（特通）25  200804019   598     0  598   585 -13\n408  糙米线库位  107090-25  香雪珍珠米（特通）25  200804033    40     0   40    80  40\n409  糙米线库位  107090-25  香雪珍珠米（特通）25  200806014    67     0   67    40 -27",
      "text/html": "<div>\n<style scoped>\n    .dataframe tbody tr th:only-of-type {\n        vertical-align: middle;\n    }\n\n    .dataframe tbody tr th {\n        vertical-align: top;\n    }\n\n    .dataframe thead th {\n        text-align: right;\n    }\n</style>\n<table border=\"1\" class=\"dataframe\">\n  <thead>\n    <tr style=\"text-align: right;\">\n      <th></th>\n      <th>库位</th>\n      <th>料品</th>\n      <th>品名</th>\n      <th>批号</th>\n      <th>可用数量</th>\n      <th>冻结数量</th>\n      <th>总数量</th>\n      <th>check</th>\n      <th>d</th>\n    </tr>\n  </thead>\n  <tbody>\n    <tr>\n      <th>407</th>\n      <td>糙米线库位</td>\n      <td>107090-25</td>\n      <td>香雪珍珠米（特通）25</td>\n      <td>200804019</td>\n      <td>598</td>\n      <td>0</td>\n      <td>598</td>\n      <td>585</td>\n      <td>-13</td>\n    </tr>\n    <tr>\n      <th>408</th>\n      <td>糙米线库位</td>\n      <td>107090-25</td>\n      <td>香雪珍珠米（特通）25</td>\n      <td>200804033</td>\n      <td>40</td>\n      <td>0</td>\n      <td>40</td>\n      <td>80</td>\n      <td>40</td>\n    </tr>\n    <tr>\n      <th>409</th>\n      <td>糙米线库位</td>\n      <td>107090-25</td>\n      <td>香雪珍珠米（特通）25</td>\n      <td>200806014</td>\n      <td>67</td>\n      <td>0</td>\n      <td>67</td>\n      <td>40</td>\n      <td>-27</td>\n    </tr>\n  </tbody>\n</table>\n</div>"
     },
     "metadata": {}
    },
    {
     "output_type": "display_data",
     "data": {
      "text/plain": "       库位         料品           品名         批号  可用数量  冻结数量  总数量 check   d\n397  4BH0  150101-15  鸣象（尊桂）油粘米15  200814001    30     0   30    60  30\n398  4BH0  150101-15  鸣象（尊桂）油粘米15  200818002   200     0  200   170 -30",
      "text/html": "<div>\n<style scoped>\n    .dataframe tbody tr th:only-of-type {\n        vertical-align: middle;\n    }\n\n    .dataframe tbody tr th {\n        vertical-align: top;\n    }\n\n    .dataframe thead th {\n        text-align: right;\n    }\n</style>\n<table border=\"1\" class=\"dataframe\">\n  <thead>\n    <tr style=\"text-align: right;\">\n      <th></th>\n      <th>库位</th>\n      <th>料品</th>\n      <th>品名</th>\n      <th>批号</th>\n      <th>可用数量</th>\n      <th>冻结数量</th>\n      <th>总数量</th>\n      <th>check</th>\n      <th>d</th>\n    </tr>\n  </thead>\n  <tbody>\n    <tr>\n      <th>397</th>\n      <td>4BH0</td>\n      <td>150101-15</td>\n      <td>鸣象（尊桂）油粘米15</td>\n      <td>200814001</td>\n      <td>30</td>\n      <td>0</td>\n      <td>30</td>\n      <td>60</td>\n      <td>30</td>\n    </tr>\n    <tr>\n      <th>398</th>\n      <td>4BH0</td>\n      <td>150101-15</td>\n      <td>鸣象（尊桂）油粘米15</td>\n      <td>200818002</td>\n      <td>200</td>\n      <td>0</td>\n      <td>200</td>\n      <td>170</td>\n      <td>-30</td>\n    </tr>\n  </tbody>\n</table>\n</div>"
     },
     "metadata": {}
    },
    {
     "output_type": "display_data",
     "data": {
      "text/plain": "      库位         料品            品名         批号  可用数量  冻结数量  总数量 check    d\n43  3A04  150101-35  鸣象（尊桂）油粘米5*5  200818010   648     0  648   772  124\n88  3A09  150101-35  鸣象（尊桂）油粘米5*5  200811011   124     6  130     6 -124",
      "text/html": "<div>\n<style scoped>\n    .dataframe tbody tr th:only-of-type {\n        vertical-align: middle;\n    }\n\n    .dataframe tbody tr th {\n        vertical-align: top;\n    }\n\n    .dataframe thead th {\n        text-align: right;\n    }\n</style>\n<table border=\"1\" class=\"dataframe\">\n  <thead>\n    <tr style=\"text-align: right;\">\n      <th></th>\n      <th>库位</th>\n      <th>料品</th>\n      <th>品名</th>\n      <th>批号</th>\n      <th>可用数量</th>\n      <th>冻结数量</th>\n      <th>总数量</th>\n      <th>check</th>\n      <th>d</th>\n    </tr>\n  </thead>\n  <tbody>\n    <tr>\n      <th>43</th>\n      <td>3A04</td>\n      <td>150101-35</td>\n      <td>鸣象（尊桂）油粘米5*5</td>\n      <td>200818010</td>\n      <td>648</td>\n      <td>0</td>\n      <td>648</td>\n      <td>772</td>\n      <td>124</td>\n    </tr>\n    <tr>\n      <th>88</th>\n      <td>3A09</td>\n      <td>150101-35</td>\n      <td>鸣象（尊桂）油粘米5*5</td>\n      <td>200811011</td>\n      <td>124</td>\n      <td>6</td>\n      <td>130</td>\n      <td>6</td>\n      <td>-124</td>\n    </tr>\n  </tbody>\n</table>\n</div>"
     },
     "metadata": {}
    },
    {
     "output_type": "display_data",
     "data": {
      "text/plain": "       库位         料品          品名         批号  可用数量  冻结数量  总数量 check   d\n15   3A00  150103-35  鸣象富桂银粘米5*5  200812007    44     0   44    29 -15\n31   3A01  150103-35  鸣象富桂银粘米5*5  200818010   120     0  120   108 -12\n127  4A00  150103-35  鸣象富桂银粘米5*5  200812007    27     0   27    54  27",
      "text/html": "<div>\n<style scoped>\n    .dataframe tbody tr th:only-of-type {\n        vertical-align: middle;\n    }\n\n    .dataframe tbody tr th {\n        vertical-align: top;\n    }\n\n    .dataframe thead th {\n        text-align: right;\n    }\n</style>\n<table border=\"1\" class=\"dataframe\">\n  <thead>\n    <tr style=\"text-align: right;\">\n      <th></th>\n      <th>库位</th>\n      <th>料品</th>\n      <th>品名</th>\n      <th>批号</th>\n      <th>可用数量</th>\n      <th>冻结数量</th>\n      <th>总数量</th>\n      <th>check</th>\n      <th>d</th>\n    </tr>\n  </thead>\n  <tbody>\n    <tr>\n      <th>15</th>\n      <td>3A00</td>\n      <td>150103-35</td>\n      <td>鸣象富桂银粘米5*5</td>\n      <td>200812007</td>\n      <td>44</td>\n      <td>0</td>\n      <td>44</td>\n      <td>29</td>\n      <td>-15</td>\n    </tr>\n    <tr>\n      <th>31</th>\n      <td>3A01</td>\n      <td>150103-35</td>\n      <td>鸣象富桂银粘米5*5</td>\n      <td>200818010</td>\n      <td>120</td>\n      <td>0</td>\n      <td>120</td>\n      <td>108</td>\n      <td>-12</td>\n    </tr>\n    <tr>\n      <th>127</th>\n      <td>4A00</td>\n      <td>150103-35</td>\n      <td>鸣象富桂银粘米5*5</td>\n      <td>200812007</td>\n      <td>27</td>\n      <td>0</td>\n      <td>27</td>\n      <td>54</td>\n      <td>27</td>\n    </tr>\n  </tbody>\n</table>\n</div>"
     },
     "metadata": {}
    },
    {
     "output_type": "display_data",
     "data": {
      "text/plain": "      库位         料品          品名         批号  可用数量  冻结数量  总数量 check  d\n68  3A08  150107-35  鸣象（丝苗）米5*5  200810014     4     0    4     8  4\n89  3A09  150107-35  鸣象（丝苗）米5*5  200816001   195     0  195   191 -4",
      "text/html": "<div>\n<style scoped>\n    .dataframe tbody tr th:only-of-type {\n        vertical-align: middle;\n    }\n\n    .dataframe tbody tr th {\n        vertical-align: top;\n    }\n\n    .dataframe thead th {\n        text-align: right;\n    }\n</style>\n<table border=\"1\" class=\"dataframe\">\n  <thead>\n    <tr style=\"text-align: right;\">\n      <th></th>\n      <th>库位</th>\n      <th>料品</th>\n      <th>品名</th>\n      <th>批号</th>\n      <th>可用数量</th>\n      <th>冻结数量</th>\n      <th>总数量</th>\n      <th>check</th>\n      <th>d</th>\n    </tr>\n  </thead>\n  <tbody>\n    <tr>\n      <th>68</th>\n      <td>3A08</td>\n      <td>150107-35</td>\n      <td>鸣象（丝苗）米5*5</td>\n      <td>200810014</td>\n      <td>4</td>\n      <td>0</td>\n      <td>4</td>\n      <td>8</td>\n      <td>4</td>\n    </tr>\n    <tr>\n      <th>89</th>\n      <td>3A09</td>\n      <td>150107-35</td>\n      <td>鸣象（丝苗）米5*5</td>\n      <td>200816001</td>\n      <td>195</td>\n      <td>0</td>\n      <td>195</td>\n      <td>191</td>\n      <td>-4</td>\n    </tr>\n  </tbody>\n</table>\n</div>"
     },
     "metadata": {}
    },
    {
     "output_type": "display_data",
     "data": {
      "text/plain": "       库位         料品         品名         批号  可用数量  冻结数量  总数量 check    d\n135  4A01  160101-10  帝皇鹰米满香米10  200810001   936     0  936   880  -56\n191  4A07  160101-10  帝皇鹰米满香米10  200810001   153     0  153    33 -120\n333  4B01  160101-10  帝皇鹰米满香米10  200802003   339     0  339   515  176",
      "text/html": "<div>\n<style scoped>\n    .dataframe tbody tr th:only-of-type {\n        vertical-align: middle;\n    }\n\n    .dataframe tbody tr th {\n        vertical-align: top;\n    }\n\n    .dataframe thead th {\n        text-align: right;\n    }\n</style>\n<table border=\"1\" class=\"dataframe\">\n  <thead>\n    <tr style=\"text-align: right;\">\n      <th></th>\n      <th>库位</th>\n      <th>料品</th>\n      <th>品名</th>\n      <th>批号</th>\n      <th>可用数量</th>\n      <th>冻结数量</th>\n      <th>总数量</th>\n      <th>check</th>\n      <th>d</th>\n    </tr>\n  </thead>\n  <tbody>\n    <tr>\n      <th>135</th>\n      <td>4A01</td>\n      <td>160101-10</td>\n      <td>帝皇鹰米满香米10</td>\n      <td>200810001</td>\n      <td>936</td>\n      <td>0</td>\n      <td>936</td>\n      <td>880</td>\n      <td>-56</td>\n    </tr>\n    <tr>\n      <th>191</th>\n      <td>4A07</td>\n      <td>160101-10</td>\n      <td>帝皇鹰米满香米10</td>\n      <td>200810001</td>\n      <td>153</td>\n      <td>0</td>\n      <td>153</td>\n      <td>33</td>\n      <td>-120</td>\n    </tr>\n    <tr>\n      <th>333</th>\n      <td>4B01</td>\n      <td>160101-10</td>\n      <td>帝皇鹰米满香米10</td>\n      <td>200802003</td>\n      <td>339</td>\n      <td>0</td>\n      <td>339</td>\n      <td>515</td>\n      <td>176</td>\n    </tr>\n  </tbody>\n</table>\n</div>"
     },
     "metadata": {}
    },
    {
     "output_type": "display_data",
     "data": {
      "text/plain": "       库位         料品         品名         批号  可用数量  冻结数量  总数量 check   d\n137  4A01  160102-25  帝皇鹰喜之粮米25  200715051    13     0   13     6  -7\n163  4A04  160102-25  帝皇鹰喜之粮米25  200716036   553     0  553   483 -70\n164  4A04  160102-25  帝皇鹰喜之粮米25  200802003    50     0   50    28 -22\n335  4B01  160102-25  帝皇鹰喜之粮米25  200815019    80     0   80    78  -2\n423  4A01  160102-25  帝皇鹰喜之粮米25  200716036     0     0    0    91  91",
      "text/html": "<div>\n<style scoped>\n    .dataframe tbody tr th:only-of-type {\n        vertical-align: middle;\n    }\n\n    .dataframe tbody tr th {\n        vertical-align: top;\n    }\n\n    .dataframe thead th {\n        text-align: right;\n    }\n</style>\n<table border=\"1\" class=\"dataframe\">\n  <thead>\n    <tr style=\"text-align: right;\">\n      <th></th>\n      <th>库位</th>\n      <th>料品</th>\n      <th>品名</th>\n      <th>批号</th>\n      <th>可用数量</th>\n      <th>冻结数量</th>\n      <th>总数量</th>\n      <th>check</th>\n      <th>d</th>\n    </tr>\n  </thead>\n  <tbody>\n    <tr>\n      <th>137</th>\n      <td>4A01</td>\n      <td>160102-25</td>\n      <td>帝皇鹰喜之粮米25</td>\n      <td>200715051</td>\n      <td>13</td>\n      <td>0</td>\n      <td>13</td>\n      <td>6</td>\n      <td>-7</td>\n    </tr>\n    <tr>\n      <th>163</th>\n      <td>4A04</td>\n      <td>160102-25</td>\n      <td>帝皇鹰喜之粮米25</td>\n      <td>200716036</td>\n      <td>553</td>\n      <td>0</td>\n      <td>553</td>\n      <td>483</td>\n      <td>-70</td>\n    </tr>\n    <tr>\n      <th>164</th>\n      <td>4A04</td>\n      <td>160102-25</td>\n      <td>帝皇鹰喜之粮米25</td>\n      <td>200802003</td>\n      <td>50</td>\n      <td>0</td>\n      <td>50</td>\n      <td>28</td>\n      <td>-22</td>\n    </tr>\n    <tr>\n      <th>335</th>\n      <td>4B01</td>\n      <td>160102-25</td>\n      <td>帝皇鹰喜之粮米25</td>\n      <td>200815019</td>\n      <td>80</td>\n      <td>0</td>\n      <td>80</td>\n      <td>78</td>\n      <td>-2</td>\n    </tr>\n    <tr>\n      <th>423</th>\n      <td>4A01</td>\n      <td>160102-25</td>\n      <td>帝皇鹰喜之粮米25</td>\n      <td>200716036</td>\n      <td>0</td>\n      <td>0</td>\n      <td>0</td>\n      <td>91</td>\n      <td>91</td>\n    </tr>\n  </tbody>\n</table>\n</div>"
     },
     "metadata": {}
    },
    {
     "output_type": "display_data",
     "data": {
      "text/plain": "       库位         料品           品名         批号  可用数量  冻结数量  总数量 check   d\n128  4A00  160204-35  喜之粮湖蟹卧田米5*5  200805013   259     0  259   184 -75\n424  3A06  160204-35  喜之粮湖蟹卧田米5*5  200805013     0     0    0    66  66",
      "text/html": "<div>\n<style scoped>\n    .dataframe tbody tr th:only-of-type {\n        vertical-align: middle;\n    }\n\n    .dataframe tbody tr th {\n        vertical-align: top;\n    }\n\n    .dataframe thead th {\n        text-align: right;\n    }\n</style>\n<table border=\"1\" class=\"dataframe\">\n  <thead>\n    <tr style=\"text-align: right;\">\n      <th></th>\n      <th>库位</th>\n      <th>料品</th>\n      <th>品名</th>\n      <th>批号</th>\n      <th>可用数量</th>\n      <th>冻结数量</th>\n      <th>总数量</th>\n      <th>check</th>\n      <th>d</th>\n    </tr>\n  </thead>\n  <tbody>\n    <tr>\n      <th>128</th>\n      <td>4A00</td>\n      <td>160204-35</td>\n      <td>喜之粮湖蟹卧田米5*5</td>\n      <td>200805013</td>\n      <td>259</td>\n      <td>0</td>\n      <td>259</td>\n      <td>184</td>\n      <td>-75</td>\n    </tr>\n    <tr>\n      <th>424</th>\n      <td>3A06</td>\n      <td>160204-35</td>\n      <td>喜之粮湖蟹卧田米5*5</td>\n      <td>200805013</td>\n      <td>0</td>\n      <td>0</td>\n      <td>0</td>\n      <td>66</td>\n      <td>66</td>\n    </tr>\n  </tbody>\n</table>\n</div>"
     },
     "metadata": {}
    }
   ],
   "source": [
    "for sku, df_sku in df[df['d'] != 0].groupby('料品'):\n",
    "    display(df_sku)\n",
    "    "
   ]
  }
 ],
 "metadata": {
  "kernelspec": {
   "display_name": "Python 3",
   "language": "python",
   "name": "python3"
  },
  "language_info": {
   "codemirror_mode": {
    "name": "ipython",
    "version": 3
   },
   "file_extension": ".py",
   "mimetype": "text/x-python",
   "name": "python",
   "nbconvert_exporter": "python",
   "pygments_lexer": "ipython3",
   "version": "3.8.5-final"
  }
 },
 "nbformat": 4,
 "nbformat_minor": 4
}