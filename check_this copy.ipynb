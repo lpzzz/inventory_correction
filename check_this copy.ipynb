{
 "metadata": {
  "language_info": {
   "codemirror_mode": {
    "name": "ipython",
    "version": 3
   },
   "file_extension": ".py",
   "mimetype": "text/x-python",
   "name": "python",
   "nbconvert_exporter": "python",
   "pygments_lexer": "ipython3",
   "version": "3.8.3-final"
  },
  "orig_nbformat": 2,
  "kernelspec": {
   "name": "python3",
   "display_name": "Python 3"
  }
 },
 "nbformat": 4,
 "nbformat_minor": 2,
 "cells": [
  {
   "cell_type": "code",
   "execution_count": 31,
   "metadata": {},
   "outputs": [
    {
     "output_type": "display_data",
     "data": {
      "text/plain": "6     5\n7     7\n8    30\n9    23\ndtype: int64"
     },
     "metadata": {}
    },
    {
     "output_type": "display_data",
     "data": {
      "text/plain": "0    39\n1    46\n2    42\n3    48\n4    20\n5     4\ndtype: int64"
     },
     "metadata": {}
    }
   ],
   "source": [
    "import random as r\n",
    "import pandas as pd\n",
    "N = 10\n",
    "positions = list(range(N))\n",
    "amounts = [r.randint(1, 50) for p in positions]\n",
    "cut = r.randint(2, N-1)\n",
    "check_o = pd.Series(amounts[cut:], index=positions[cut:])\n",
    "check_i = pd.Series(amounts[:cut], index=positions[:cut])\n",
    "display(check_o, check_i)"
   ]
  },
  {
   "cell_type": "code",
   "execution_count": 34,
   "metadata": {},
   "outputs": [
    {
     "output_type": "stream",
     "name": "stdout",
     "text": [
      "盘出项列表\n8    30\n9    23\n7     7\n6     5\ndtype: int64\n\n盘入项列表\n3    48\n1    46\n2    42\n0    39\n4    20\n5     4\ndtype: int64\n\n需要盘点数量：134， 盘点方向：i\n从大到小贪心盘出：[(3, 48, 'i'), (1, 46, 'i')]\n如果盘点数量仍有剩余，找到最后一个数量充足的库位：(2, 40, 'i')\n\n消除盘点项以后，剩余移出项列表\n8    30\n9    23\n7     7\n6     5\ndtype: int64\n\n消除盘点项以后，剩余移入项列表\n2     2\n0    39\n4    20\n5     4\ndtype: int64\n\n"
     ]
    }
   ],
   "source": [
    "\n",
    "\n",
    "def check(o, i):\n",
    "    if o.sum() > i.sum():\n",
    "        difference = o.sum() - i.sum()\n",
    "        direction = 'o'\n",
    "        more = o\n",
    "    else:\n",
    "        difference = i.sum() - o.sum()\n",
    "        direction = 'i'\n",
    "        more = i\n",
    "\n",
    "    print(f'需要盘点数量：{difference}， 盘点方向：{direction}')\n",
    "\n",
    "    checks = list()\n",
    "    while difference >= more.iloc[0]:\n",
    "        position = more.index[0]\n",
    "        amount = more[position]\n",
    "        checks.append((position, amount, direction))\n",
    "        difference -= more.pop(position)\n",
    "        \n",
    "    print(f'从大到小贪心盘出：{checks}')\n",
    "\n",
    "\n",
    "    if difference > 0:\n",
    "        position = more[more >= difference].index[-1]\n",
    "        print(f'如果盘点数量仍有剩余，找到最后一个数量充足的库位：{(position, difference, direction)}')\n",
    "        checks.append((position, difference, direction))\n",
    "        if more[position] == difference:\n",
    "            more.pop(position)\n",
    "        else:\n",
    "            more[position] -= difference            \n",
    "            more.sort_values(ascending=False)    \n",
    "    return checks\n",
    "\n",
    "if check_o.sum() != check_i.sum():\n",
    "    o = check_o.copy().sort_values(ascending=False)\n",
    "    i = check_i.copy().sort_values(ascending=False)\n",
    "    print(f'盘出项列表\\n{o}\\n')\n",
    "    print(f'盘入项列表\\n{i}\\n')\n",
    "    checks = check(o, i)\n",
    "    print()\n",
    "    print(f'消除盘点项以后，剩余移出项列表\\n{o}\\n')\n",
    "    print(f'消除盘点项以后，剩余移入项列表\\n{i}\\n')\n",
    "\n"
   ]
  },
  {
   "cell_type": "code",
   "execution_count": null,
   "metadata": {},
   "outputs": [],
   "source": []
  }
 ]
}