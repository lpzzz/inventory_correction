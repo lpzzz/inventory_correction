{
 "metadata": {
  "language_info": {
   "codemirror_mode": {
    "name": "ipython",
    "version": 3
   },
   "file_extension": ".py",
   "mimetype": "text/x-python",
   "name": "python",
   "nbconvert_exporter": "python",
   "pygments_lexer": "ipython3",
   "version": "3.8.3-final"
  },
  "orig_nbformat": 2,
  "kernelspec": {
   "name": "python3",
   "display_name": "Python 3"
  }
 },
 "nbformat": 4,
 "nbformat_minor": 2,
 "cells": [
  {
   "cell_type": "code",
   "execution_count": 73,
   "metadata": {},
   "outputs": [],
   "source": [
    "import pandas as pd\n",
    "import os\n",
    "FILE = os.path.join(os.getcwd(), '11_14_check.xls')\n",
    "df0 = pd.read_excel(FILE, header=0)"
   ]
  },
  {
   "cell_type": "code",
   "execution_count": 76,
   "metadata": {},
   "outputs": [
    {
     "output_type": "display_data",
     "data": {
      "text/plain": "            料品                  品名    库位 批号  总数量    实际数量\n9    100501-05            柬埔寨茉莉香米5  4AH0  0  0.0     1.0\n21   100601-05  (红色）新米红曼哈浓香泰国茉莉香米5  4AH0  0  0.0     3.0\n80   101101-02             金太粮油粘王2  4AH0  0  0.0    10.0\n97   101104-85         金太粮有机米2.5*5  4A00  0  0.0    37.0\n118  101202-10          马坝龙三星油粘米10  4AH2  0  0.0    15.0\n125  101301-01           太粮靓虾王香软米1  4AH0  0  0.0    19.0\n162  101301-55         太粮靓虾王香软米2.5  4AH0  0  0.0     1.0\n221  101307-05           （西关）靓虾王米5  4AH0  0  0.0     1.0\n229  101308-02         （信鲜）靓虾王香软米2  4AH0  0  0.0     5.0\n249  101308-31      （信鲜）靓虾王香软米1*25  4AH1  0  0.0     9.0\n277  101312-55       (禾美)靓虾王香软米2.5  4AH0  0  0.0     8.0\n311  101402-04            米皇坊小农粘米4  4AH0  0  0.0     2.0\n325  101403-10          米皇坊桂尊香软米10  4B01  0  0.0    13.0\n337  101406-05           米皇坊山水丝苗米5  4A00  0  0.0     2.0\n345  101420-05            米皇坊珍珠香米5  4AH0  0  0.0     1.0\n355  101420-25           米皇坊珍珠香米25  4A02  0  0.0    20.0\n359  101420-35          米皇坊珍珠香米5*5  3A01  0  0.0   101.0\n465  103916-05              马坝银粘米5  4AH0  0  0.0     4.0\n483  104101-05           金稻鱼太粮家乐米5  4AH0  0  0.0     1.0\n528  105806-05            御泰坊茉莉香米5  4AH0  0  0.0     3.0\n580  107001-35           宫粥东北大米5*5  4A00  0  0.0    17.0\n602  107005-10           太粮良小町大米10  4A06  0  0.0  2163.0\n635  107012-05         良谷纪（稻花香2号）5  4AH0  0  0.0     1.0\n644  109001-43     珍の原TL.GABA大米0.3  4AH0  0  0.0    28.0\n648  150101-05          鸣象（尊桂）油粘米5  4AH0  0  0.0     1.0\n652  150101-10         鸣象（尊桂）油粘米10  4A02  0  0.0  2307.0\n768  180115-44               黑米0.4  4A00  0  0.0    10.0\n777  180116-44              薏苡仁0.4  4A00  0  0.0    16.0",
      "text/html": "<div>\n<style scoped>\n    .dataframe tbody tr th:only-of-type {\n        vertical-align: middle;\n    }\n\n    .dataframe tbody tr th {\n        vertical-align: top;\n    }\n\n    .dataframe thead th {\n        text-align: right;\n    }\n</style>\n<table border=\"1\" class=\"dataframe\">\n  <thead>\n    <tr style=\"text-align: right;\">\n      <th></th>\n      <th>料品</th>\n      <th>品名</th>\n      <th>库位</th>\n      <th>批号</th>\n      <th>总数量</th>\n      <th>实际数量</th>\n    </tr>\n  </thead>\n  <tbody>\n    <tr>\n      <th>9</th>\n      <td>100501-05</td>\n      <td>柬埔寨茉莉香米5</td>\n      <td>4AH0</td>\n      <td>0</td>\n      <td>0.0</td>\n      <td>1.0</td>\n    </tr>\n    <tr>\n      <th>21</th>\n      <td>100601-05</td>\n      <td>(红色）新米红曼哈浓香泰国茉莉香米5</td>\n      <td>4AH0</td>\n      <td>0</td>\n      <td>0.0</td>\n      <td>3.0</td>\n    </tr>\n    <tr>\n      <th>80</th>\n      <td>101101-02</td>\n      <td>金太粮油粘王2</td>\n      <td>4AH0</td>\n      <td>0</td>\n      <td>0.0</td>\n      <td>10.0</td>\n    </tr>\n    <tr>\n      <th>97</th>\n      <td>101104-85</td>\n      <td>金太粮有机米2.5*5</td>\n      <td>4A00</td>\n      <td>0</td>\n      <td>0.0</td>\n      <td>37.0</td>\n    </tr>\n    <tr>\n      <th>118</th>\n      <td>101202-10</td>\n      <td>马坝龙三星油粘米10</td>\n      <td>4AH2</td>\n      <td>0</td>\n      <td>0.0</td>\n      <td>15.0</td>\n    </tr>\n    <tr>\n      <th>125</th>\n      <td>101301-01</td>\n      <td>太粮靓虾王香软米1</td>\n      <td>4AH0</td>\n      <td>0</td>\n      <td>0.0</td>\n      <td>19.0</td>\n    </tr>\n    <tr>\n      <th>162</th>\n      <td>101301-55</td>\n      <td>太粮靓虾王香软米2.5</td>\n      <td>4AH0</td>\n      <td>0</td>\n      <td>0.0</td>\n      <td>1.0</td>\n    </tr>\n    <tr>\n      <th>221</th>\n      <td>101307-05</td>\n      <td>（西关）靓虾王米5</td>\n      <td>4AH0</td>\n      <td>0</td>\n      <td>0.0</td>\n      <td>1.0</td>\n    </tr>\n    <tr>\n      <th>229</th>\n      <td>101308-02</td>\n      <td>（信鲜）靓虾王香软米2</td>\n      <td>4AH0</td>\n      <td>0</td>\n      <td>0.0</td>\n      <td>5.0</td>\n    </tr>\n    <tr>\n      <th>249</th>\n      <td>101308-31</td>\n      <td>（信鲜）靓虾王香软米1*25</td>\n      <td>4AH1</td>\n      <td>0</td>\n      <td>0.0</td>\n      <td>9.0</td>\n    </tr>\n    <tr>\n      <th>277</th>\n      <td>101312-55</td>\n      <td>(禾美)靓虾王香软米2.5</td>\n      <td>4AH0</td>\n      <td>0</td>\n      <td>0.0</td>\n      <td>8.0</td>\n    </tr>\n    <tr>\n      <th>311</th>\n      <td>101402-04</td>\n      <td>米皇坊小农粘米4</td>\n      <td>4AH0</td>\n      <td>0</td>\n      <td>0.0</td>\n      <td>2.0</td>\n    </tr>\n    <tr>\n      <th>325</th>\n      <td>101403-10</td>\n      <td>米皇坊桂尊香软米10</td>\n      <td>4B01</td>\n      <td>0</td>\n      <td>0.0</td>\n      <td>13.0</td>\n    </tr>\n    <tr>\n      <th>337</th>\n      <td>101406-05</td>\n      <td>米皇坊山水丝苗米5</td>\n      <td>4A00</td>\n      <td>0</td>\n      <td>0.0</td>\n      <td>2.0</td>\n    </tr>\n    <tr>\n      <th>345</th>\n      <td>101420-05</td>\n      <td>米皇坊珍珠香米5</td>\n      <td>4AH0</td>\n      <td>0</td>\n      <td>0.0</td>\n      <td>1.0</td>\n    </tr>\n    <tr>\n      <th>355</th>\n      <td>101420-25</td>\n      <td>米皇坊珍珠香米25</td>\n      <td>4A02</td>\n      <td>0</td>\n      <td>0.0</td>\n      <td>20.0</td>\n    </tr>\n    <tr>\n      <th>359</th>\n      <td>101420-35</td>\n      <td>米皇坊珍珠香米5*5</td>\n      <td>3A01</td>\n      <td>0</td>\n      <td>0.0</td>\n      <td>101.0</td>\n    </tr>\n    <tr>\n      <th>465</th>\n      <td>103916-05</td>\n      <td>马坝银粘米5</td>\n      <td>4AH0</td>\n      <td>0</td>\n      <td>0.0</td>\n      <td>4.0</td>\n    </tr>\n    <tr>\n      <th>483</th>\n      <td>104101-05</td>\n      <td>金稻鱼太粮家乐米5</td>\n      <td>4AH0</td>\n      <td>0</td>\n      <td>0.0</td>\n      <td>1.0</td>\n    </tr>\n    <tr>\n      <th>528</th>\n      <td>105806-05</td>\n      <td>御泰坊茉莉香米5</td>\n      <td>4AH0</td>\n      <td>0</td>\n      <td>0.0</td>\n      <td>3.0</td>\n    </tr>\n    <tr>\n      <th>580</th>\n      <td>107001-35</td>\n      <td>宫粥东北大米5*5</td>\n      <td>4A00</td>\n      <td>0</td>\n      <td>0.0</td>\n      <td>17.0</td>\n    </tr>\n    <tr>\n      <th>602</th>\n      <td>107005-10</td>\n      <td>太粮良小町大米10</td>\n      <td>4A06</td>\n      <td>0</td>\n      <td>0.0</td>\n      <td>2163.0</td>\n    </tr>\n    <tr>\n      <th>635</th>\n      <td>107012-05</td>\n      <td>良谷纪（稻花香2号）5</td>\n      <td>4AH0</td>\n      <td>0</td>\n      <td>0.0</td>\n      <td>1.0</td>\n    </tr>\n    <tr>\n      <th>644</th>\n      <td>109001-43</td>\n      <td>珍の原TL.GABA大米0.3</td>\n      <td>4AH0</td>\n      <td>0</td>\n      <td>0.0</td>\n      <td>28.0</td>\n    </tr>\n    <tr>\n      <th>648</th>\n      <td>150101-05</td>\n      <td>鸣象（尊桂）油粘米5</td>\n      <td>4AH0</td>\n      <td>0</td>\n      <td>0.0</td>\n      <td>1.0</td>\n    </tr>\n    <tr>\n      <th>652</th>\n      <td>150101-10</td>\n      <td>鸣象（尊桂）油粘米10</td>\n      <td>4A02</td>\n      <td>0</td>\n      <td>0.0</td>\n      <td>2307.0</td>\n    </tr>\n    <tr>\n      <th>768</th>\n      <td>180115-44</td>\n      <td>黑米0.4</td>\n      <td>4A00</td>\n      <td>0</td>\n      <td>0.0</td>\n      <td>10.0</td>\n    </tr>\n    <tr>\n      <th>777</th>\n      <td>180116-44</td>\n      <td>薏苡仁0.4</td>\n      <td>4A00</td>\n      <td>0</td>\n      <td>0.0</td>\n      <td>16.0</td>\n    </tr>\n  </tbody>\n</table>\n</div>"
     },
     "metadata": {}
    },
    {
     "output_type": "display_data",
     "data": {
      "text/plain": "            料品           品名    库位            批号   总数量   实际数量\n0    100101-05   太粮王泰国茉莉香米5  4A00  191119006-18   4.0    4.0\n1    100101-05   太粮王泰国茉莉香米5  4AH0  191119006-18   3.0    3.0\n2    100101-25  太粮王泰国茉莉香米25  4AH5     200917050  10.0    0.0\n3    100101-25  太粮王泰国茉莉香米25  4AH4     200917050   0.0   10.0\n4    100101-25  太粮王泰国茉莉香米25  4AH5     201024003  40.0   40.0\n..         ...          ...   ...           ...   ...    ...\n772  180115-74     黑米0.4*30  4AH0     200908105   1.0    0.0\n773  180115-74     黑米0.4*30  4A00     200908101   0.0  158.0\n774  180115-74     黑米0.4*30  4AH1     200908105   0.0   24.0\n775  180115-74     黑米0.4*30  4A00     200908105   0.0    1.0\n776  180116-44       薏苡仁0.4  4AH0  200925073-01  16.0    0.0\n\n[750 rows x 6 columns]",
      "text/html": "<div>\n<style scoped>\n    .dataframe tbody tr th:only-of-type {\n        vertical-align: middle;\n    }\n\n    .dataframe tbody tr th {\n        vertical-align: top;\n    }\n\n    .dataframe thead th {\n        text-align: right;\n    }\n</style>\n<table border=\"1\" class=\"dataframe\">\n  <thead>\n    <tr style=\"text-align: right;\">\n      <th></th>\n      <th>料品</th>\n      <th>品名</th>\n      <th>库位</th>\n      <th>批号</th>\n      <th>总数量</th>\n      <th>实际数量</th>\n    </tr>\n  </thead>\n  <tbody>\n    <tr>\n      <th>0</th>\n      <td>100101-05</td>\n      <td>太粮王泰国茉莉香米5</td>\n      <td>4A00</td>\n      <td>191119006-18</td>\n      <td>4.0</td>\n      <td>4.0</td>\n    </tr>\n    <tr>\n      <th>1</th>\n      <td>100101-05</td>\n      <td>太粮王泰国茉莉香米5</td>\n      <td>4AH0</td>\n      <td>191119006-18</td>\n      <td>3.0</td>\n      <td>3.0</td>\n    </tr>\n    <tr>\n      <th>2</th>\n      <td>100101-25</td>\n      <td>太粮王泰国茉莉香米25</td>\n      <td>4AH5</td>\n      <td>200917050</td>\n      <td>10.0</td>\n      <td>0.0</td>\n    </tr>\n    <tr>\n      <th>3</th>\n      <td>100101-25</td>\n      <td>太粮王泰国茉莉香米25</td>\n      <td>4AH4</td>\n      <td>200917050</td>\n      <td>0.0</td>\n      <td>10.0</td>\n    </tr>\n    <tr>\n      <th>4</th>\n      <td>100101-25</td>\n      <td>太粮王泰国茉莉香米25</td>\n      <td>4AH5</td>\n      <td>201024003</td>\n      <td>40.0</td>\n      <td>40.0</td>\n    </tr>\n    <tr>\n      <th>...</th>\n      <td>...</td>\n      <td>...</td>\n      <td>...</td>\n      <td>...</td>\n      <td>...</td>\n      <td>...</td>\n    </tr>\n    <tr>\n      <th>772</th>\n      <td>180115-74</td>\n      <td>黑米0.4*30</td>\n      <td>4AH0</td>\n      <td>200908105</td>\n      <td>1.0</td>\n      <td>0.0</td>\n    </tr>\n    <tr>\n      <th>773</th>\n      <td>180115-74</td>\n      <td>黑米0.4*30</td>\n      <td>4A00</td>\n      <td>200908101</td>\n      <td>0.0</td>\n      <td>158.0</td>\n    </tr>\n    <tr>\n      <th>774</th>\n      <td>180115-74</td>\n      <td>黑米0.4*30</td>\n      <td>4AH1</td>\n      <td>200908105</td>\n      <td>0.0</td>\n      <td>24.0</td>\n    </tr>\n    <tr>\n      <th>775</th>\n      <td>180115-74</td>\n      <td>黑米0.4*30</td>\n      <td>4A00</td>\n      <td>200908105</td>\n      <td>0.0</td>\n      <td>1.0</td>\n    </tr>\n    <tr>\n      <th>776</th>\n      <td>180116-44</td>\n      <td>薏苡仁0.4</td>\n      <td>4AH0</td>\n      <td>200925073-01</td>\n      <td>16.0</td>\n      <td>0.0</td>\n    </tr>\n  </tbody>\n</table>\n<p>750 rows × 6 columns</p>\n</div>"
     },
     "metadata": {}
    },
    {
     "output_type": "display_data",
     "data": {
      "text/plain": "132608.0"
     },
     "metadata": {}
    },
    {
     "output_type": "display_data",
     "data": {
      "text/plain": "127983.0"
     },
     "metadata": {}
    }
   ],
   "source": [
    "df = df0[['料品', '品名', '库位', '批号', '总数量', '实际数量']].copy().fillna(0)\n",
    "display(df[df['批号'] == 0])\n",
    "df = df[df['批号'] != 0]\n",
    "display(df, df['总数量'].sum(), df['实际数量'].sum())"
   ]
  },
  {
   "cell_type": "code",
   "execution_count": 78,
   "metadata": {},
   "outputs": [
    {
     "output_type": "display_data",
     "data": {
      "text/plain": "                      sku   system    real    diff\n0           (禾美)靓虾王香软米2.5      8.0     0.0     8.0\n1   (红色）新米红曼哈浓香泰国茉莉香米1*20     25.0    27.0    -2.0\n2      (红色）新米红曼哈浓香泰国茉莉香米5      3.0     0.0     3.0\n3              今西利富客酒店米15    439.0   369.0    70.0\n4              喜之粮湖蟹卧田米10      1.0   129.0  -128.0\n5             喜之粮湖蟹卧田米5*5    128.0     0.0   128.0\n6               太粮良小町大米10   3856.0  1693.0  2163.0\n7         太粮良谷纪臻选东北大米10*2     29.0     0.0    29.0\n8               太粮靓虾王香软米1     19.0     0.0    19.0\n9              太粮靓虾王香软米10   9358.0  9938.0  -580.0\n10             太粮靓虾王香软米15   2143.0  2312.0  -169.0\n11            太粮靓虾王香软米2.5      1.0     0.0     1.0\n12              宫粥东北大米5*5    355.0   338.0    17.0\n13           宫粥（凤鸣）贡香米2.5     10.0     0.0    10.0\n14        宫粥（凤鸣）贡香米2.5*10    116.0   117.0    -1.0\n15                  小米0.4     30.0     9.0    21.0\n16               御泰坊茉莉香米5      3.0     0.0     3.0\n17               柬埔寨茉莉香米5      1.0     0.0     1.0\n18        珍の原TL.GABA大米0.3     28.0     0.0    28.0\n19                 稻虾软米15   4239.0  4686.0  -447.0\n20              米皇坊小农粘米10   1636.0  1637.0    -1.0\n21              米皇坊小农粘米15    161.0    21.0   140.0\n22               米皇坊小农粘米4      0.0     4.0    -4.0\n23             米皇坊小农粘米4*6    146.0   145.0     1.0\n24              米皇坊山水丝苗米5      2.0     0.0     2.0\n25             米皇坊桂尊香软米10     77.0    64.0    13.0\n26              米皇坊珍珠香米25    827.0   807.0    20.0\n27               米皇坊珍珠香米5      1.0     0.0     1.0\n28             米皇坊珍珠香米5*5    429.0   328.0   101.0\n29            良谷纪（稻花香2号）5      1.0     0.0     1.0\n30              荟京选靓虾王米10    204.0   232.0   -28.0\n31                 薏苡仁0.4     16.0     0.0    16.0\n32            金太粮有机米2.5*5     77.0    40.0    37.0\n33                金太粮油粘王2     10.0     0.0    10.0\n34              金稻鱼太粮家乐米5      1.0     0.0     1.0\n35              靓米皇丝苗米5*5      7.0     0.0     7.0\n36                 马坝银粘米5      4.0     0.0     4.0\n37             马坝龙三星油粘米10    133.0   118.0    15.0\n38             马坝龙五星油粘米10    784.0   847.0   -63.0\n39            鸣象（尊桂）油粘米10   3240.0   933.0  2307.0\n40             鸣象（尊桂）油粘米5      1.0     0.0     1.0\n41              鹰嘴香中国香米10    212.0   306.0   -94.0\n42               黄豆0.4*30     63.0    33.0    30.0\n43                  黑米0.4     20.0    10.0    10.0\n44          （促销）散装太粮靓虾王15   1403.0  1123.0   280.0\n45         （信鲜）靓虾王香软米1*25     25.0    16.0     9.0\n46           （信鲜）靓虾王香软米10   1482.0  1481.0     1.0\n47            （信鲜）靓虾王香软米2      5.0     0.0     5.0\n48             （红香）靓虾王米15   1560.0  1559.0     1.0\n49            （红香）靓虾王米5*5   2696.0  2697.0    -1.0\n50              （西关）靓虾王米5      1.0     0.0     1.0\n51               （靓虾）软米10  10106.0  9482.0   624.0\n52             （鲜仔）五星丝苗米5      4.0     0.0     4.0",
      "text/html": "<div>\n<style scoped>\n    .dataframe tbody tr th:only-of-type {\n        vertical-align: middle;\n    }\n\n    .dataframe tbody tr th {\n        vertical-align: top;\n    }\n\n    .dataframe thead th {\n        text-align: right;\n    }\n</style>\n<table border=\"1\" class=\"dataframe\">\n  <thead>\n    <tr style=\"text-align: right;\">\n      <th></th>\n      <th>sku</th>\n      <th>system</th>\n      <th>real</th>\n      <th>diff</th>\n    </tr>\n  </thead>\n  <tbody>\n    <tr>\n      <th>0</th>\n      <td>(禾美)靓虾王香软米2.5</td>\n      <td>8.0</td>\n      <td>0.0</td>\n      <td>8.0</td>\n    </tr>\n    <tr>\n      <th>1</th>\n      <td>(红色）新米红曼哈浓香泰国茉莉香米1*20</td>\n      <td>25.0</td>\n      <td>27.0</td>\n      <td>-2.0</td>\n    </tr>\n    <tr>\n      <th>2</th>\n      <td>(红色）新米红曼哈浓香泰国茉莉香米5</td>\n      <td>3.0</td>\n      <td>0.0</td>\n      <td>3.0</td>\n    </tr>\n    <tr>\n      <th>3</th>\n      <td>今西利富客酒店米15</td>\n      <td>439.0</td>\n      <td>369.0</td>\n      <td>70.0</td>\n    </tr>\n    <tr>\n      <th>4</th>\n      <td>喜之粮湖蟹卧田米10</td>\n      <td>1.0</td>\n      <td>129.0</td>\n      <td>-128.0</td>\n    </tr>\n    <tr>\n      <th>5</th>\n      <td>喜之粮湖蟹卧田米5*5</td>\n      <td>128.0</td>\n      <td>0.0</td>\n      <td>128.0</td>\n    </tr>\n    <tr>\n      <th>6</th>\n      <td>太粮良小町大米10</td>\n      <td>3856.0</td>\n      <td>1693.0</td>\n      <td>2163.0</td>\n    </tr>\n    <tr>\n      <th>7</th>\n      <td>太粮良谷纪臻选东北大米10*2</td>\n      <td>29.0</td>\n      <td>0.0</td>\n      <td>29.0</td>\n    </tr>\n    <tr>\n      <th>8</th>\n      <td>太粮靓虾王香软米1</td>\n      <td>19.0</td>\n      <td>0.0</td>\n      <td>19.0</td>\n    </tr>\n    <tr>\n      <th>9</th>\n      <td>太粮靓虾王香软米10</td>\n      <td>9358.0</td>\n      <td>9938.0</td>\n      <td>-580.0</td>\n    </tr>\n    <tr>\n      <th>10</th>\n      <td>太粮靓虾王香软米15</td>\n      <td>2143.0</td>\n      <td>2312.0</td>\n      <td>-169.0</td>\n    </tr>\n    <tr>\n      <th>11</th>\n      <td>太粮靓虾王香软米2.5</td>\n      <td>1.0</td>\n      <td>0.0</td>\n      <td>1.0</td>\n    </tr>\n    <tr>\n      <th>12</th>\n      <td>宫粥东北大米5*5</td>\n      <td>355.0</td>\n      <td>338.0</td>\n      <td>17.0</td>\n    </tr>\n    <tr>\n      <th>13</th>\n      <td>宫粥（凤鸣）贡香米2.5</td>\n      <td>10.0</td>\n      <td>0.0</td>\n      <td>10.0</td>\n    </tr>\n    <tr>\n      <th>14</th>\n      <td>宫粥（凤鸣）贡香米2.5*10</td>\n      <td>116.0</td>\n      <td>117.0</td>\n      <td>-1.0</td>\n    </tr>\n    <tr>\n      <th>15</th>\n      <td>小米0.4</td>\n      <td>30.0</td>\n      <td>9.0</td>\n      <td>21.0</td>\n    </tr>\n    <tr>\n      <th>16</th>\n      <td>御泰坊茉莉香米5</td>\n      <td>3.0</td>\n      <td>0.0</td>\n      <td>3.0</td>\n    </tr>\n    <tr>\n      <th>17</th>\n      <td>柬埔寨茉莉香米5</td>\n      <td>1.0</td>\n      <td>0.0</td>\n      <td>1.0</td>\n    </tr>\n    <tr>\n      <th>18</th>\n      <td>珍の原TL.GABA大米0.3</td>\n      <td>28.0</td>\n      <td>0.0</td>\n      <td>28.0</td>\n    </tr>\n    <tr>\n      <th>19</th>\n      <td>稻虾软米15</td>\n      <td>4239.0</td>\n      <td>4686.0</td>\n      <td>-447.0</td>\n    </tr>\n    <tr>\n      <th>20</th>\n      <td>米皇坊小农粘米10</td>\n      <td>1636.0</td>\n      <td>1637.0</td>\n      <td>-1.0</td>\n    </tr>\n    <tr>\n      <th>21</th>\n      <td>米皇坊小农粘米15</td>\n      <td>161.0</td>\n      <td>21.0</td>\n      <td>140.0</td>\n    </tr>\n    <tr>\n      <th>22</th>\n      <td>米皇坊小农粘米4</td>\n      <td>0.0</td>\n      <td>4.0</td>\n      <td>-4.0</td>\n    </tr>\n    <tr>\n      <th>23</th>\n      <td>米皇坊小农粘米4*6</td>\n      <td>146.0</td>\n      <td>145.0</td>\n      <td>1.0</td>\n    </tr>\n    <tr>\n      <th>24</th>\n      <td>米皇坊山水丝苗米5</td>\n      <td>2.0</td>\n      <td>0.0</td>\n      <td>2.0</td>\n    </tr>\n    <tr>\n      <th>25</th>\n      <td>米皇坊桂尊香软米10</td>\n      <td>77.0</td>\n      <td>64.0</td>\n      <td>13.0</td>\n    </tr>\n    <tr>\n      <th>26</th>\n      <td>米皇坊珍珠香米25</td>\n      <td>827.0</td>\n      <td>807.0</td>\n      <td>20.0</td>\n    </tr>\n    <tr>\n      <th>27</th>\n      <td>米皇坊珍珠香米5</td>\n      <td>1.0</td>\n      <td>0.0</td>\n      <td>1.0</td>\n    </tr>\n    <tr>\n      <th>28</th>\n      <td>米皇坊珍珠香米5*5</td>\n      <td>429.0</td>\n      <td>328.0</td>\n      <td>101.0</td>\n    </tr>\n    <tr>\n      <th>29</th>\n      <td>良谷纪（稻花香2号）5</td>\n      <td>1.0</td>\n      <td>0.0</td>\n      <td>1.0</td>\n    </tr>\n    <tr>\n      <th>30</th>\n      <td>荟京选靓虾王米10</td>\n      <td>204.0</td>\n      <td>232.0</td>\n      <td>-28.0</td>\n    </tr>\n    <tr>\n      <th>31</th>\n      <td>薏苡仁0.4</td>\n      <td>16.0</td>\n      <td>0.0</td>\n      <td>16.0</td>\n    </tr>\n    <tr>\n      <th>32</th>\n      <td>金太粮有机米2.5*5</td>\n      <td>77.0</td>\n      <td>40.0</td>\n      <td>37.0</td>\n    </tr>\n    <tr>\n      <th>33</th>\n      <td>金太粮油粘王2</td>\n      <td>10.0</td>\n      <td>0.0</td>\n      <td>10.0</td>\n    </tr>\n    <tr>\n      <th>34</th>\n      <td>金稻鱼太粮家乐米5</td>\n      <td>1.0</td>\n      <td>0.0</td>\n      <td>1.0</td>\n    </tr>\n    <tr>\n      <th>35</th>\n      <td>靓米皇丝苗米5*5</td>\n      <td>7.0</td>\n      <td>0.0</td>\n      <td>7.0</td>\n    </tr>\n    <tr>\n      <th>36</th>\n      <td>马坝银粘米5</td>\n      <td>4.0</td>\n      <td>0.0</td>\n      <td>4.0</td>\n    </tr>\n    <tr>\n      <th>37</th>\n      <td>马坝龙三星油粘米10</td>\n      <td>133.0</td>\n      <td>118.0</td>\n      <td>15.0</td>\n    </tr>\n    <tr>\n      <th>38</th>\n      <td>马坝龙五星油粘米10</td>\n      <td>784.0</td>\n      <td>847.0</td>\n      <td>-63.0</td>\n    </tr>\n    <tr>\n      <th>39</th>\n      <td>鸣象（尊桂）油粘米10</td>\n      <td>3240.0</td>\n      <td>933.0</td>\n      <td>2307.0</td>\n    </tr>\n    <tr>\n      <th>40</th>\n      <td>鸣象（尊桂）油粘米5</td>\n      <td>1.0</td>\n      <td>0.0</td>\n      <td>1.0</td>\n    </tr>\n    <tr>\n      <th>41</th>\n      <td>鹰嘴香中国香米10</td>\n      <td>212.0</td>\n      <td>306.0</td>\n      <td>-94.0</td>\n    </tr>\n    <tr>\n      <th>42</th>\n      <td>黄豆0.4*30</td>\n      <td>63.0</td>\n      <td>33.0</td>\n      <td>30.0</td>\n    </tr>\n    <tr>\n      <th>43</th>\n      <td>黑米0.4</td>\n      <td>20.0</td>\n      <td>10.0</td>\n      <td>10.0</td>\n    </tr>\n    <tr>\n      <th>44</th>\n      <td>（促销）散装太粮靓虾王15</td>\n      <td>1403.0</td>\n      <td>1123.0</td>\n      <td>280.0</td>\n    </tr>\n    <tr>\n      <th>45</th>\n      <td>（信鲜）靓虾王香软米1*25</td>\n      <td>25.0</td>\n      <td>16.0</td>\n      <td>9.0</td>\n    </tr>\n    <tr>\n      <th>46</th>\n      <td>（信鲜）靓虾王香软米10</td>\n      <td>1482.0</td>\n      <td>1481.0</td>\n      <td>1.0</td>\n    </tr>\n    <tr>\n      <th>47</th>\n      <td>（信鲜）靓虾王香软米2</td>\n      <td>5.0</td>\n      <td>0.0</td>\n      <td>5.0</td>\n    </tr>\n    <tr>\n      <th>48</th>\n      <td>（红香）靓虾王米15</td>\n      <td>1560.0</td>\n      <td>1559.0</td>\n      <td>1.0</td>\n    </tr>\n    <tr>\n      <th>49</th>\n      <td>（红香）靓虾王米5*5</td>\n      <td>2696.0</td>\n      <td>2697.0</td>\n      <td>-1.0</td>\n    </tr>\n    <tr>\n      <th>50</th>\n      <td>（西关）靓虾王米5</td>\n      <td>1.0</td>\n      <td>0.0</td>\n      <td>1.0</td>\n    </tr>\n    <tr>\n      <th>51</th>\n      <td>（靓虾）软米10</td>\n      <td>10106.0</td>\n      <td>9482.0</td>\n      <td>624.0</td>\n    </tr>\n    <tr>\n      <th>52</th>\n      <td>（鲜仔）五星丝苗米5</td>\n      <td>4.0</td>\n      <td>0.0</td>\n      <td>4.0</td>\n    </tr>\n  </tbody>\n</table>\n</div>"
     },
     "metadata": {}
    },
    {
     "output_type": "display_data",
     "data": {
      "text/plain": "46126.0"
     },
     "metadata": {}
    },
    {
     "output_type": "display_data",
     "data": {
      "text/plain": "7661.0"
     },
     "metadata": {}
    }
   ],
   "source": [
    "list_diff = list()\n",
    "for sku, df_sku in df.groupby('品名'):\n",
    "    system = df_sku['总数量'].sum()\n",
    "    real = df_sku['实际数量'].sum()\n",
    "    if system != real:\n",
    "        list_diff.append([sku, system, real, system - real])\n",
    "df_diff = pd.DataFrame(list_diff, columns=['sku', 'system', 'real', 'diff'])\n",
    "display(df_diff, df_diff['system'].sum(), df_diff['diff'].map(abs).sum())\n",
    "df_diff.to_csv('diff.csv')\n"
   ]
  },
  {
   "cell_type": "code",
   "execution_count": 81,
   "metadata": {},
   "outputs": [
    {
     "output_type": "display_data",
     "data": {
      "text/plain": "            料品           品名    库位            批号   总数量   实际数量\n0    100101-05   太粮王泰国茉莉香米5  4A00  191119006-18   4.0    4.0\n1    100101-05   太粮王泰国茉莉香米5  4AH0  191119006-18   3.0    3.0\n2    100101-25  太粮王泰国茉莉香米25  4AH5     200917050  10.0    0.0\n3    100101-25  太粮王泰国茉莉香米25  4AH4     200917050   0.0   10.0\n4    100101-25  太粮王泰国茉莉香米25  4AH5     201024003  40.0   40.0\n..         ...          ...   ...           ...   ...    ...\n771  180115-74     黑米0.4*30  4A00     200908105  39.0    0.0\n772  180115-74     黑米0.4*30  4AH0     200908105   1.0    0.0\n773  180115-74     黑米0.4*30  4A00     200908101   0.0  158.0\n774  180115-74     黑米0.4*30  4AH1     200908105   0.0   24.0\n775  180115-74     黑米0.4*30  4A00     200908105   0.0    1.0\n\n[599 rows x 6 columns]",
      "text/html": "<div>\n<style scoped>\n    .dataframe tbody tr th:only-of-type {\n        vertical-align: middle;\n    }\n\n    .dataframe tbody tr th {\n        vertical-align: top;\n    }\n\n    .dataframe thead th {\n        text-align: right;\n    }\n</style>\n<table border=\"1\" class=\"dataframe\">\n  <thead>\n    <tr style=\"text-align: right;\">\n      <th></th>\n      <th>料品</th>\n      <th>品名</th>\n      <th>库位</th>\n      <th>批号</th>\n      <th>总数量</th>\n      <th>实际数量</th>\n    </tr>\n  </thead>\n  <tbody>\n    <tr>\n      <th>0</th>\n      <td>100101-05</td>\n      <td>太粮王泰国茉莉香米5</td>\n      <td>4A00</td>\n      <td>191119006-18</td>\n      <td>4.0</td>\n      <td>4.0</td>\n    </tr>\n    <tr>\n      <th>1</th>\n      <td>100101-05</td>\n      <td>太粮王泰国茉莉香米5</td>\n      <td>4AH0</td>\n      <td>191119006-18</td>\n      <td>3.0</td>\n      <td>3.0</td>\n    </tr>\n    <tr>\n      <th>2</th>\n      <td>100101-25</td>\n      <td>太粮王泰国茉莉香米25</td>\n      <td>4AH5</td>\n      <td>200917050</td>\n      <td>10.0</td>\n      <td>0.0</td>\n    </tr>\n    <tr>\n      <th>3</th>\n      <td>100101-25</td>\n      <td>太粮王泰国茉莉香米25</td>\n      <td>4AH4</td>\n      <td>200917050</td>\n      <td>0.0</td>\n      <td>10.0</td>\n    </tr>\n    <tr>\n      <th>4</th>\n      <td>100101-25</td>\n      <td>太粮王泰国茉莉香米25</td>\n      <td>4AH5</td>\n      <td>201024003</td>\n      <td>40.0</td>\n      <td>40.0</td>\n    </tr>\n    <tr>\n      <th>...</th>\n      <td>...</td>\n      <td>...</td>\n      <td>...</td>\n      <td>...</td>\n      <td>...</td>\n      <td>...</td>\n    </tr>\n    <tr>\n      <th>771</th>\n      <td>180115-74</td>\n      <td>黑米0.4*30</td>\n      <td>4A00</td>\n      <td>200908105</td>\n      <td>39.0</td>\n      <td>0.0</td>\n    </tr>\n    <tr>\n      <th>772</th>\n      <td>180115-74</td>\n      <td>黑米0.4*30</td>\n      <td>4AH0</td>\n      <td>200908105</td>\n      <td>1.0</td>\n      <td>0.0</td>\n    </tr>\n    <tr>\n      <th>773</th>\n      <td>180115-74</td>\n      <td>黑米0.4*30</td>\n      <td>4A00</td>\n      <td>200908101</td>\n      <td>0.0</td>\n      <td>158.0</td>\n    </tr>\n    <tr>\n      <th>774</th>\n      <td>180115-74</td>\n      <td>黑米0.4*30</td>\n      <td>4AH1</td>\n      <td>200908105</td>\n      <td>0.0</td>\n      <td>24.0</td>\n    </tr>\n    <tr>\n      <th>775</th>\n      <td>180115-74</td>\n      <td>黑米0.4*30</td>\n      <td>4A00</td>\n      <td>200908105</td>\n      <td>0.0</td>\n      <td>1.0</td>\n    </tr>\n  </tbody>\n</table>\n<p>599 rows × 6 columns</p>\n</div>"
     },
     "metadata": {}
    },
    {
     "output_type": "display_data",
     "data": {
      "text/plain": "86482.0"
     },
     "metadata": {}
    },
    {
     "output_type": "display_data",
     "data": {
      "text/plain": "86482.0"
     },
     "metadata": {}
    }
   ],
   "source": [
    "df_clear = df[~ df['品名'].isin(df_diff['sku'])]\n",
    "display(df_clear, df_clear['总数量'].sum(), df_clear['实际数量'].sum())"
   ]
  }
 ]
}